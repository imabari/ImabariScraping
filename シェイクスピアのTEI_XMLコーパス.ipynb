{
  "nbformat": 4,
  "nbformat_minor": 0,
  "metadata": {
    "colab": {
      "provenance": [],
      "authorship_tag": "ABX9TyNdM5HfCiulam/p1eMR8j3R",
      "include_colab_link": true
    },
    "kernelspec": {
      "name": "python3",
      "display_name": "Python 3"
    },
    "language_info": {
      "name": "python"
    }
  },
  "cells": [
    {
      "cell_type": "markdown",
      "metadata": {
        "id": "view-in-github",
        "colab_type": "text"
      },
      "source": [
        "<a href=\"https://colab.research.google.com/github/imabari/ImabariScraping/blob/master/%E3%82%B7%E3%82%A7%E3%82%A4%E3%82%AF%E3%82%B9%E3%83%94%E3%82%A2%E3%81%AETEI_XML%E3%82%B3%E3%83%BC%E3%83%91%E3%82%B9.ipynb\" target=\"_parent\"><img src=\"https://colab.research.google.com/assets/colab-badge.svg\" alt=\"Open In Colab\"/></a>"
      ]
    },
    {
      "cell_type": "markdown",
      "source": [
        "# ダウンロード"
      ],
      "metadata": {
        "id": "si7R4x7g27Yw"
      }
    },
    {
      "cell_type": "code",
      "execution_count": null,
      "metadata": {
        "id": "ynDvzylJdW3p"
      },
      "outputs": [],
      "source": [
        "!wget \"https://github.com/martinmueller39/FolgerShakespeareTokenized/archive/refs/heads/master.zip\"\n",
        "!unzip /content/master.zip"
      ]
    },
    {
      "cell_type": "code",
      "source": [
        "from lxml import etree"
      ],
      "metadata": {
        "id": "m8MNQarMdbo2"
      },
      "execution_count": null,
      "outputs": []
    },
    {
      "cell_type": "code",
      "source": [
        "import pathlib"
      ],
      "metadata": {
        "id": "yGzlmJw9fuvh"
      },
      "execution_count": null,
      "outputs": []
    },
    {
      "cell_type": "code",
      "source": [
        "import pandas as pd"
      ],
      "metadata": {
        "id": "BOskTEZnzymA"
      },
      "execution_count": null,
      "outputs": []
    },
    {
      "cell_type": "code",
      "source": [
        "ns = {\"tei\": \"http://www.tei-c.org/ns/1.0\"}"
      ],
      "metadata": {
        "id": "d6nvCRJJeQjH"
      },
      "execution_count": null,
      "outputs": []
    },
    {
      "cell_type": "markdown",
      "source": [
        "# 2.XMLのデータをパースしてみる"
      ],
      "metadata": {
        "id": "GpseZJuk9kRM"
      }
    },
    {
      "cell_type": "code",
      "source": [
        "tree = etree.parse(\"/content/FolgerShakespeareTokenized-master/Ham.xml\")\n",
        "root = tree.getroot()"
      ],
      "metadata": {
        "id": "ukhADGCbdbl2"
      },
      "execution_count": null,
      "outputs": []
    },
    {
      "cell_type": "code",
      "source": [
        "for elem in root.iter():\n",
        "    print(elem.text)"
      ],
      "metadata": {
        "id": "Ngl0Rj1l83W1"
      },
      "execution_count": null,
      "outputs": []
    },
    {
      "cell_type": "markdown",
      "source": [
        "# 3.特定のタグの中身だけを表示する "
      ],
      "metadata": {
        "id": "c6Q_avnp1F12"
      }
    },
    {
      "cell_type": "code",
      "source": [
        "tag = root.xpath(\"//tei:titleStmt[1]\", namespaces=ns)[0]"
      ],
      "metadata": {
        "id": "OSxCZ170loLY"
      },
      "execution_count": null,
      "outputs": []
    },
    {
      "cell_type": "code",
      "source": [
        "# タグ確認\n",
        "print(etree.tostring(tag, pretty_print=True).decode())"
      ],
      "metadata": {
        "id": "yY-f6ZUdlWmP"
      },
      "execution_count": null,
      "outputs": []
    },
    {
      "cell_type": "code",
      "source": [
        "for elem in tag.iter():\n",
        "    print(elem.text)"
      ],
      "metadata": {
        "id": "1A1nX2p-_hE_"
      },
      "execution_count": null,
      "outputs": []
    },
    {
      "cell_type": "code",
      "source": [
        "tag.xpath(\".//text()\")"
      ],
      "metadata": {
        "id": "6GBNbu1gdbr3"
      },
      "execution_count": null,
      "outputs": []
    },
    {
      "cell_type": "markdown",
      "source": [
        "## 3.1.タイトル一覧を表示する"
      ],
      "metadata": {
        "id": "kDB7JuuWf6vo"
      }
    },
    {
      "cell_type": "code",
      "source": [
        "for p in pathlib.Path(\"/content/FolgerShakespeareTokenized-master\").glob(\"*.xml\"):\n",
        "\n",
        "    tree = etree.parse(p)\n",
        "    root = tree.getroot()\n",
        "\n",
        "    title = root.xpath(\"//tei:fileDesc/tei:titleStmt/tei:title/text()\", namespaces=ns)\n",
        "\n",
        "    print(title)"
      ],
      "metadata": {
        "id": "rpUNgaK9g8gY"
      },
      "execution_count": null,
      "outputs": []
    },
    {
      "cell_type": "markdown",
      "source": [
        "## ファイルパスとタイトル"
      ],
      "metadata": {
        "id": "4KXoz6uVriTF"
      }
    },
    {
      "cell_type": "code",
      "source": [
        "for p in pathlib.Path(\"/content/FolgerShakespeareTokenized-master\").glob(\"*.xml\"):\n",
        "\n",
        "    tree = etree.parse(p)\n",
        "    root = tree.getroot()\n",
        "\n",
        "    title = root.xpath(\"//tei:fileDesc/tei:titleStmt/tei:title/text()\", namespaces=ns)[0]\n",
        "\n",
        "    print(str(p), title)"
      ],
      "metadata": {
        "id": "7UMa5DZbdbuv"
      },
      "execution_count": null,
      "outputs": []
    },
    {
      "cell_type": "markdown",
      "source": [
        "## ファイル名とタイトル"
      ],
      "metadata": {
        "id": "sYcmqjlYrY1k"
      }
    },
    {
      "cell_type": "code",
      "source": [
        "for p in pathlib.Path(\"/content/FolgerShakespeareTokenized-master\").glob(\"*.xml\"):\n",
        "\n",
        "    tree = etree.parse(p)\n",
        "    root = tree.getroot()\n",
        "\n",
        "    title = root.xpath(\"//tei:fileDesc/tei:titleStmt/tei:title/text()\", namespaces=ns)[0]\n",
        "\n",
        "    print(str(p.name), title)"
      ],
      "metadata": {
        "id": "iqSAUKZ_hDvz"
      },
      "execution_count": null,
      "outputs": []
    },
    {
      "cell_type": "markdown",
      "source": [
        "# 4.単語数を取得する"
      ],
      "metadata": {
        "id": "yZ2WF0-hrSJT"
      }
    },
    {
      "cell_type": "code",
      "source": [
        "for p in pathlib.Path(\"/content/FolgerShakespeareTokenized-master\").glob(\"*.xml\"):\n",
        "\n",
        "    tree = etree.parse(p)\n",
        "    root = tree.getroot()\n",
        "\n",
        "    title = root.xpath(\"//tei:fileDesc/tei:titleStmt/tei:title/text()\", namespaces=ns)[0]\n",
        "\n",
        "    sentences = len(root.xpath(\"//tei:l\", namespaces=ns))\n",
        "    word = len(root.xpath(\"//tei:w\", namespaces=ns))\n",
        "\n",
        "    print(str(p.name), title, sentences, word)"
      ],
      "metadata": {
        "id": "LYJUphGtdbxu"
      },
      "execution_count": null,
      "outputs": []
    },
    {
      "cell_type": "markdown",
      "source": [
        "## 4.1.一つの韻律詩<l>あたりの単語数を数えてみる"
      ],
      "metadata": {
        "id": "KaIw3MYjsz6y"
      }
    },
    {
      "cell_type": "code",
      "source": [
        "for p in pathlib.Path(\"/content/FolgerShakespeareTokenized-master\").glob(\"*.xml\"):\n",
        "\n",
        "    tree = etree.parse(p)\n",
        "    root = tree.getroot()\n",
        "\n",
        "    title = root.xpath(\"//tei:fileDesc/tei:titleStmt/tei:title/text()\", namespaces=ns)[0]\n",
        "\n",
        "    sentences = len(root.xpath(\"//tei:l\", namespaces=ns))\n",
        "    word = len(root.xpath(\"//tei:l/tei:w\", namespaces=ns))\n",
        "\n",
        "    print(str(p.name), title, sentences, word, word / sentences)"
      ],
      "metadata": {
        "id": "f5pSx58ysVnb"
      },
      "execution_count": null,
      "outputs": []
    },
    {
      "cell_type": "markdown",
      "source": [
        "# 5.各ファイルにおけるbe動詞の数を数えてみる"
      ],
      "metadata": {
        "id": "0_BOX13cs8pw"
      }
    },
    {
      "cell_type": "code",
      "source": [
        "for p in pathlib.Path(\"/content/FolgerShakespeareTokenized-master\").glob(\"*.xml\"):\n",
        "\n",
        "    tree = etree.parse(p)\n",
        "    root = tree.getroot()\n",
        "\n",
        "    title = root.xpath(\"//tei:fileDesc/tei:titleStmt/tei:title/text()\", namespaces=ns)[0]\n",
        "\n",
        "    bes = root.xpath(\"//tei:w[@lemma='be']\", namespaces=ns)\n",
        "\n",
        "    print(str(p.name), title, len(bes))"
      ],
      "metadata": {
        "id": "fcoDVa3Idb0j"
      },
      "execution_count": null,
      "outputs": []
    },
    {
      "cell_type": "markdown",
      "source": [
        "## 5.1.各ファイルにおける動詞の数を数えてみる"
      ],
      "metadata": {
        "id": "OFM8eDujv59l"
      }
    },
    {
      "cell_type": "code",
      "source": [
        "for p in pathlib.Path(\"/content/FolgerShakespeareTokenized-master\").glob(\"*.xml\"):\n",
        "\n",
        "    tree = etree.parse(p)\n",
        "    root = tree.getroot()\n",
        "\n",
        "    title = root.xpath(\"//tei:fileDesc/tei:titleStmt/tei:title/text()\", namespaces=ns)[0]\n",
        "\n",
        "    bes = root.xpath(\"//tei:w[@lemma='be']\", namespaces=ns)\n",
        "    verbs = root.xpath(\"//tei:w[starts-with(@pos, 'v')]\", namespaces=ns)\n",
        "\n",
        "    print(str(p.name), title, len(bes), len(verbs))"
      ],
      "metadata": {
        "id": "AVAznJv_db3t"
      },
      "execution_count": null,
      "outputs": []
    },
    {
      "cell_type": "markdown",
      "source": [
        "## 5.2.各ファイルにおける動詞の中でのbe動詞の割合を数えてみる"
      ],
      "metadata": {
        "id": "sDh06v2HwL1Q"
      }
    },
    {
      "cell_type": "code",
      "source": [
        "for p in pathlib.Path(\"/content/FolgerShakespeareTokenized-master\").glob(\"*.xml\"):\n",
        "\n",
        "    tree = etree.parse(p)\n",
        "    root = tree.getroot()\n",
        "\n",
        "    title = root.xpath(\"//tei:fileDesc/tei:titleStmt/tei:title/text()\", namespaces=ns)[0]\n",
        "\n",
        "    bes = root.xpath(\"//tei:w[@lemma='be']\", namespaces=ns)\n",
        "    verbs = root.xpath(\"//tei:w[starts-with(@pos, 'v')]\", namespaces=ns)\n",
        "\n",
        "    bes_count = len(bes)\n",
        "    verbs_count = len(verbs)\n",
        "\n",
        "    bv_ratio = bes_count / verbs_count * 100\n",
        "\n",
        "    print(str(p.name), title, bes_count, verbs_count, f\"{bv_ratio}%\")"
      ],
      "metadata": {
        "id": "efSNAdeUwLnA"
      },
      "execution_count": null,
      "outputs": []
    },
    {
      "cell_type": "markdown",
      "source": [
        "## 5.3.各ファイルにおける動詞の中でのbe動詞とdo動詞の割合を数えてみる"
      ],
      "metadata": {
        "id": "YB9rDH3DxMw_"
      }
    },
    {
      "cell_type": "code",
      "source": [
        "for p in pathlib.Path(\"/content/FolgerShakespeareTokenized-master\").glob(\"*.xml\"):\n",
        "\n",
        "    tree = etree.parse(p)\n",
        "    root = tree.getroot()\n",
        "\n",
        "    title = root.xpath(\"//tei:fileDesc/tei:titleStmt/tei:title/text()\", namespaces=ns)[0]\n",
        "\n",
        "    bes = root.xpath(\"//tei:w[@lemma='be']\", namespaces=ns)\n",
        "    verbs = root.xpath(\"//tei:w[starts-with(@pos, 'v')]\", namespaces=ns)\n",
        "\n",
        "    bes_count = len(bes)\n",
        "    verbs_count = len(verbs)\n",
        "\n",
        "    bv_ratio = bes_count / verbs_count * 100\n",
        "\n",
        "    dos = root.xpath(\"//tei:w[@lemma='do']\", namespaces=ns)\n",
        "    dos_count = len(dos)\n",
        "    \n",
        "    dv_ratio = dos_count / verbs_count * 100\n",
        "\n",
        "    print(str(p.name), title, f\"{round(bv_ratio, 2)}%\", f\"{round(dv_ratio, 2)}%\")"
      ],
      "metadata": {
        "id": "FRwfPPM4xMUG"
      },
      "execution_count": null,
      "outputs": []
    },
    {
      "cell_type": "markdown",
      "source": [
        "## 5.4 グラフ化"
      ],
      "metadata": {
        "id": "hH3oTdn34QeD"
      }
    },
    {
      "cell_type": "code",
      "source": [
        "data = []\n",
        "\n",
        "for p in pathlib.Path(\"/content/FolgerShakespeareTokenized-master\").glob(\"*.xml\"):\n",
        "\n",
        "    tree = etree.parse(p)\n",
        "    root = tree.getroot()\n",
        "\n",
        "    title = root.xpath(\"//tei:fileDesc/tei:titleStmt/tei:title/text()\", namespaces=ns)[0]\n",
        "\n",
        "    bes = root.xpath(\"//tei:w[@lemma='be']\", namespaces=ns)\n",
        "    verbs = root.xpath(\"//tei:w[starts-with(@pos, 'v')]\", namespaces=ns)\n",
        "    dos = root.xpath(\"//tei:w[@lemma='do']\", namespaces=ns)\n",
        "\n",
        "    data.append({\"title\": title, \"bes\": len(bes), \"verbs\": len(verbs), \"dos\": len(dos)})"
      ],
      "metadata": {
        "id": "vNNfanYL3Ya3"
      },
      "execution_count": null,
      "outputs": []
    },
    {
      "cell_type": "code",
      "source": [
        "df = pd.DataFrame(data)"
      ],
      "metadata": {
        "id": "G4WJ56ME4LeI"
      },
      "execution_count": null,
      "outputs": []
    },
    {
      "cell_type": "code",
      "source": [
        "df[\"bv_ratio\"] = (df[\"bes\"] / df[\"verbs\"] * 100).round(2)\n",
        "df[\"dv_ratio\"] = (df[\"dos\"] / df[\"verbs\"] * 100).round(2)"
      ],
      "metadata": {
        "id": "fY-F78044Z7W"
      },
      "execution_count": null,
      "outputs": []
    },
    {
      "cell_type": "code",
      "source": [
        "df"
      ],
      "metadata": {
        "id": "9roSH1eG43dc"
      },
      "execution_count": null,
      "outputs": []
    },
    {
      "cell_type": "code",
      "source": [
        "df.plot.bar(x=\"title\", y=[\"bv_ratio\", \"dv_ratio\"], stacked=False, figsize=(25, 10))"
      ],
      "metadata": {
        "id": "HSLykm475Hz6"
      },
      "execution_count": null,
      "outputs": []
    },
    {
      "cell_type": "markdown",
      "source": [
        "# おまけ"
      ],
      "metadata": {
        "id": "1GbDUfcDzCYw"
      }
    },
    {
      "cell_type": "code",
      "source": [
        "from tqdm.notebook import tqdm"
      ],
      "metadata": {
        "id": "cdtcQXEhzR3_"
      },
      "execution_count": null,
      "outputs": []
    },
    {
      "cell_type": "markdown",
      "source": [
        "## Pandas"
      ],
      "metadata": {
        "id": "xRQyj_XxREgo"
      }
    },
    {
      "cell_type": "code",
      "source": [
        "se_pos = []\n",
        "\n",
        "files = pathlib.Path(\"/content/FolgerShakespeareTokenized-master\").glob(\"*.xml\")\n",
        "\n",
        "for p in tqdm(files):\n",
        "\n",
        "    tree = etree.parse(p)\n",
        "    root = tree.getroot()\n",
        "\n",
        "    verbs = root.xpath(\"//tei:w[starts-with(@pos, 'v')]/@pos\", namespaces=ns)\n",
        "\n",
        "    se_pos.append(pd.Series(verbs))"
      ],
      "metadata": {
        "id": "-C4Wbeq7zB0v"
      },
      "execution_count": null,
      "outputs": []
    },
    {
      "cell_type": "code",
      "source": [
        "pd.concat(se_pos).value_counts()"
      ],
      "metadata": {
        "id": "agpuqwyP0Mcv"
      },
      "execution_count": null,
      "outputs": []
    },
    {
      "cell_type": "markdown",
      "source": [
        "## collections"
      ],
      "metadata": {
        "id": "KzM2PouJAxui"
      }
    },
    {
      "cell_type": "code",
      "source": [
        "import collections"
      ],
      "metadata": {
        "id": "iiqJOwq2_l4E"
      },
      "execution_count": null,
      "outputs": []
    },
    {
      "cell_type": "code",
      "source": [
        "pos = []\n",
        "\n",
        "files = pathlib.Path(\"/content/FolgerShakespeareTokenized-master\").glob(\"*.xml\")\n",
        "\n",
        "for p in tqdm(files):\n",
        "\n",
        "    tree = etree.parse(p)\n",
        "    root = tree.getroot()\n",
        "\n",
        "    verbs = root.xpath(\"//tei:w[starts-with(@pos, 'v')]/@pos\", namespaces=ns)\n",
        "\n",
        "    pos.extend(verbs)"
      ],
      "metadata": {
        "id": "_1bDu6S2AOvK"
      },
      "execution_count": null,
      "outputs": []
    },
    {
      "cell_type": "code",
      "source": [
        "c = collections.Counter(pos)\n",
        "c"
      ],
      "metadata": {
        "id": "XMQ4YbzdAE7E"
      },
      "execution_count": null,
      "outputs": []
    }
  ]
}