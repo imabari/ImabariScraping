{
  "nbformat": 4,
  "nbformat_minor": 0,
  "metadata": {
    "colab": {
      "name": "マイナポータル医療費通知CSV変換.ipynb",
      "provenance": [],
      "authorship_tag": "ABX9TyOoU+8QI/zYpWtniI9V0Yab",
      "include_colab_link": true
    },
    "kernelspec": {
      "name": "python3",
      "display_name": "Python 3"
    },
    "language_info": {
      "name": "python"
    }
  },
  "cells": [
    {
      "cell_type": "markdown",
      "metadata": {
        "id": "view-in-github",
        "colab_type": "text"
      },
      "source": [
        "<a href=\"https://colab.research.google.com/github/imabari/ImabariScraping/blob/master/%E3%83%9E%E3%82%A4%E3%83%8A%E3%83%9D%E3%83%BC%E3%82%BF%E3%83%AB%E5%8C%BB%E7%99%82%E8%B2%BB%E9%80%9A%E7%9F%A5CSV%E5%A4%89%E6%8F%9B.ipynb\" target=\"_parent\"><img src=\"https://colab.research.google.com/assets/colab-badge.svg\" alt=\"Open In Colab\"/></a>"
      ]
    },
    {
      "cell_type": "markdown",
      "source": [
        "# 操作方法\n",
        "\n",
        "1. メニューから「ランタイム」－「すべてのセルを実行」をクリック\n",
        "2. 参照ボタンが表示されたらCSVファイルをアップロード\n",
        "3. 変換後のCSVが自動でダウンロード"
      ],
      "metadata": {
        "id": "w4RBow3oTXFT"
      }
    },
    {
      "cell_type": "markdown",
      "source": [
        "# CSVファイルをアップロード"
      ],
      "metadata": {
        "id": "60SvVcpzQ3QI"
      }
    },
    {
      "cell_type": "code",
      "source": [
        "from google.colab import files\n",
        "\n",
        "uploaded = files.upload()\n",
        "\n",
        "for fn in uploaded.keys():\n",
        "  print('User uploaded file \"{name}\" with length {length} bytes'.format(\n",
        "      name=fn, length=len(uploaded[fn])))"
      ],
      "metadata": {
        "id": "uHLmfcRdQ_W6"
      },
      "execution_count": null,
      "outputs": []
    },
    {
      "cell_type": "markdown",
      "source": [
        "↑　参照ボタンをクリックしてCSVファイルを指定してください"
      ],
      "metadata": {
        "id": "8jSQYYslSmuy"
      }
    },
    {
      "cell_type": "markdown",
      "source": [
        "# プログラム"
      ],
      "metadata": {
        "id": "zYVzmhncRDyy"
      }
    },
    {
      "cell_type": "code",
      "execution_count": null,
      "metadata": {
        "id": "kqwAyKET-gGE"
      },
      "outputs": [],
      "source": [
        "import pandas as pd"
      ]
    },
    {
      "cell_type": "code",
      "source": [
        "df0 = pd.read_csv(fn, names=[\"title\", \"value\"])"
      ],
      "metadata": {
        "id": "2gy5svRpBc7Z"
      },
      "execution_count": null,
      "outputs": []
    },
    {
      "cell_type": "code",
      "source": [
        "# 内容確認\n",
        "df0"
      ],
      "metadata": {
        "id": "pLmPA-QhAUEf"
      },
      "execution_count": null,
      "outputs": []
    },
    {
      "cell_type": "code",
      "source": [
        "dfg = df0.groupby((df0[\"title\"] == \"診療年月日\").cumsum())"
      ],
      "metadata": {
        "id": "G6HjT-9DA7tg"
      },
      "execution_count": null,
      "outputs": []
    },
    {
      "cell_type": "code",
      "source": [
        "dfs = []\n",
        "\n",
        "dfg = df0.groupby((df0[\"title\"] == \"診療年月日\").cumsum())\n",
        "\n",
        "for _, tmp in dfg:\n",
        "\n",
        "    tmp.set_index(\"title\", inplace=True)\n",
        "    dfs.append(tmp.T)"
      ],
      "metadata": {
        "id": "7VKjjrctPYuL"
      },
      "execution_count": null,
      "outputs": []
    },
    {
      "cell_type": "code",
      "source": [
        "df = pd.concat(dfs).reset_index(drop=True)"
      ],
      "metadata": {
        "id": "ZT9ZU4ZOGdxZ"
      },
      "execution_count": null,
      "outputs": []
    },
    {
      "cell_type": "code",
      "source": [
        "df.index += 1"
      ],
      "metadata": {
        "id": "tzcuMWE_SbO2"
      },
      "execution_count": null,
      "outputs": []
    },
    {
      "cell_type": "markdown",
      "source": [
        "# 変換結果"
      ],
      "metadata": {
        "id": "njX_jhOZTI39"
      }
    },
    {
      "cell_type": "code",
      "source": [
        "df"
      ],
      "metadata": {
        "id": "LYrTUtkwPteL"
      },
      "execution_count": null,
      "outputs": []
    },
    {
      "cell_type": "markdown",
      "source": [
        "# CSVファイルダウンロード"
      ],
      "metadata": {
        "id": "VoTc8BFoRU6d"
      }
    },
    {
      "cell_type": "code",
      "source": [
        "df.to_csv(\"data.csv\", encoding=\"utf_8_sig\")"
      ],
      "metadata": {
        "id": "KKZATxmVH6N-"
      },
      "execution_count": null,
      "outputs": []
    },
    {
      "cell_type": "code",
      "source": [
        "files.download(\"data.csv\")"
      ],
      "metadata": {
        "id": "s4PXuXwnRQAS"
      },
      "execution_count": null,
      "outputs": []
    },
    {
      "cell_type": "markdown",
      "source": [
        "自動でファイルがダウンロードされますので\n",
        "ファイル保存後内容確認ください"
      ],
      "metadata": {
        "id": "EW6nBPGySwnj"
      }
    }
  ]
}