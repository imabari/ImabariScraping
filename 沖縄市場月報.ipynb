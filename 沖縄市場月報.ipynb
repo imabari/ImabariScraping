{
  "nbformat": 4,
  "nbformat_minor": 0,
  "metadata": {
    "colab": {
      "name": "沖縄市場月報.ipynb",
      "provenance": [],
      "authorship_tag": "ABX9TyOEGdJE5l8sirw406IeNi3Q",
      "include_colab_link": true
    },
    "kernelspec": {
      "name": "python3",
      "display_name": "Python 3"
    }
  },
  "cells": [
    {
      "cell_type": "markdown",
      "metadata": {
        "id": "view-in-github",
        "colab_type": "text"
      },
      "source": [
        "<a href=\"https://colab.research.google.com/github/imabari/ImabariScraping/blob/master/%E6%B2%96%E7%B8%84%E5%B8%82%E5%A0%B4%E6%9C%88%E5%A0%B1.ipynb\" target=\"_parent\"><img src=\"https://colab.research.google.com/assets/colab-badge.svg\" alt=\"Open In Colab\"/></a>"
      ]
    },
    {
      "cell_type": "code",
      "metadata": {
        "colab": {
          "base_uri": "https://localhost:8080/"
        },
        "id": "iqLJ9VkcUozq",
        "outputId": "c51811d5-bae0-4a29-ab89-49fde0cce26c"
      },
      "source": [
        "!pip install pdfplumber"
      ],
      "execution_count": 1,
      "outputs": [
        {
          "output_type": "stream",
          "text": [
            "Collecting pdfplumber\n",
            "\u001b[?25l  Downloading https://files.pythonhosted.org/packages/8c/27/7e2723bfe422fa6af61c1bf05cc8d2bb4128e169ab8ffffc01f3cb1e8ace/pdfplumber-0.5.25.tar.gz (42kB)\n",
            "\u001b[K     |████████████████████████████████| 51kB 4.0MB/s \n",
            "\u001b[?25hCollecting pdfminer.six==20200517\n",
            "\u001b[?25l  Downloading https://files.pythonhosted.org/packages/b0/c0/ef1c8758bbd86edb10b5443700aac97d0ba27a9ca2e7696db8cd1fdbd5a8/pdfminer.six-20200517-py3-none-any.whl (5.6MB)\n",
            "\u001b[K     |████████████████████████████████| 5.6MB 13.9MB/s \n",
            "\u001b[?25hRequirement already satisfied: Pillow>=7.0.0 in /usr/local/lib/python3.6/dist-packages (from pdfplumber) (7.0.0)\n",
            "Collecting Wand\n",
            "\u001b[?25l  Downloading https://files.pythonhosted.org/packages/98/08/096b76e9211ca5ef338791100b76375555cb4082a53496b1c1d5897ee13c/Wand-0.6.5-py2.py3-none-any.whl (138kB)\n",
            "\u001b[K     |████████████████████████████████| 143kB 42.1MB/s \n",
            "\u001b[?25hRequirement already satisfied: sortedcontainers in /usr/local/lib/python3.6/dist-packages (from pdfminer.six==20200517->pdfplumber) (2.3.0)\n",
            "Requirement already satisfied: chardet; python_version > \"3.0\" in /usr/local/lib/python3.6/dist-packages (from pdfminer.six==20200517->pdfplumber) (3.0.4)\n",
            "Collecting pycryptodome\n",
            "\u001b[?25l  Downloading https://files.pythonhosted.org/packages/ad/16/9627ab0493894a11c68e46000dbcc82f578c8ff06bc2980dcd016aea9bd3/pycryptodome-3.10.1-cp35-abi3-manylinux2010_x86_64.whl (1.9MB)\n",
            "\u001b[K     |████████████████████████████████| 1.9MB 40.5MB/s \n",
            "\u001b[?25hBuilding wheels for collected packages: pdfplumber\n",
            "  Building wheel for pdfplumber (setup.py) ... \u001b[?25l\u001b[?25hdone\n",
            "  Created wheel for pdfplumber: filename=pdfplumber-0.5.25-cp36-none-any.whl size=31560 sha256=9e4d208172158ec380dac8c280a10bd02bd145b1e536ddd4fecea02586aa369e\n",
            "  Stored in directory: /root/.cache/pip/wheels/fc/bd/c8/a28e0008387d034112de3c7c3bf6dbefa25653909a6269e4ff\n",
            "Successfully built pdfplumber\n",
            "Installing collected packages: pycryptodome, pdfminer.six, Wand, pdfplumber\n",
            "Successfully installed Wand-0.6.5 pdfminer.six-20200517 pdfplumber-0.5.25 pycryptodome-3.10.1\n"
          ],
          "name": "stdout"
        }
      ]
    },
    {
      "cell_type": "code",
      "metadata": {
        "id": "8pFJNwH_dij9"
      },
      "source": [
        "import pathlib"
      ],
      "execution_count": 2,
      "outputs": []
    },
    {
      "cell_type": "code",
      "metadata": {
        "id": "gwWRSEquTSf0"
      },
      "source": [
        "import pandas as pd\n",
        "import pdfplumber\n",
        "import requests"
      ],
      "execution_count": 3,
      "outputs": []
    },
    {
      "cell_type": "code",
      "metadata": {
        "id": "peeP6WVwda-c"
      },
      "source": [
        "def fetch_file(url, dir=\".\"):\r\n",
        "\r\n",
        "    r = requests.get(url)\r\n",
        "    r.raise_for_status()\r\n",
        "\r\n",
        "    p = pathlib.Path(dir, pathlib.PurePath(url).name)\r\n",
        "    p.parent.mkdir(parents=True, exist_ok=True)\r\n",
        "\r\n",
        "    with p.open(mode=\"wb\") as fw:\r\n",
        "        fw.write(r.content)\r\n",
        "    return p"
      ],
      "execution_count": 4,
      "outputs": []
    },
    {
      "cell_type": "code",
      "metadata": {
        "id": "escHQSULUozw"
      },
      "source": [
        "table_settings = {\n",
        "\n",
        "    # 垂直基準\n",
        "    \"vertical_strategy\": \"explicit\",\n",
        "    \"explicit_vertical_lines\": [80, 180, 235, 265, 325, 355, 410, 435, 490, 530],\n",
        "\n",
        "    # 水平基準\n",
        "    \"horizontal_strategy\": \"text\",\n",
        "   \n",
        "    # テキストの左端と右端が垂直線と完全に一致していない場合の許容値\n",
        "    \"intersection_tolerance\": 30,\n",
        "}"
      ],
      "execution_count": 5,
      "outputs": []
    },
    {
      "cell_type": "code",
      "metadata": {
        "id": "Auk1HLJtd_P0"
      },
      "source": [
        "url = \"https://www.pref.okinawa.jp/site/norin/oroshiuri/documents/documents/geppou3104.pdf\""
      ],
      "execution_count": 6,
      "outputs": []
    },
    {
      "cell_type": "code",
      "metadata": {
        "id": "Rbv9PBpqd6Bc"
      },
      "source": [
        "pdf_path = fetch_file(url)"
      ],
      "execution_count": 7,
      "outputs": []
    },
    {
      "cell_type": "code",
      "metadata": {
        "id": "dfjeODyCUozy"
      },
      "source": [
        "with pdfplumber.open(pdf_path) as pdf:\n",
        "\n",
        "    dfs = []\n",
        "\n",
        "    for page in pdf.pages[6:12]:\n",
        "\n",
        "        crop = page.within_bbox((0, 105, page.width, 800))\n",
        "\n",
        "        table = crop.extract_table(table_settings)\n",
        "\n",
        "        df_tmp = pd.DataFrame(table)\n",
        "\n",
        "        for col in df_tmp.select_dtypes(include=object).columns:\n",
        "            df_tmp[col] = df_tmp[col].str.replace(\",\", \"\").str.strip()\n",
        "\n",
        "        df_tmp = df_tmp.mask(df_tmp == \"\").dropna(thresh=2)\n",
        "\n",
        "        df_tmp = df_tmp[df_tmp[0] != \"品　目\"]\n",
        "\n",
        "        # print(df_tmp.shape)\n",
        "\n",
        "        dfs.append(df_tmp)"
      ],
      "execution_count": 8,
      "outputs": []
    },
    {
      "cell_type": "code",
      "metadata": {
        "id": "pGXGDfqmtZI1"
      },
      "source": [
        "df = pd.concat(dfs)"
      ],
      "execution_count": 9,
      "outputs": []
    },
    {
      "cell_type": "code",
      "metadata": {
        "colab": {
          "base_uri": "https://localhost:8080/",
          "height": 424
        },
        "id": "yGaMDOr3t5WG",
        "outputId": "431c7b3e-2540-43c3-d2d7-1e27b15f93c1"
      },
      "source": [
        "df"
      ],
      "execution_count": 10,
      "outputs": [
        {
          "output_type": "execute_result",
          "data": {
            "text/html": [
              "<div>\n",
              "<style scoped>\n",
              "    .dataframe tbody tr th:only-of-type {\n",
              "        vertical-align: middle;\n",
              "    }\n",
              "\n",
              "    .dataframe tbody tr th {\n",
              "        vertical-align: top;\n",
              "    }\n",
              "\n",
              "    .dataframe thead th {\n",
              "        text-align: right;\n",
              "    }\n",
              "</style>\n",
              "<table border=\"1\" class=\"dataframe\">\n",
              "  <thead>\n",
              "    <tr style=\"text-align: right;\">\n",
              "      <th></th>\n",
              "      <th>0</th>\n",
              "      <th>1</th>\n",
              "      <th>2</th>\n",
              "      <th>3</th>\n",
              "      <th>4</th>\n",
              "      <th>5</th>\n",
              "      <th>6</th>\n",
              "      <th>7</th>\n",
              "      <th>8</th>\n",
              "    </tr>\n",
              "  </thead>\n",
              "  <tbody>\n",
              "    <tr>\n",
              "      <th>1</th>\n",
              "      <td>だいこん</td>\n",
              "      <td>6442</td>\n",
              "      <td>NaN</td>\n",
              "      <td>254596</td>\n",
              "      <td>NaN</td>\n",
              "      <td>200</td>\n",
              "      <td>NaN</td>\n",
              "      <td>261238</td>\n",
              "      <td>NaN</td>\n",
              "    </tr>\n",
              "    <tr>\n",
              "      <th>2</th>\n",
              "      <td>NaN</td>\n",
              "      <td>114247</td>\n",
              "      <td>18</td>\n",
              "      <td>20438370</td>\n",
              "      <td>80</td>\n",
              "      <td>86400</td>\n",
              "      <td>432</td>\n",
              "      <td>20639017</td>\n",
              "      <td>79</td>\n",
              "    </tr>\n",
              "    <tr>\n",
              "      <th>3</th>\n",
              "      <td>かぶ</td>\n",
              "      <td>87</td>\n",
              "      <td>NaN</td>\n",
              "      <td>333</td>\n",
              "      <td>NaN</td>\n",
              "      <td>NaN</td>\n",
              "      <td>NaN</td>\n",
              "      <td>420</td>\n",
              "      <td>NaN</td>\n",
              "    </tr>\n",
              "    <tr>\n",
              "      <th>4</th>\n",
              "      <td>NaN</td>\n",
              "      <td>9720</td>\n",
              "      <td>112</td>\n",
              "      <td>114725</td>\n",
              "      <td>345</td>\n",
              "      <td>NaN</td>\n",
              "      <td>NaN</td>\n",
              "      <td>124445</td>\n",
              "      <td>296</td>\n",
              "    </tr>\n",
              "    <tr>\n",
              "      <th>5</th>\n",
              "      <td>にんじん</td>\n",
              "      <td>144230</td>\n",
              "      <td>NaN</td>\n",
              "      <td>208700</td>\n",
              "      <td>NaN</td>\n",
              "      <td>32150</td>\n",
              "      <td>NaN</td>\n",
              "      <td>385080</td>\n",
              "      <td>NaN</td>\n",
              "    </tr>\n",
              "    <tr>\n",
              "      <th>...</th>\n",
              "      <td>...</td>\n",
              "      <td>...</td>\n",
              "      <td>...</td>\n",
              "      <td>...</td>\n",
              "      <td>...</td>\n",
              "      <td>...</td>\n",
              "      <td>...</td>\n",
              "      <td>...</td>\n",
              "      <td>...</td>\n",
              "    </tr>\n",
              "    <tr>\n",
              "      <th>15</th>\n",
              "      <td>NaN</td>\n",
              "      <td>2644596</td>\n",
              "      <td>2784</td>\n",
              "      <td>6480</td>\n",
              "      <td>3240</td>\n",
              "      <td>NaN</td>\n",
              "      <td>NaN</td>\n",
              "      <td>2651076</td>\n",
              "      <td>2785</td>\n",
              "    </tr>\n",
              "    <tr>\n",
              "      <th>16</th>\n",
              "      <td>果実加工</td>\n",
              "      <td>NaN</td>\n",
              "      <td>NaN</td>\n",
              "      <td>NaN</td>\n",
              "      <td>NaN</td>\n",
              "      <td>400</td>\n",
              "      <td>NaN</td>\n",
              "      <td>400</td>\n",
              "      <td>NaN</td>\n",
              "    </tr>\n",
              "    <tr>\n",
              "      <th>17</th>\n",
              "      <td>NaN</td>\n",
              "      <td>NaN</td>\n",
              "      <td>NaN</td>\n",
              "      <td>NaN</td>\n",
              "      <td>NaN</td>\n",
              "      <td>216000</td>\n",
              "      <td>540</td>\n",
              "      <td>216000</td>\n",
              "      <td>540</td>\n",
              "    </tr>\n",
              "    <tr>\n",
              "      <th>18</th>\n",
              "      <td>セミノール</td>\n",
              "      <td>NaN</td>\n",
              "      <td>NaN</td>\n",
              "      <td>845</td>\n",
              "      <td>NaN</td>\n",
              "      <td>12579</td>\n",
              "      <td>NaN</td>\n",
              "      <td>13424</td>\n",
              "      <td>NaN</td>\n",
              "    </tr>\n",
              "    <tr>\n",
              "      <th>19</th>\n",
              "      <td>NaN</td>\n",
              "      <td>NaN</td>\n",
              "      <td>NaN</td>\n",
              "      <td>238680</td>\n",
              "      <td>282</td>\n",
              "      <td>3878128</td>\n",
              "      <td>308</td>\n",
              "      <td>4116808</td>\n",
              "      <td>307</td>\n",
              "    </tr>\n",
              "  </tbody>\n",
              "</table>\n",
              "<p>242 rows × 9 columns</p>\n",
              "</div>"
            ],
            "text/plain": [
              "        0        1     2         3     4        5    6         7     8\n",
              "1    だいこん     6442   NaN    254596   NaN      200  NaN    261238   NaN\n",
              "2     NaN   114247    18  20438370    80    86400  432  20639017    79\n",
              "3      かぶ       87   NaN       333   NaN      NaN  NaN       420   NaN\n",
              "4     NaN     9720   112    114725   345      NaN  NaN    124445   296\n",
              "5    にんじん   144230   NaN    208700   NaN    32150  NaN    385080   NaN\n",
              "..    ...      ...   ...       ...   ...      ...  ...       ...   ...\n",
              "15    NaN  2644596  2784      6480  3240      NaN  NaN   2651076  2785\n",
              "16   果実加工      NaN   NaN       NaN   NaN      400  NaN       400   NaN\n",
              "17    NaN      NaN   NaN       NaN   NaN   216000  540    216000   540\n",
              "18  セミノール      NaN   NaN       845   NaN    12579  NaN     13424   NaN\n",
              "19    NaN      NaN   NaN    238680   282  3878128  308   4116808   307\n",
              "\n",
              "[242 rows x 9 columns]"
            ]
          },
          "metadata": {
            "tags": []
          },
          "execution_count": 10
        }
      ]
    },
    {
      "cell_type": "code",
      "metadata": {
        "id": "OntfsMAkugW8"
      },
      "source": [
        "df[0] = df[0].fillna(method=\"ffill\")"
      ],
      "execution_count": 11,
      "outputs": []
    },
    {
      "cell_type": "code",
      "metadata": {
        "id": "RZR17WcaukGc"
      },
      "source": [
        "df_even = (\r\n",
        "    df[::2]\r\n",
        "    .rename(\r\n",
        "        columns={\r\n",
        "            0: \"品名\",\r\n",
        "            1: \"県内_数量\",\r\n",
        "            2: \"県内_単価\",\r\n",
        "            3: \"県外_数量\",\r\n",
        "            4: \"県外_単価\",\r\n",
        "            5: \"外国_数量\",\r\n",
        "            6: \"外国_単価\",\r\n",
        "            7: \"総計_数量\",\r\n",
        "            8: \"総計_単価\",\r\n",
        "        }\r\n",
        "    )\r\n",
        "    .dropna(how=\"all\", axis=1)\r\n",
        ")"
      ],
      "execution_count": 12,
      "outputs": []
    },
    {
      "cell_type": "code",
      "metadata": {
        "id": "2aCCR_w5uoH8"
      },
      "source": [
        "df_odd = (\r\n",
        "    df[1::2]\r\n",
        "    .rename(\r\n",
        "        columns={\r\n",
        "            0: \"品名\",\r\n",
        "            1: \"県内_金額\",\r\n",
        "            2: \"県内_単価\",\r\n",
        "            3: \"県外_金額\",\r\n",
        "            4: \"県外_単価\",\r\n",
        "            5: \"外国_金額\",\r\n",
        "            6: \"外国_単価\",\r\n",
        "            7: \"総計_金額\",\r\n",
        "            8: \"総計_単価\",\r\n",
        "        }\r\n",
        "    )\r\n",
        "    .dropna(how=\"all\", axis=1)\r\n",
        ")"
      ],
      "execution_count": 13,
      "outputs": []
    },
    {
      "cell_type": "code",
      "metadata": {
        "id": "vwwxUOJDTSf1"
      },
      "source": [
        "df1 = pd.merge(df_even, df_odd, on=\"品名\").set_index(\"品名\")"
      ],
      "execution_count": 14,
      "outputs": []
    },
    {
      "cell_type": "code",
      "metadata": {
        "id": "91ZGK-wAcVem",
        "colab": {
          "base_uri": "https://localhost:8080/",
          "height": 455
        },
        "outputId": "efc513c8-8643-4472-c35c-be296446be73"
      },
      "source": [
        "df1"
      ],
      "execution_count": 15,
      "outputs": [
        {
          "output_type": "execute_result",
          "data": {
            "text/html": [
              "<div>\n",
              "<style scoped>\n",
              "    .dataframe tbody tr th:only-of-type {\n",
              "        vertical-align: middle;\n",
              "    }\n",
              "\n",
              "    .dataframe tbody tr th {\n",
              "        vertical-align: top;\n",
              "    }\n",
              "\n",
              "    .dataframe thead th {\n",
              "        text-align: right;\n",
              "    }\n",
              "</style>\n",
              "<table border=\"1\" class=\"dataframe\">\n",
              "  <thead>\n",
              "    <tr style=\"text-align: right;\">\n",
              "      <th></th>\n",
              "      <th>県内_数量</th>\n",
              "      <th>県外_数量</th>\n",
              "      <th>外国_数量</th>\n",
              "      <th>総計_数量</th>\n",
              "      <th>県内_金額</th>\n",
              "      <th>県内_単価</th>\n",
              "      <th>県外_金額</th>\n",
              "      <th>県外_単価</th>\n",
              "      <th>外国_金額</th>\n",
              "      <th>外国_単価</th>\n",
              "      <th>総計_金額</th>\n",
              "      <th>総計_単価</th>\n",
              "    </tr>\n",
              "    <tr>\n",
              "      <th>品名</th>\n",
              "      <th></th>\n",
              "      <th></th>\n",
              "      <th></th>\n",
              "      <th></th>\n",
              "      <th></th>\n",
              "      <th></th>\n",
              "      <th></th>\n",
              "      <th></th>\n",
              "      <th></th>\n",
              "      <th></th>\n",
              "      <th></th>\n",
              "      <th></th>\n",
              "    </tr>\n",
              "  </thead>\n",
              "  <tbody>\n",
              "    <tr>\n",
              "      <th>だいこん</th>\n",
              "      <td>6442</td>\n",
              "      <td>254596</td>\n",
              "      <td>200</td>\n",
              "      <td>261238</td>\n",
              "      <td>114247</td>\n",
              "      <td>18</td>\n",
              "      <td>20438370</td>\n",
              "      <td>80</td>\n",
              "      <td>86400</td>\n",
              "      <td>432</td>\n",
              "      <td>20639017</td>\n",
              "      <td>79</td>\n",
              "    </tr>\n",
              "    <tr>\n",
              "      <th>かぶ</th>\n",
              "      <td>87</td>\n",
              "      <td>333</td>\n",
              "      <td>NaN</td>\n",
              "      <td>420</td>\n",
              "      <td>9720</td>\n",
              "      <td>112</td>\n",
              "      <td>114725</td>\n",
              "      <td>345</td>\n",
              "      <td>NaN</td>\n",
              "      <td>NaN</td>\n",
              "      <td>124445</td>\n",
              "      <td>296</td>\n",
              "    </tr>\n",
              "    <tr>\n",
              "      <th>にんじん</th>\n",
              "      <td>144230</td>\n",
              "      <td>208700</td>\n",
              "      <td>32150</td>\n",
              "      <td>385080</td>\n",
              "      <td>13356377</td>\n",
              "      <td>93</td>\n",
              "      <td>22004529</td>\n",
              "      <td>105</td>\n",
              "      <td>3165912</td>\n",
              "      <td>98</td>\n",
              "      <td>38526818</td>\n",
              "      <td>100</td>\n",
              "    </tr>\n",
              "    <tr>\n",
              "      <th>ごぼう</th>\n",
              "      <td>301</td>\n",
              "      <td>1820</td>\n",
              "      <td>22210</td>\n",
              "      <td>24331</td>\n",
              "      <td>109242</td>\n",
              "      <td>363</td>\n",
              "      <td>732645</td>\n",
              "      <td>403</td>\n",
              "      <td>4658796</td>\n",
              "      <td>210</td>\n",
              "      <td>5500683</td>\n",
              "      <td>226</td>\n",
              "    </tr>\n",
              "    <tr>\n",
              "      <th>たけのこ</th>\n",
              "      <td>NaN</td>\n",
              "      <td>78</td>\n",
              "      <td>6</td>\n",
              "      <td>84</td>\n",
              "      <td>NaN</td>\n",
              "      <td>NaN</td>\n",
              "      <td>58137</td>\n",
              "      <td>745</td>\n",
              "      <td>6804</td>\n",
              "      <td>1134</td>\n",
              "      <td>64941</td>\n",
              "      <td>773</td>\n",
              "    </tr>\n",
              "    <tr>\n",
              "      <th>...</th>\n",
              "      <td>...</td>\n",
              "      <td>...</td>\n",
              "      <td>...</td>\n",
              "      <td>...</td>\n",
              "      <td>...</td>\n",
              "      <td>...</td>\n",
              "      <td>...</td>\n",
              "      <td>...</td>\n",
              "      <td>...</td>\n",
              "      <td>...</td>\n",
              "      <td>...</td>\n",
              "      <td>...</td>\n",
              "    </tr>\n",
              "    <tr>\n",
              "      <th>パッションフル－ツ</th>\n",
              "      <td>5866</td>\n",
              "      <td>NaN</td>\n",
              "      <td>NaN</td>\n",
              "      <td>5866</td>\n",
              "      <td>9308086</td>\n",
              "      <td>1587</td>\n",
              "      <td>NaN</td>\n",
              "      <td>NaN</td>\n",
              "      <td>NaN</td>\n",
              "      <td>NaN</td>\n",
              "      <td>9308086</td>\n",
              "      <td>1587</td>\n",
              "    </tr>\n",
              "    <tr>\n",
              "      <th>ドラゴンフル－ツ</th>\n",
              "      <td>NaN</td>\n",
              "      <td>NaN</td>\n",
              "      <td>1550</td>\n",
              "      <td>1550</td>\n",
              "      <td>NaN</td>\n",
              "      <td>NaN</td>\n",
              "      <td>NaN</td>\n",
              "      <td>NaN</td>\n",
              "      <td>926910</td>\n",
              "      <td>598</td>\n",
              "      <td>926910</td>\n",
              "      <td>598</td>\n",
              "    </tr>\n",
              "    <tr>\n",
              "      <th>アテモヤ</th>\n",
              "      <td>950</td>\n",
              "      <td>2</td>\n",
              "      <td>NaN</td>\n",
              "      <td>952</td>\n",
              "      <td>2644596</td>\n",
              "      <td>2784</td>\n",
              "      <td>6480</td>\n",
              "      <td>3240</td>\n",
              "      <td>NaN</td>\n",
              "      <td>NaN</td>\n",
              "      <td>2651076</td>\n",
              "      <td>2785</td>\n",
              "    </tr>\n",
              "    <tr>\n",
              "      <th>果実加工</th>\n",
              "      <td>NaN</td>\n",
              "      <td>NaN</td>\n",
              "      <td>400</td>\n",
              "      <td>400</td>\n",
              "      <td>NaN</td>\n",
              "      <td>NaN</td>\n",
              "      <td>NaN</td>\n",
              "      <td>NaN</td>\n",
              "      <td>216000</td>\n",
              "      <td>540</td>\n",
              "      <td>216000</td>\n",
              "      <td>540</td>\n",
              "    </tr>\n",
              "    <tr>\n",
              "      <th>セミノール</th>\n",
              "      <td>NaN</td>\n",
              "      <td>845</td>\n",
              "      <td>12579</td>\n",
              "      <td>13424</td>\n",
              "      <td>NaN</td>\n",
              "      <td>NaN</td>\n",
              "      <td>238680</td>\n",
              "      <td>282</td>\n",
              "      <td>3878128</td>\n",
              "      <td>308</td>\n",
              "      <td>4116808</td>\n",
              "      <td>307</td>\n",
              "    </tr>\n",
              "  </tbody>\n",
              "</table>\n",
              "<p>121 rows × 12 columns</p>\n",
              "</div>"
            ],
            "text/plain": [
              "            県内_数量   県外_数量  外国_数量   総計_数量  ...    外国_金額 外国_単価     総計_金額 総計_単価\n",
              "品名                                        ...                               \n",
              "だいこん         6442  254596    200  261238  ...    86400   432  20639017    79\n",
              "かぶ             87     333    NaN     420  ...      NaN   NaN    124445   296\n",
              "にんじん       144230  208700  32150  385080  ...  3165912    98  38526818   100\n",
              "ごぼう           301    1820  22210   24331  ...  4658796   210   5500683   226\n",
              "たけのこ          NaN      78      6      84  ...     6804  1134     64941   773\n",
              "...           ...     ...    ...     ...  ...      ...   ...       ...   ...\n",
              "パッションフル－ツ    5866     NaN    NaN    5866  ...      NaN   NaN   9308086  1587\n",
              "ドラゴンフル－ツ      NaN     NaN   1550    1550  ...   926910   598    926910   598\n",
              "アテモヤ          950       2    NaN     952  ...      NaN   NaN   2651076  2785\n",
              "果実加工          NaN     NaN    400     400  ...   216000   540    216000   540\n",
              "セミノール         NaN     845  12579   13424  ...  3878128   308   4116808   307\n",
              "\n",
              "[121 rows x 12 columns]"
            ]
          },
          "metadata": {
            "tags": []
          },
          "execution_count": 15
        }
      ]
    },
    {
      "cell_type": "code",
      "metadata": {
        "id": "F-fvC6SJckjM"
      },
      "source": [
        "df1.to_csv(\"okinawa.csv\", encoding=\"utf_8_sig\")"
      ],
      "execution_count": 16,
      "outputs": []
    },
    {
      "cell_type": "code",
      "metadata": {
        "colab": {
          "base_uri": "https://localhost:8080/",
          "height": 17
        },
        "id": "vg8uoRx6yNce",
        "outputId": "33db85a8-4fa6-4208-d796-1750396bd5b6"
      },
      "source": [
        "from google.colab import files\n",
        "\n",
        "files.download(\"okinawa.csv\")"
      ],
      "execution_count": 17,
      "outputs": [
        {
          "output_type": "display_data",
          "data": {
            "application/javascript": [
              "\n",
              "    async function download(id, filename, size) {\n",
              "      if (!google.colab.kernel.accessAllowed) {\n",
              "        return;\n",
              "      }\n",
              "      const div = document.createElement('div');\n",
              "      const label = document.createElement('label');\n",
              "      label.textContent = `Downloading \"${filename}\": `;\n",
              "      div.appendChild(label);\n",
              "      const progress = document.createElement('progress');\n",
              "      progress.max = size;\n",
              "      div.appendChild(progress);\n",
              "      document.body.appendChild(div);\n",
              "\n",
              "      const buffers = [];\n",
              "      let downloaded = 0;\n",
              "\n",
              "      const channel = await google.colab.kernel.comms.open(id);\n",
              "      // Send a message to notify the kernel that we're ready.\n",
              "      channel.send({})\n",
              "\n",
              "      for await (const message of channel.messages) {\n",
              "        // Send a message to notify the kernel that we're ready.\n",
              "        channel.send({})\n",
              "        if (message.buffers) {\n",
              "          for (const buffer of message.buffers) {\n",
              "            buffers.push(buffer);\n",
              "            downloaded += buffer.byteLength;\n",
              "            progress.value = downloaded;\n",
              "          }\n",
              "        }\n",
              "      }\n",
              "      const blob = new Blob(buffers, {type: 'application/binary'});\n",
              "      const a = document.createElement('a');\n",
              "      a.href = window.URL.createObjectURL(blob);\n",
              "      a.download = filename;\n",
              "      div.appendChild(a);\n",
              "      a.click();\n",
              "      div.remove();\n",
              "    }\n",
              "  "
            ],
            "text/plain": [
              "<IPython.core.display.Javascript object>"
            ]
          },
          "metadata": {
            "tags": []
          }
        },
        {
          "output_type": "display_data",
          "data": {
            "application/javascript": [
              "download(\"download_01ff8c76-cfe5-4501-a15d-e2aa9ffbe13a\", \"okinawa.csv\", 7540)"
            ],
            "text/plain": [
              "<IPython.core.display.Javascript object>"
            ]
          },
          "metadata": {
            "tags": []
          }
        }
      ]
    }
  ]
}