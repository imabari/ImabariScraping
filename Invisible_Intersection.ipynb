{
  "nbformat": 4,
  "nbformat_minor": 0,
  "metadata": {
    "colab": {
      "provenance": [],
      "authorship_tag": "ABX9TyNmg56cYFR8OV6VDtjelUTh",
      "include_colab_link": true
    },
    "kernelspec": {
      "name": "python3",
      "display_name": "Python 3"
    },
    "language_info": {
      "name": "python"
    }
  },
  "cells": [
    {
      "cell_type": "markdown",
      "metadata": {
        "id": "view-in-github",
        "colab_type": "text"
      },
      "source": [
        "<a href=\"https://colab.research.google.com/github/imabari/ImabariScraping/blob/master/Invisible_Intersection.ipynb\" target=\"_parent\"><img src=\"https://colab.research.google.com/assets/colab-badge.svg\" alt=\"Open In Colab\"/></a>"
      ]
    },
    {
      "cell_type": "markdown",
      "source": [
        "# 都道府県コード\n",
        "\n",
        "https://www.npa.go.jp/publications/statistics/koutsuu/opendata/2021/codebook_2021.pdf"
      ],
      "metadata": {
        "id": "TZGR6aiPQfY_"
      }
    },
    {
      "cell_type": "code",
      "source": [
        "pref = 45 #@param {type:\"integer\"}\n"
      ],
      "metadata": {
        "cellView": "form",
        "id": "Xz-PC3b4QnlW"
      },
      "execution_count": null,
      "outputs": []
    },
    {
      "cell_type": "markdown",
      "source": [
        "# 日本測地系2011（JGD2011）\n",
        "\n",
        "https://lemulus.me/column/epsg-list-gis#i"
      ],
      "metadata": {
        "id": "9vqaKVhxQLld"
      }
    },
    {
      "cell_type": "code",
      "source": [
        "epsg = 6677 #@param {type:\"integer\"}\n"
      ],
      "metadata": {
        "cellView": "form",
        "id": "FctwC7LBRCy1"
      },
      "execution_count": null,
      "outputs": []
    },
    {
      "cell_type": "code",
      "source": [
        "!pip install geopandas"
      ],
      "metadata": {
        "id": "PifkRkt4FUkl"
      },
      "execution_count": null,
      "outputs": []
    },
    {
      "cell_type": "markdown",
      "source": [
        "# プログラム"
      ],
      "metadata": {
        "id": "T8sJcC9sSDgw"
      }
    },
    {
      "cell_type": "code",
      "execution_count": null,
      "metadata": {
        "id": "Fuf4ljFPEhUI"
      },
      "outputs": [],
      "source": [
        "import pandas as pd\n",
        "import geopandas as gpd"
      ]
    },
    {
      "cell_type": "code",
      "source": [
        "from shapely.geometry import Point"
      ],
      "metadata": {
        "id": "i2kG9n-vWO2p"
      },
      "execution_count": null,
      "outputs": []
    },
    {
      "cell_type": "code",
      "source": [
        "from tqdm.notebook import tqdm"
      ],
      "metadata": {
        "id": "sMO64RBvbvuB"
      },
      "execution_count": null,
      "outputs": []
    },
    {
      "cell_type": "code",
      "source": [
        "pd.options.plotting.backend = \"plotly\"\n",
        "pd.set_option(\"display.max_columns\", None)"
      ],
      "metadata": {
        "id": "FvrTzjGJE1Md"
      },
      "execution_count": null,
      "outputs": []
    },
    {
      "cell_type": "code",
      "source": [
        "df0 = pd.read_csv(\"https://www.npa.go.jp/publications/statistics/koutsuu/opendata/2021/honhyo_2021.csv\", encoding=\"cp932\")"
      ],
      "metadata": {
        "id": "8dt3IdswEqbt"
      },
      "execution_count": null,
      "outputs": []
    },
    {
      "cell_type": "code",
      "source": [
        "# 緯度経度を度分秒から10進数表記に変換\n",
        "\n",
        "def dms2deg(df_tmp, col):\n",
        "\n",
        "    df = df_tmp.copy()\n",
        "    \n",
        "    df[\"d\"], df[\"t\"] = df[col].divmod(10000000)\n",
        "    df[\"m\"], df[\"s\"] = df[\"t\"].divmod(100000)\n",
        "\n",
        "    result = df[\"d\"] + (df[\"m\"] / 60.0) + (df[\"s\"] / 1000.0 / 3600.0 )\n",
        "\n",
        "    return result"
      ],
      "metadata": {
        "id": "VFICBixbFLbt"
      },
      "execution_count": null,
      "outputs": []
    },
    {
      "cell_type": "code",
      "source": [
        "df0[\"lat\"] = dms2deg(df0, \"地点　緯度（北緯）\")\n",
        "df0[\"lon\"] = dms2deg(df0, \"地点　経度（東経）\")"
      ],
      "metadata": {
        "id": "j5TSi7hvMg1J"
      },
      "execution_count": null,
      "outputs": []
    },
    {
      "cell_type": "code",
      "source": [
        "df0"
      ],
      "metadata": {
        "id": "YkBMy3f3TZPb"
      },
      "execution_count": null,
      "outputs": []
    },
    {
      "cell_type": "code",
      "source": [
        "df0.columns"
      ],
      "metadata": {
        "id": "qQih6tinUBBD"
      },
      "execution_count": null,
      "outputs": []
    },
    {
      "cell_type": "code",
      "source": [
        "df0[\"発生日時　　年\"].value_counts()"
      ],
      "metadata": {
        "id": "NRS8xD4eTZSb"
      },
      "execution_count": null,
      "outputs": []
    },
    {
      "cell_type": "code",
      "source": [
        "# 2021年のみ\n",
        "df1 = df0[df0[\"発生日時　　年\"] == 2021].copy()"
      ],
      "metadata": {
        "id": "8A1W7PyaTZVb"
      },
      "execution_count": null,
      "outputs": []
    },
    {
      "cell_type": "code",
      "source": [
        "df1.shape"
      ],
      "metadata": {
        "id": "8owsD9JRTZYq"
      },
      "execution_count": null,
      "outputs": []
    },
    {
      "cell_type": "code",
      "source": [
        "# 月ごとの事故数を確認\n",
        "df1[\"発生日時　　月\"].value_counts()"
      ],
      "metadata": {
        "id": "DD8xetZ4TZbz"
      },
      "execution_count": null,
      "outputs": []
    },
    {
      "cell_type": "code",
      "source": [
        "# 曜日別の事故数を確認\n",
        "df1[\"曜日(発生年月日)\"].value_counts()"
      ],
      "metadata": {
        "id": "ngSXyTaITZe6"
      },
      "execution_count": null,
      "outputs": []
    },
    {
      "cell_type": "code",
      "source": [
        "# 昼夜別の事故数を確認\n",
        "df1[\"昼夜\"].value_counts()"
      ],
      "metadata": {
        "id": "rDB8KvWPUYrD"
      },
      "execution_count": null,
      "outputs": []
    },
    {
      "cell_type": "code",
      "source": [
        "# 道路の形ごとの事故数を確認\n",
        "df1[\"道路線形\"].value_counts()"
      ],
      "metadata": {
        "id": "m6E5jpLmUYty"
      },
      "execution_count": null,
      "outputs": []
    },
    {
      "cell_type": "code",
      "source": [
        "# 交差点の大きさごとの事故数を確認\n",
        "df1[\"車道幅員\"].value_counts()"
      ],
      "metadata": {
        "id": "Yemc5ViBUYwi"
      },
      "execution_count": null,
      "outputs": []
    },
    {
      "cell_type": "code",
      "source": [
        "df2 = df1[df1[\"車道幅員\"].isin([11, 14, 15]) & (df1[\"都道府県コード\"] == pref)]\n",
        "df2"
      ],
      "metadata": {
        "id": "fqAVnj9lUYzS"
      },
      "execution_count": null,
      "outputs": []
    },
    {
      "cell_type": "code",
      "source": [
        "geo_df = gpd.GeoDataFrame(df2, geometry = gpd.points_from_xy(df2.lon, df2.lat), crs=epsg)\n",
        "geo_df"
      ],
      "metadata": {
        "id": "Q0ph778vFOm0"
      },
      "execution_count": null,
      "outputs": []
    },
    {
      "cell_type": "code",
      "source": [
        "geo_df.crs"
      ],
      "metadata": {
        "id": "j63-OzlhhF0A"
      },
      "execution_count": null,
      "outputs": []
    },
    {
      "cell_type": "code",
      "source": [
        "df3 = geo_df.copy()"
      ],
      "metadata": {
        "id": "Trb6cQAOidk2"
      },
      "execution_count": null,
      "outputs": []
    },
    {
      "cell_type": "code",
      "source": [
        "# 0.0001度　約11m\n",
        "df3[\"buffer\"] = df3.buffer(0.0001)"
      ],
      "metadata": {
        "id": "pjwfLiWmd-yD"
      },
      "execution_count": null,
      "outputs": []
    },
    {
      "cell_type": "code",
      "source": [
        "df3"
      ],
      "metadata": {
        "id": "4z0CeJLyiuax"
      },
      "execution_count": null,
      "outputs": []
    },
    {
      "cell_type": "code",
      "source": [
        "for i, r in tqdm(df3.iterrows()):\n",
        "    \n",
        "    dft = geo_df[geo_df.geometry.within(r.buffer)].copy().sort_index()\n",
        "\n",
        "    df3.at[i, \"len\"] = len(dft)\n",
        "    df3.at[i, \"idx\"] = \"_\".join(map(str, dft.index.values))"
      ],
      "metadata": {
        "id": "0R2uqw4hWo9x"
      },
      "execution_count": null,
      "outputs": []
    },
    {
      "cell_type": "code",
      "source": [
        "\"\"\"\n",
        "for i, r in tqdm(df3.iterrows()):\n",
        "    \n",
        "    point = Point(r.lon, r.lat)\n",
        "\n",
        "    # 10mの範囲\n",
        "    buffer = point.buffer(0.0001)\n",
        "\n",
        "    tmp = geo_df[geo_df.geometry.within(buffer)].copy()\n",
        "\n",
        "    circles = tmp.geometry.buffer(0.0001).unary_union\n",
        "\n",
        "    dft = geo_df[geo_df.geometry.within(circles)].copy().sort_index()\n",
        "\n",
        "    df3.at[i, \"len\"] = len(dft)\n",
        "    df3.at[i, \"idx\"] = \"_\".join(map(str, dft.index.values))\n",
        "\"\"\""
      ],
      "metadata": {
        "id": "2bsdlf1LZ2Zb"
      },
      "execution_count": null,
      "outputs": []
    },
    {
      "cell_type": "code",
      "source": [
        "df3"
      ],
      "metadata": {
        "id": "dbkZQVofACe1"
      },
      "execution_count": null,
      "outputs": []
    },
    {
      "cell_type": "code",
      "source": [
        "df3[\"len\"].value_counts()"
      ],
      "metadata": {
        "id": "A8bNklc5PfW3"
      },
      "execution_count": null,
      "outputs": []
    },
    {
      "cell_type": "code",
      "source": [
        "df4 = df3[df3[\"len\"] > 5].copy()"
      ],
      "metadata": {
        "id": "b_ijzteUa6yF"
      },
      "execution_count": null,
      "outputs": []
    },
    {
      "cell_type": "code",
      "source": [
        "df4"
      ],
      "metadata": {
        "id": "-XIBUU1vPUJq"
      },
      "execution_count": null,
      "outputs": []
    },
    {
      "cell_type": "code",
      "source": [
        "se = df4.groupby(\"idx\").apply(len).rank(ascending=False).astype(int).apply(lambda x: f\"intersection_{x}\")\n",
        "se.name = \"intersection_name\""
      ],
      "metadata": {
        "id": "d4_slC7ZGB4Z"
      },
      "execution_count": null,
      "outputs": []
    },
    {
      "cell_type": "code",
      "source": [
        "df5 = pd.merge(df4, se, on=\"idx\")"
      ],
      "metadata": {
        "id": "zHmRq8sylr_8"
      },
      "execution_count": null,
      "outputs": []
    },
    {
      "cell_type": "code",
      "source": [
        "df5"
      ],
      "metadata": {
        "id": "exj3IC70NEWp"
      },
      "execution_count": null,
      "outputs": []
    },
    {
      "cell_type": "markdown",
      "source": [
        "# 地図"
      ],
      "metadata": {
        "id": "ic5e7lm-SJRb"
      }
    },
    {
      "cell_type": "code",
      "source": [
        "import folium\n",
        "from folium import plugins"
      ],
      "metadata": {
        "id": "ptkwlqEWlOl-"
      },
      "execution_count": null,
      "outputs": []
    },
    {
      "cell_type": "code",
      "source": [
        "m = folium.Map(\n",
        "    location=[df5.lat.mean(), df5.lon.mean()],\n",
        "    zoom_start=12,\n",
        "    tiles=\"https://cyberjapandata.gsi.go.jp/xyz/pale/{z}/{x}/{y}.png\",\n",
        "    attr='&copy; <a href=\"https://maps.gsi.go.jp/development/ichiran.html\">国土地理院</a>',\n",
        ")"
      ],
      "metadata": {
        "id": "IxRcIiStlOmA"
      },
      "execution_count": null,
      "outputs": []
    },
    {
      "cell_type": "code",
      "source": [
        "for i, r in df5.iterrows():\n",
        "\n",
        "    folium.Marker(\n",
        "        location=[r.lat, r.lon],\n",
        "        icon=folium.Icon(color=\"red\")\n",
        "    ).add_to(m)"
      ],
      "metadata": {
        "id": "gFYosAiBlOmA"
      },
      "execution_count": null,
      "outputs": []
    },
    {
      "cell_type": "code",
      "source": [
        "# DRAW\n",
        "folium.plugins.Draw(\n",
        "    draw_options={\"polygon\": False, \"rectangle\": False, \"circlemarker\": False}\n",
        ").add_to(m)"
      ],
      "metadata": {
        "id": "bzacZznMefV4"
      },
      "execution_count": null,
      "outputs": []
    },
    {
      "cell_type": "code",
      "source": [
        "m"
      ],
      "metadata": {
        "id": "03jIEGFMlOmA"
      },
      "execution_count": null,
      "outputs": []
    }
  ]
}