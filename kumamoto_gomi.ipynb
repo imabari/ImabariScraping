{
  "nbformat": 4,
  "nbformat_minor": 0,
  "metadata": {
    "colab": {
      "name": "kumamoto-gomi.ipynb",
      "provenance": [],
      "authorship_tag": "ABX9TyMlM4UkEJfuFcDR8KKW29lD",
      "include_colab_link": true
    },
    "kernelspec": {
      "name": "python3",
      "display_name": "Python 3"
    },
    "language_info": {
      "name": "python"
    }
  },
  "cells": [
    {
      "cell_type": "markdown",
      "metadata": {
        "id": "view-in-github",
        "colab_type": "text"
      },
      "source": [
        "<a href=\"https://colab.research.google.com/github/imabari/ImabariScraping/blob/master/kumamoto_gomi.ipynb\" target=\"_parent\"><img src=\"https://colab.research.google.com/assets/colab-badge.svg\" alt=\"Open In Colab\"/></a>"
      ]
    },
    {
      "cell_type": "code",
      "source": [
        "!pip install pdfplumber"
      ],
      "metadata": {
        "id": "tjH1fYj4j2z5"
      },
      "execution_count": null,
      "outputs": []
    },
    {
      "cell_type": "markdown",
      "source": [
        "# スクレイピング"
      ],
      "metadata": {
        "id": "ywMETJj_j6EN"
      }
    },
    {
      "cell_type": "code",
      "source": [
        "import requests\n",
        "from bs4 import BeautifulSoup"
      ],
      "metadata": {
        "id": "MXZqNRcQXNmi"
      },
      "execution_count": null,
      "outputs": []
    },
    {
      "cell_type": "code",
      "source": [
        "import urllib.parse"
      ],
      "metadata": {
        "id": "93MQBoJhXNmk"
      },
      "execution_count": null,
      "outputs": []
    },
    {
      "cell_type": "code",
      "source": [
        "import pathlib"
      ],
      "metadata": {
        "id": "DLhbp6rgXNml"
      },
      "execution_count": null,
      "outputs": []
    },
    {
      "cell_type": "code",
      "source": [
        "import pandas as pd"
      ],
      "metadata": {
        "id": "X-0g6INrnuBa"
      },
      "execution_count": null,
      "outputs": []
    },
    {
      "cell_type": "code",
      "source": [
        "headers = {\n",
        "    \"User-Agent\": \"Mozilla/5.0 (Windows NT 10.0; WOW64; Trident/7.0; rv:11.0) like Gecko\"\n",
        "}"
      ],
      "metadata": {
        "id": "LXYIuAzuXNmm"
      },
      "execution_count": null,
      "outputs": []
    },
    {
      "cell_type": "code",
      "source": [
        "def fetch_soup(url, parser=\"html.parser\"):\n",
        "\n",
        "    r = requests.get(url, headers=headers)\n",
        "    r.raise_for_status()\n",
        "\n",
        "    soup = BeautifulSoup(r.content, parser)\n",
        "\n",
        "    return soup"
      ],
      "metadata": {
        "id": "eawOJIw4XNmn"
      },
      "execution_count": null,
      "outputs": []
    },
    {
      "cell_type": "code",
      "source": [
        "def fetch_file(url, dir=\".\"):\n",
        "\n",
        "    p = pathlib.Path(dir, pathlib.PurePath(url).name)\n",
        "    p.parent.mkdir(parents=True, exist_ok=True)\n",
        "\n",
        "    r = requests.get(url)\n",
        "    r.raise_for_status()\n",
        "\n",
        "    with p.open(mode=\"wb\") as fw:\n",
        "        fw.write(r.content)\n",
        "    return p"
      ],
      "metadata": {
        "id": "GXJg1ZTqXNmo"
      },
      "execution_count": null,
      "outputs": []
    },
    {
      "cell_type": "code",
      "source": [
        "url = \"https://www.city.kumamoto.jp/kankyo/hpKiji/pub/detail.aspx?c_id=5&id=4637&class_set_id=20&class_id=2682\""
      ],
      "metadata": {
        "id": "rGAIYG2yXNmp"
      },
      "execution_count": null,
      "outputs": []
    },
    {
      "cell_type": "code",
      "source": [
        "soup = fetch_soup(url)"
      ],
      "metadata": {
        "id": "qUt_mXlDXNmp"
      },
      "execution_count": null,
      "outputs": []
    },
    {
      "cell_type": "code",
      "source": [
        "links = []\n",
        "\n",
        "for tag in soup.select(\"table.__wys_table > tbody > tr > td > a\"):\n",
        "\n",
        "    d = {}\n",
        "\n",
        "    d[\"no\"] = int(tag.parent.find_previous_sibling(\"td\").get_text(strip=True))\n",
        "    d[\"area\"] = tag.get_text(strip=True)\n",
        "    d[\"link\"] = tag.get(\"href\")\n",
        "    d[\"pdf\"] = fetch_soup(d[\"link\"]).find(\"a\", text=\"全ページ一括ダウンロード\").get(\"href\")\n",
        "\n",
        "    qs = urllib.parse.urlparse(d[\"pdf\"]).query\n",
        "    d[\"id\"] = urllib.parse.parse_qs(qs)[\"id\"][0]\n",
        "\n",
        "    links.append(d)"
      ],
      "metadata": {
        "id": "RhYWHzsgaGNd"
      },
      "execution_count": null,
      "outputs": []
    },
    {
      "cell_type": "code",
      "source": [
        "pd.DataFrame(links)"
      ],
      "metadata": {
        "id": "AHLYPnT9gN6M"
      },
      "execution_count": null,
      "outputs": []
    },
    {
      "cell_type": "markdown",
      "source": [
        "# データラングリング"
      ],
      "metadata": {
        "id": "QaQKrxRyj_LS"
      }
    },
    {
      "cell_type": "code",
      "source": [
        "import io\n",
        "import re"
      ],
      "metadata": {
        "id": "hE1wAer8j_jo"
      },
      "execution_count": null,
      "outputs": []
    },
    {
      "cell_type": "code",
      "source": [
        "import pdfplumber"
      ],
      "metadata": {
        "id": "1VLdMfRPkDph"
      },
      "execution_count": null,
      "outputs": []
    },
    {
      "cell_type": "code",
      "source": [
        "from tqdm.notebook import tqdm"
      ],
      "metadata": {
        "id": "Qrbv-Tbfnfsz"
      },
      "execution_count": null,
      "outputs": []
    },
    {
      "cell_type": "code",
      "source": [
        "def make_cal(se0, year, n):\n",
        "\n",
        "    n += 3\n",
        "\n",
        "    y, m = divmod(n, 12)\n",
        "\n",
        "    year += y\n",
        "    month = m + 1\n",
        "\n",
        "    df0 = se0.str.split(expand=True).reset_index(drop=True)\n",
        "    df1 = df0[df0.isin(days + kind)].copy().dropna(how=\"all\")\n",
        "\n",
        "    df2 = df1.apply(lambda x: x.dropna().reset_index(drop=True), axis=1)\n",
        "\n",
        "    s0 = df2.to_csv(index=False, header=False)\n",
        "    s1 = re.sub(\",(29|30|31)\", r\"\\n\\1\", s0)\n",
        "\n",
        "    df3 = (\n",
        "        pd.read_csv(io.StringIO(s1), header=None, index_col=0)\n",
        "        .dropna(how=\"all\", axis=1)\n",
        "        .dropna(how=\"all\")\n",
        "        .fillna(\"\")\n",
        "        .sort_index()\n",
        "    )\n",
        "\n",
        "    df4 = (\n",
        "        df3[1]\n",
        "        .str.cat(df3[2], sep=\"・\")\n",
        "        .str.strip(\"・\")\n",
        "        .reset_index()\n",
        "        .rename(columns={0: \"day\", 1: \"kind\"})\n",
        "    )\n",
        "\n",
        "    df4[\"year\"] = year\n",
        "    df4[\"month\"] = month\n",
        "\n",
        "    df4[\"date\"] = pd.to_datetime(df4[[\"year\", \"month\", \"day\"]])\n",
        "\n",
        "    df4.set_index(\"date\", inplace=True)\n",
        "\n",
        "    return df4[\"kind\"]"
      ],
      "metadata": {
        "id": "Nhb8GRkxkDsY"
      },
      "execution_count": null,
      "outputs": []
    },
    {
      "cell_type": "code",
      "source": [
        "def fetch_pdf(link):\n",
        "\n",
        "    dfs = []\n",
        "    n = 0\n",
        "\n",
        "    p = fetch_file(link)\n",
        "\n",
        "    pdf = pdfplumber.open(p)\n",
        "\n",
        "    for i in range(1, 4):\n",
        "\n",
        "        page = pdf.pages[i]\n",
        "\n",
        "        for bbox in bboxs:\n",
        "\n",
        "            crop = page.within_bbox(bbox)\n",
        "\n",
        "            vertical = list(map(lambda x: x + bbox[0], tate))\n",
        "            horizontal = list(map(lambda x: x + bbox[1], yoko))\n",
        "\n",
        "            table_settings = {\n",
        "                \"vertical_strategy\": \"explicit\",\n",
        "                \"explicit_vertical_lines\": vertical,\n",
        "                \"horizontal_strategy\": \"explicit\",\n",
        "                \"explicit_horizontal_lines\": horizontal,\n",
        "            }\n",
        "\n",
        "            se_tmp = (\n",
        "                pd.DataFrame(crop.extract_table(table_settings))\n",
        "                .stack()\n",
        "                .str.replace(\"日\", \"日 \")\n",
        "                .str.replace(\"(燃やすごみ|紙|プラ容器包装|資源物|ペットボトル|特定品目|埋立ごみ)(燃やすごみ|紙|プラ容器包装|資源物|ペットボトル|特定品目|埋立ごみ)\", r\"\\1 \\2\")\n",
        "            )\n",
        "\n",
        "            se = make_cal(se_tmp, 2021, n)\n",
        "\n",
        "            dfs.append(se)\n",
        "            n += 1\n",
        "\n",
        "    df0 = pd.concat(dfs)\n",
        "\n",
        "    df1 = (\n",
        "        df0.reindex(dt_range, fill_value=\"収集なし\")\n",
        "        .reset_index()\n",
        "        .rename({\"index\": \"収集日\", \"kind\": \"収集区分\"}, axis=1)\n",
        "    )\n",
        "\n",
        "    return df1"
      ],
      "metadata": {
        "id": "nP7AwGc8kD0Z"
      },
      "execution_count": null,
      "outputs": []
    },
    {
      "cell_type": "code",
      "source": [
        "tate = [0, 32, 94, 155, 216, 277, 339, 400]\n",
        "yoko = [23, 90, 158, 226, 292, 360]"
      ],
      "metadata": {
        "id": "Bx4sblOWkDu7"
      },
      "execution_count": null,
      "outputs": []
    },
    {
      "cell_type": "code",
      "source": [
        "bboxs = [\n",
        "    [18, 154, 419, 516],\n",
        "    [424, 154, 825, 516],\n",
        "    [18, 693, 419, 1056],\n",
        "    [424, 693, 825, 1056],\n",
        "]"
      ],
      "metadata": {
        "id": "MvD6-wzUkDxz"
      },
      "execution_count": null,
      "outputs": []
    },
    {
      "cell_type": "code",
      "source": [
        "days = list(map(str, range(1, 32)))\n",
        "\n",
        "# ごみの種類\n",
        "kind = [\"燃やすごみ\", \"紙\", \"プラ容器包装\", \"資源物\", \"ペットボトル\", \"特定品目\", \"埋立ごみ\"]"
      ],
      "metadata": {
        "id": "J9WztCUbkD3U"
      },
      "execution_count": null,
      "outputs": []
    },
    {
      "cell_type": "code",
      "source": [
        "# 日付範囲\n",
        "dt_range = pd.date_range(start=\"2021-04-01\", end=\"2022-03-31\")"
      ],
      "metadata": {
        "id": "eCQvOveEmH2r"
      },
      "execution_count": null,
      "outputs": []
    },
    {
      "cell_type": "code",
      "source": [
        "dfs = []\n",
        "\n",
        "for link in tqdm(links):\n",
        "\n",
        "    df_tmp = fetch_pdf(link[\"pdf\"])\n",
        "\n",
        "    df_tmp.insert(0, \"収集地区ID\", link[\"id\"])\n",
        "\n",
        "    dfs.append(df_tmp)"
      ],
      "metadata": {
        "id": "TR79Vfvbk49x"
      },
      "execution_count": null,
      "outputs": []
    },
    {
      "cell_type": "code",
      "source": [
        "df = pd.concat(dfs)"
      ],
      "metadata": {
        "id": "YZ9VIrXOkUix"
      },
      "execution_count": null,
      "outputs": []
    },
    {
      "cell_type": "code",
      "source": [
        "df"
      ],
      "metadata": {
        "id": "qypvRlkSweNi"
      },
      "execution_count": null,
      "outputs": []
    },
    {
      "cell_type": "code",
      "source": [
        "df.to_csv(\"kumamoto.csv\", index=False)"
      ],
      "metadata": {
        "id": "laYTsjL9ql2o"
      },
      "execution_count": null,
      "outputs": []
    }
  ]
}