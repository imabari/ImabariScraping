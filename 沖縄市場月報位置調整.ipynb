{
  "nbformat": 4,
  "nbformat_minor": 0,
  "metadata": {
    "colab": {
      "name": "沖縄市場月報位置調整.ipynb",
      "provenance": [],
      "toc_visible": true,
      "authorship_tag": "ABX9TyNMjakN2y1PG6wTYMz+Zw2E",
      "include_colab_link": true
    },
    "kernelspec": {
      "name": "python3",
      "display_name": "Python 3"
    }
  },
  "cells": [
    {
      "cell_type": "markdown",
      "metadata": {
        "id": "view-in-github",
        "colab_type": "text"
      },
      "source": [
        "<a href=\"https://colab.research.google.com/github/imabari/ImabariScraping/blob/master/%E6%B2%96%E7%B8%84%E5%B8%82%E5%A0%B4%E6%9C%88%E5%A0%B1%E4%BD%8D%E7%BD%AE%E8%AA%BF%E6%95%B4.ipynb\" target=\"_parent\"><img src=\"https://colab.research.google.com/assets/colab-badge.svg\" alt=\"Open In Colab\"/></a>"
      ]
    },
    {
      "cell_type": "code",
      "metadata": {
        "colab": {
          "base_uri": "https://localhost:8080/"
        },
        "id": "n4xmBi-ZEqXI",
        "outputId": "19157be7-022e-4e72-8351-c7e367611af9"
      },
      "source": [
        "!pip install pdfplumber"
      ],
      "execution_count": 1,
      "outputs": [
        {
          "output_type": "stream",
          "text": [
            "Collecting pdfplumber\n",
            "\u001b[?25l  Downloading https://files.pythonhosted.org/packages/4f/18/2ac9c819831087db6b5ef78ea66aa0ae8cd4b468c51845316f6a6e31c036/pdfplumber-0.5.26.tar.gz (43kB)\n",
            "\u001b[K     |████████████████████████████████| 51kB 2.9MB/s \n",
            "\u001b[?25hCollecting pdfminer.six==20200517\n",
            "\u001b[?25l  Downloading https://files.pythonhosted.org/packages/b0/c0/ef1c8758bbd86edb10b5443700aac97d0ba27a9ca2e7696db8cd1fdbd5a8/pdfminer.six-20200517-py3-none-any.whl (5.6MB)\n",
            "\u001b[K     |████████████████████████████████| 5.6MB 5.6MB/s \n",
            "\u001b[?25hRequirement already satisfied: Pillow>=7.0.0 in /usr/local/lib/python3.6/dist-packages (from pdfplumber) (7.0.0)\n",
            "Collecting Wand\n",
            "\u001b[?25l  Downloading https://files.pythonhosted.org/packages/98/08/096b76e9211ca5ef338791100b76375555cb4082a53496b1c1d5897ee13c/Wand-0.6.5-py2.py3-none-any.whl (138kB)\n",
            "\u001b[K     |████████████████████████████████| 143kB 42.6MB/s \n",
            "\u001b[?25hCollecting pycryptodome\n",
            "\u001b[?25l  Downloading https://files.pythonhosted.org/packages/ad/16/9627ab0493894a11c68e46000dbcc82f578c8ff06bc2980dcd016aea9bd3/pycryptodome-3.10.1-cp35-abi3-manylinux2010_x86_64.whl (1.9MB)\n",
            "\u001b[K     |████████████████████████████████| 1.9MB 42.8MB/s \n",
            "\u001b[?25hRequirement already satisfied: chardet; python_version > \"3.0\" in /usr/local/lib/python3.6/dist-packages (from pdfminer.six==20200517->pdfplumber) (3.0.4)\n",
            "Requirement already satisfied: sortedcontainers in /usr/local/lib/python3.6/dist-packages (from pdfminer.six==20200517->pdfplumber) (2.3.0)\n",
            "Building wheels for collected packages: pdfplumber\n",
            "  Building wheel for pdfplumber (setup.py) ... \u001b[?25l\u001b[?25hdone\n",
            "  Created wheel for pdfplumber: filename=pdfplumber-0.5.26-cp36-none-any.whl size=31747 sha256=78bf25e4aea9f2e070a8cb84969c826348c540ab9734d22358d0941ebf802195\n",
            "  Stored in directory: /root/.cache/pip/wheels/5a/4a/09/8f7b594a0d7ed1ca5fe27078a6a96e7439167a502074d87d1b\n",
            "Successfully built pdfplumber\n",
            "Installing collected packages: pycryptodome, pdfminer.six, Wand, pdfplumber\n",
            "Successfully installed Wand-0.6.5 pdfminer.six-20200517 pdfplumber-0.5.26 pycryptodome-3.10.1\n"
          ],
          "name": "stdout"
        }
      ]
    },
    {
      "cell_type": "code",
      "metadata": {
        "id": "W3TsVN_lEybD"
      },
      "source": [
        "import pathlib"
      ],
      "execution_count": 2,
      "outputs": []
    },
    {
      "cell_type": "code",
      "metadata": {
        "id": "xbtQPRvkE51j"
      },
      "source": [
        "import pandas as pd\r\n",
        "import pdfplumber\r\n",
        "import requests\r\n",
        "from bs4 import BeautifulSoup"
      ],
      "execution_count": 3,
      "outputs": []
    },
    {
      "cell_type": "code",
      "metadata": {
        "id": "lwAkAIEYE8QL"
      },
      "source": [
        "def fetch_file(url, dir=\".\"):\r\n",
        "\r\n",
        "    r = requests.get(url)\r\n",
        "    r.raise_for_status()\r\n",
        "\r\n",
        "    p = pathlib.Path(dir, pathlib.PurePath(url).name)\r\n",
        "    p.parent.mkdir(parents=True, exist_ok=True)\r\n",
        "\r\n",
        "    with p.open(mode=\"wb\") as fw:\r\n",
        "        fw.write(r.content)\r\n",
        "    return p"
      ],
      "execution_count": 4,
      "outputs": []
    },
    {
      "cell_type": "code",
      "metadata": {
        "id": "WMggw1dAE8tr"
      },
      "source": [
        "def snap_adjustment(s, limit=5):\r\n",
        "\r\n",
        "    count = s.value_counts().sort_index()\r\n",
        "\r\n",
        "    index = 0\r\n",
        "    value = 0\r\n",
        "\r\n",
        "    for i, v in count.items():\r\n",
        "\r\n",
        "        if (i - index) < limit:\r\n",
        "\r\n",
        "            if v > value:\r\n",
        "                s = s.replace(index, i)\r\n",
        "                index = i\r\n",
        "                value = v\r\n",
        "\r\n",
        "            else:\r\n",
        "                s = s.replace(i, index)\r\n",
        "\r\n",
        "        else:\r\n",
        "            index = i\r\n",
        "            value = v\r\n",
        "\r\n",
        "    return s"
      ],
      "execution_count": 5,
      "outputs": []
    },
    {
      "cell_type": "code",
      "metadata": {
        "id": "wLuY_P-RE2yL"
      },
      "source": [
        "url = \"https://www.pref.okinawa.jp/site/norin/oroshiuri/documents/documents/geppou3104.pdf\""
      ],
      "execution_count": 6,
      "outputs": []
    },
    {
      "cell_type": "code",
      "metadata": {
        "id": "svsEsCn-FG6L"
      },
      "source": [
        "p = fetch_file(url)"
      ],
      "execution_count": 7,
      "outputs": []
    },
    {
      "cell_type": "code",
      "metadata": {
        "id": "hzdtWSirFHqD"
      },
      "source": [
        "with pdfplumber.open(p) as pdf:\r\n",
        "\r\n",
        "    dfs = []\r\n",
        "\r\n",
        "    # ページ範囲指定（0スタート）\r\n",
        "    for page in pdf.pages[32:35]:\r\n",
        "\r\n",
        "        crop = page.within_bbox((0, 105, page.width, 800))\r\n",
        "\r\n",
        "        df_tmp = (\r\n",
        "            pd.DataFrame(crop.extract_words(keep_blank_chars=True))\r\n",
        "            .astype({\"x0\": float, \"x1\": float, \"top\": float, \"bottom\": float})\r\n",
        "            .sort_values([\"top\", \"x0\"])\r\n",
        "        )\r\n",
        "\r\n",
        "        df_tmp[\"top\"] = snap_adjustment(df_tmp[\"top\"])\r\n",
        "        df_tmp[\"page\"] = page.page_number\r\n",
        "\r\n",
        "        dfs.append(df_tmp)"
      ],
      "execution_count": 8,
      "outputs": []
    },
    {
      "cell_type": "code",
      "metadata": {
        "id": "45lb-UvpF5E7"
      },
      "source": [
        "df = pd.concat(dfs)"
      ],
      "execution_count": 9,
      "outputs": []
    },
    {
      "cell_type": "code",
      "metadata": {
        "colab": {
          "base_uri": "https://localhost:8080/",
          "height": 424
        },
        "id": "4tlkgQFYFoMU",
        "outputId": "9bc0c18e-dd60-454f-9bc1-e7bed1a0a418"
      },
      "source": [
        "df"
      ],
      "execution_count": 10,
      "outputs": [
        {
          "output_type": "execute_result",
          "data": {
            "text/html": [
              "<div>\n",
              "<style scoped>\n",
              "    .dataframe tbody tr th:only-of-type {\n",
              "        vertical-align: middle;\n",
              "    }\n",
              "\n",
              "    .dataframe tbody tr th {\n",
              "        vertical-align: top;\n",
              "    }\n",
              "\n",
              "    .dataframe thead th {\n",
              "        text-align: right;\n",
              "    }\n",
              "</style>\n",
              "<table border=\"1\" class=\"dataframe\">\n",
              "  <thead>\n",
              "    <tr style=\"text-align: right;\">\n",
              "      <th></th>\n",
              "      <th>text</th>\n",
              "      <th>x0</th>\n",
              "      <th>x1</th>\n",
              "      <th>top</th>\n",
              "      <th>bottom</th>\n",
              "      <th>upright</th>\n",
              "      <th>direction</th>\n",
              "      <th>page</th>\n",
              "    </tr>\n",
              "  </thead>\n",
              "  <tbody>\n",
              "    <tr>\n",
              "      <th>0</th>\n",
              "      <td>品　　　目</td>\n",
              "      <td>90.84</td>\n",
              "      <td>128.243</td>\n",
              "      <td>111.14</td>\n",
              "      <td>120.50</td>\n",
              "      <td>True</td>\n",
              "      <td>1</td>\n",
              "      <td>33</td>\n",
              "    </tr>\n",
              "    <tr>\n",
              "      <th>1</th>\n",
              "      <td>県　　内</td>\n",
              "      <td>156.26</td>\n",
              "      <td>187.448</td>\n",
              "      <td>111.14</td>\n",
              "      <td>120.50</td>\n",
              "      <td>True</td>\n",
              "      <td>1</td>\n",
              "      <td>33</td>\n",
              "    </tr>\n",
              "    <tr>\n",
              "      <th>2</th>\n",
              "      <td>単価</td>\n",
              "      <td>208.10</td>\n",
              "      <td>226.820</td>\n",
              "      <td>111.14</td>\n",
              "      <td>120.50</td>\n",
              "      <td>True</td>\n",
              "      <td>1</td>\n",
              "      <td>33</td>\n",
              "    </tr>\n",
              "    <tr>\n",
              "      <th>3</th>\n",
              "      <td>県　　外</td>\n",
              "      <td>249.41</td>\n",
              "      <td>280.598</td>\n",
              "      <td>111.14</td>\n",
              "      <td>120.50</td>\n",
              "      <td>True</td>\n",
              "      <td>1</td>\n",
              "      <td>33</td>\n",
              "    </tr>\n",
              "    <tr>\n",
              "      <th>4</th>\n",
              "      <td>単価</td>\n",
              "      <td>300.89</td>\n",
              "      <td>319.610</td>\n",
              "      <td>111.14</td>\n",
              "      <td>120.50</td>\n",
              "      <td>True</td>\n",
              "      <td>1</td>\n",
              "      <td>33</td>\n",
              "    </tr>\n",
              "    <tr>\n",
              "      <th>...</th>\n",
              "      <td>...</td>\n",
              "      <td>...</td>\n",
              "      <td>...</td>\n",
              "      <td>...</td>\n",
              "      <td>...</td>\n",
              "      <td>...</td>\n",
              "      <td>...</td>\n",
              "      <td>...</td>\n",
              "    </tr>\n",
              "    <tr>\n",
              "      <th>176</th>\n",
              "      <td>1,728</td>\n",
              "      <td>266.93</td>\n",
              "      <td>287.550</td>\n",
              "      <td>625.18</td>\n",
              "      <td>634.54</td>\n",
              "      <td>True</td>\n",
              "      <td>1</td>\n",
              "      <td>35</td>\n",
              "    </tr>\n",
              "    <tr>\n",
              "      <th>177</th>\n",
              "      <td>216</td>\n",
              "      <td>308.81</td>\n",
              "      <td>322.850</td>\n",
              "      <td>625.18</td>\n",
              "      <td>634.54</td>\n",
              "      <td>True</td>\n",
              "      <td>1</td>\n",
              "      <td>35</td>\n",
              "    </tr>\n",
              "    <tr>\n",
              "      <th>178</th>\n",
              "      <td>1,728</td>\n",
              "      <td>436.42</td>\n",
              "      <td>457.040</td>\n",
              "      <td>625.18</td>\n",
              "      <td>634.54</td>\n",
              "      <td>True</td>\n",
              "      <td>1</td>\n",
              "      <td>35</td>\n",
              "    </tr>\n",
              "    <tr>\n",
              "      <th>179</th>\n",
              "      <td>216</td>\n",
              "      <td>474.46</td>\n",
              "      <td>488.500</td>\n",
              "      <td>625.18</td>\n",
              "      <td>634.54</td>\n",
              "      <td>True</td>\n",
              "      <td>1</td>\n",
              "      <td>35</td>\n",
              "    </tr>\n",
              "    <tr>\n",
              "      <th>180</th>\n",
              "      <td>end</td>\n",
              "      <td>399.79</td>\n",
              "      <td>413.793</td>\n",
              "      <td>637.78</td>\n",
              "      <td>647.14</td>\n",
              "      <td>True</td>\n",
              "      <td>1</td>\n",
              "      <td>35</td>\n",
              "    </tr>\n",
              "  </tbody>\n",
              "</table>\n",
              "<p>593 rows × 8 columns</p>\n",
              "</div>"
            ],
            "text/plain": [
              "      text      x0       x1     top  bottom  upright  direction  page\n",
              "0    品　　　目   90.84  128.243  111.14  120.50     True          1    33\n",
              "1     県　　内  156.26  187.448  111.14  120.50     True          1    33\n",
              "2       単価  208.10  226.820  111.14  120.50     True          1    33\n",
              "3     県　　外  249.41  280.598  111.14  120.50     True          1    33\n",
              "4       単価  300.89  319.610  111.14  120.50     True          1    33\n",
              "..     ...     ...      ...     ...     ...      ...        ...   ...\n",
              "176  1,728  266.93  287.550  625.18  634.54     True          1    35\n",
              "177    216  308.81  322.850  625.18  634.54     True          1    35\n",
              "178  1,728  436.42  457.040  625.18  634.54     True          1    35\n",
              "179    216  474.46  488.500  625.18  634.54     True          1    35\n",
              "180    end  399.79  413.793  637.78  647.14     True          1    35\n",
              "\n",
              "[593 rows x 8 columns]"
            ]
          },
          "metadata": {
            "tags": []
          },
          "execution_count": 10
        }
      ]
    },
    {
      "cell_type": "code",
      "metadata": {
        "id": "5HexVWFbNtFN"
      },
      "source": [
        "# テキスト処理\r\n",
        "df[\"text\"] = df[\"text\"].str.replace(\"　\", \"\").str.replace(\",\", \"\")"
      ],
      "execution_count": 11,
      "outputs": []
    },
    {
      "cell_type": "code",
      "metadata": {
        "id": "Sddbr_kVIYfN"
      },
      "source": [
        "df[\"center\"] = df.loc[:, [\"x0\", \"x1\"]].median(axis=1)"
      ],
      "execution_count": 12,
      "outputs": []
    },
    {
      "cell_type": "markdown",
      "metadata": {
        "id": "1PSsCQXjitS6"
      },
      "source": [
        "# 位置調整\r\n",
        "\r\n",
        "snap_adjustmentのlimitで結合範囲を指定"
      ]
    },
    {
      "cell_type": "markdown",
      "metadata": {
        "id": "bIHKg9QmJxId"
      },
      "source": [
        "## 左基準"
      ]
    },
    {
      "cell_type": "code",
      "metadata": {
        "id": "TWwLy_2xJBgt"
      },
      "source": [
        "df[\"x0\"] = snap_adjustment(df[\"x0\"])        "
      ],
      "execution_count": 13,
      "outputs": []
    },
    {
      "cell_type": "code",
      "metadata": {
        "colab": {
          "base_uri": "https://localhost:8080/",
          "height": 518
        },
        "id": "U54h2KwbIIJc",
        "outputId": "bfb5142f-d37f-453a-8235-eba3ddd24507"
      },
      "source": [
        "df.plot.scatter(x=\"x0\", y=\"top\", ylim=(892, 0), figsize=(6, 8))"
      ],
      "execution_count": 14,
      "outputs": [
        {
          "output_type": "execute_result",
          "data": {
            "text/plain": [
              "<matplotlib.axes._subplots.AxesSubplot at 0x7fd63ab7f940>"
            ]
          },
          "metadata": {
            "tags": []
          },
          "execution_count": 14
        },
        {
          "output_type": "display_data",
          "data": {
            "image/png": "[encoded data removed]",
            "text/plain": [
              "<Figure size 432x576 with 1 Axes>"
            ]
          },
          "metadata": {
            "tags": [],
            "needs_background": "light"
          }
        }
      ]
    },
    {
      "cell_type": "markdown",
      "metadata": {
        "id": "LGt__zx_J_It"
      },
      "source": [
        "## 中央基準"
      ]
    },
    {
      "cell_type": "code",
      "metadata": {
        "id": "05a0cMoSKu99"
      },
      "source": [
        "df[\"center\"] = snap_adjustment(df[\"center\"], 25)"
      ],
      "execution_count": 15,
      "outputs": []
    },
    {
      "cell_type": "code",
      "metadata": {
        "colab": {
          "base_uri": "https://localhost:8080/",
          "height": 518
        },
        "id": "U7QZ1nobIdwE",
        "outputId": "f3eed5f7-df73-452d-a7ee-b3505bad4522"
      },
      "source": [
        "df.plot.scatter(x=\"center\", y=\"top\", ylim=(892, 0), figsize=(6, 8))"
      ],
      "execution_count": 16,
      "outputs": [
        {
          "output_type": "execute_result",
          "data": {
            "text/plain": [
              "<matplotlib.axes._subplots.AxesSubplot at 0x7fd63aae1828>"
            ]
          },
          "metadata": {
            "tags": []
          },
          "execution_count": 16
        },
        {
          "output_type": "display_data",
          "data": {
            "image/png": "[encoded data removed]",
            "text/plain": [
              "<Figure size 432x576 with 1 Axes>"
            ]
          },
          "metadata": {
            "tags": [],
            "needs_background": "light"
          }
        }
      ]
    },
    {
      "cell_type": "markdown",
      "metadata": {
        "id": "aqMfQEAsJbHM"
      },
      "source": [
        "## 右基準"
      ]
    },
    {
      "cell_type": "code",
      "metadata": {
        "id": "UhHn0LK0JTUd"
      },
      "source": [
        "df[\"x1\"] = snap_adjustment(df[\"x1\"])"
      ],
      "execution_count": 17,
      "outputs": []
    },
    {
      "cell_type": "code",
      "metadata": {
        "colab": {
          "base_uri": "https://localhost:8080/",
          "height": 518
        },
        "id": "sA3Qf-FFH438",
        "outputId": "4d2ef481-a241-4d8f-de16-90834690789e"
      },
      "source": [
        "df.plot.scatter(x=\"x1\", y=\"top\", ylim=(892, 0), figsize=(6, 8))"
      ],
      "execution_count": 18,
      "outputs": [
        {
          "output_type": "execute_result",
          "data": {
            "text/plain": [
              "<matplotlib.axes._subplots.AxesSubplot at 0x7fd63a60fa20>"
            ]
          },
          "metadata": {
            "tags": []
          },
          "execution_count": 18
        },
        {
          "output_type": "display_data",
          "data": {
            "image/png": "[encoded data removed]",
            "text/plain": [
              "<Figure size 432x576 with 1 Axes>"
            ]
          },
          "metadata": {
            "tags": [],
            "needs_background": "light"
          }
        }
      ]
    },
    {
      "cell_type": "code",
      "metadata": {
        "id": "H-h2XQJPFxaT"
      },
      "source": [
        "table = (\r\n",
        "    df.pivot_table(\r\n",
        "        index=[\"page\", \"top\"],\r\n",
        "        columns=\"center\",   # 基準を指定：\"x0\", \"x1\", \"center\"\r\n",
        "        values=\"text\",\r\n",
        "        aggfunc=lambda x: \"\".join(str(v) for v in x),\r\n",
        "    )\r\n",
        ").values\r\n",
        "\r\n",
        "df1 = pd.DataFrame(table).dropna(thresh=2).dropna(how=\"all\", axis=1)"
      ],
      "execution_count": 19,
      "outputs": []
    },
    {
      "cell_type": "code",
      "metadata": {
        "colab": {
          "base_uri": "https://localhost:8080/",
          "height": 424
        },
        "id": "4Ldd0DfjEtmk",
        "outputId": "17f6bf33-ed19-419d-fdae-22f7c4e04170"
      },
      "source": [
        "df1"
      ],
      "execution_count": 20,
      "outputs": [
        {
          "output_type": "execute_result",
          "data": {
            "text/html": [
              "<div>\n",
              "<style scoped>\n",
              "    .dataframe tbody tr th:only-of-type {\n",
              "        vertical-align: middle;\n",
              "    }\n",
              "\n",
              "    .dataframe tbody tr th {\n",
              "        vertical-align: top;\n",
              "    }\n",
              "\n",
              "    .dataframe thead th {\n",
              "        text-align: right;\n",
              "    }\n",
              "</style>\n",
              "<table border=\"1\" class=\"dataframe\">\n",
              "  <thead>\n",
              "    <tr style=\"text-align: right;\">\n",
              "      <th></th>\n",
              "      <th>0</th>\n",
              "      <th>1</th>\n",
              "      <th>2</th>\n",
              "      <th>3</th>\n",
              "      <th>4</th>\n",
              "      <th>5</th>\n",
              "      <th>6</th>\n",
              "      <th>7</th>\n",
              "      <th>8</th>\n",
              "    </tr>\n",
              "  </thead>\n",
              "  <tbody>\n",
              "    <tr>\n",
              "      <th>0</th>\n",
              "      <td>品目</td>\n",
              "      <td>県内</td>\n",
              "      <td>単価</td>\n",
              "      <td>県外</td>\n",
              "      <td>単価</td>\n",
              "      <td>外国</td>\n",
              "      <td>単価</td>\n",
              "      <td>総計</td>\n",
              "      <td>単価</td>\n",
              "    </tr>\n",
              "    <tr>\n",
              "      <th>1</th>\n",
              "      <td>キク</td>\n",
              "      <td>78</td>\n",
              "      <td>NaN</td>\n",
              "      <td>NaN</td>\n",
              "      <td>NaN</td>\n",
              "      <td>NaN</td>\n",
              "      <td>NaN</td>\n",
              "      <td>78</td>\n",
              "      <td>NaN</td>\n",
              "    </tr>\n",
              "    <tr>\n",
              "      <th>2</th>\n",
              "      <td>NaN</td>\n",
              "      <td>12895</td>\n",
              "      <td>165</td>\n",
              "      <td>NaN</td>\n",
              "      <td>NaN</td>\n",
              "      <td>NaN</td>\n",
              "      <td>NaN</td>\n",
              "      <td>12895</td>\n",
              "      <td>165</td>\n",
              "    </tr>\n",
              "    <tr>\n",
              "      <th>3</th>\n",
              "      <td>ベゴニア類</td>\n",
              "      <td>34</td>\n",
              "      <td>NaN</td>\n",
              "      <td>4218</td>\n",
              "      <td>NaN</td>\n",
              "      <td>NaN</td>\n",
              "      <td>NaN</td>\n",
              "      <td>4252</td>\n",
              "      <td>NaN</td>\n",
              "    </tr>\n",
              "    <tr>\n",
              "      <th>4</th>\n",
              "      <td>NaN</td>\n",
              "      <td>6426</td>\n",
              "      <td>189</td>\n",
              "      <td>1306246</td>\n",
              "      <td>310</td>\n",
              "      <td>NaN</td>\n",
              "      <td>NaN</td>\n",
              "      <td>1312672</td>\n",
              "      <td>309</td>\n",
              "    </tr>\n",
              "    <tr>\n",
              "      <th>...</th>\n",
              "      <td>...</td>\n",
              "      <td>...</td>\n",
              "      <td>...</td>\n",
              "      <td>...</td>\n",
              "      <td>...</td>\n",
              "      <td>...</td>\n",
              "      <td>...</td>\n",
              "      <td>...</td>\n",
              "      <td>...</td>\n",
              "    </tr>\n",
              "    <tr>\n",
              "      <th>130</th>\n",
              "      <td>NaN</td>\n",
              "      <td>12960</td>\n",
              "      <td>589</td>\n",
              "      <td>48600</td>\n",
              "      <td>386</td>\n",
              "      <td>NaN</td>\n",
              "      <td>NaN</td>\n",
              "      <td>61560</td>\n",
              "      <td>416</td>\n",
              "    </tr>\n",
              "    <tr>\n",
              "      <th>131</th>\n",
              "      <td>ハイドランジア</td>\n",
              "      <td>18</td>\n",
              "      <td>NaN</td>\n",
              "      <td>8756</td>\n",
              "      <td>NaN</td>\n",
              "      <td>NaN</td>\n",
              "      <td>NaN</td>\n",
              "      <td>8774</td>\n",
              "      <td>NaN</td>\n",
              "    </tr>\n",
              "    <tr>\n",
              "      <th>132</th>\n",
              "      <td>NaN</td>\n",
              "      <td>11286</td>\n",
              "      <td>627</td>\n",
              "      <td>8862941</td>\n",
              "      <td>1012</td>\n",
              "      <td>NaN</td>\n",
              "      <td>NaN</td>\n",
              "      <td>8874227</td>\n",
              "      <td>1011</td>\n",
              "    </tr>\n",
              "    <tr>\n",
              "      <th>133</th>\n",
              "      <td>プリムラ類</td>\n",
              "      <td>NaN</td>\n",
              "      <td>NaN</td>\n",
              "      <td>8</td>\n",
              "      <td>NaN</td>\n",
              "      <td>NaN</td>\n",
              "      <td>NaN</td>\n",
              "      <td>8</td>\n",
              "      <td>NaN</td>\n",
              "    </tr>\n",
              "    <tr>\n",
              "      <th>134</th>\n",
              "      <td>NaN</td>\n",
              "      <td>NaN</td>\n",
              "      <td>NaN</td>\n",
              "      <td>1728</td>\n",
              "      <td>216</td>\n",
              "      <td>NaN</td>\n",
              "      <td>NaN</td>\n",
              "      <td>1728</td>\n",
              "      <td>216</td>\n",
              "    </tr>\n",
              "  </tbody>\n",
              "</table>\n",
              "<p>135 rows × 9 columns</p>\n",
              "</div>"
            ],
            "text/plain": [
              "           0      1    2        3     4    5    6        7     8\n",
              "0         品目     県内   単価       県外    単価   外国   単価       総計    単価\n",
              "1         キク     78  NaN      NaN   NaN  NaN  NaN       78   NaN\n",
              "2        NaN  12895  165      NaN   NaN  NaN  NaN    12895   165\n",
              "3      ベゴニア類     34  NaN     4218   NaN  NaN  NaN     4252   NaN\n",
              "4        NaN   6426  189  1306246   310  NaN  NaN  1312672   309\n",
              "..       ...    ...  ...      ...   ...  ...  ...      ...   ...\n",
              "130      NaN  12960  589    48600   386  NaN  NaN    61560   416\n",
              "131  ハイドランジア     18  NaN     8756   NaN  NaN  NaN     8774   NaN\n",
              "132      NaN  11286  627  8862941  1012  NaN  NaN  8874227  1011\n",
              "133    プリムラ類    NaN  NaN        8   NaN  NaN  NaN        8   NaN\n",
              "134      NaN    NaN  NaN     1728   216  NaN  NaN     1728   216\n",
              "\n",
              "[135 rows x 9 columns]"
            ]
          },
          "metadata": {
            "tags": []
          },
          "execution_count": 20
        }
      ]
    },
    {
      "cell_type": "code",
      "metadata": {
        "id": "Mqpl5aKfK_vt"
      },
      "source": [
        "df1.to_csv(\"test.csv\", encoding=\"utf_8_sig\")"
      ],
      "execution_count": 21,
      "outputs": []
    },
    {
      "cell_type": "markdown",
      "metadata": {
        "id": "_Yvx-QJgZJVx"
      },
      "source": [
        "# 前処理"
      ]
    },
    {
      "cell_type": "code",
      "metadata": {
        "id": "vXbTJ5rcO-kO"
      },
      "source": [
        "df2 = df1[df1[0] != \"品目\"].copy()"
      ],
      "execution_count": 22,
      "outputs": []
    },
    {
      "cell_type": "code",
      "metadata": {
        "colab": {
          "base_uri": "https://localhost:8080/",
          "height": 424
        },
        "id": "EmYjL6bhP-yu",
        "outputId": "dd6817d2-95b1-49ca-9204-8eb8feefb34d"
      },
      "source": [
        "df2"
      ],
      "execution_count": 23,
      "outputs": [
        {
          "output_type": "execute_result",
          "data": {
            "text/html": [
              "<div>\n",
              "<style scoped>\n",
              "    .dataframe tbody tr th:only-of-type {\n",
              "        vertical-align: middle;\n",
              "    }\n",
              "\n",
              "    .dataframe tbody tr th {\n",
              "        vertical-align: top;\n",
              "    }\n",
              "\n",
              "    .dataframe thead th {\n",
              "        text-align: right;\n",
              "    }\n",
              "</style>\n",
              "<table border=\"1\" class=\"dataframe\">\n",
              "  <thead>\n",
              "    <tr style=\"text-align: right;\">\n",
              "      <th></th>\n",
              "      <th>0</th>\n",
              "      <th>1</th>\n",
              "      <th>2</th>\n",
              "      <th>3</th>\n",
              "      <th>4</th>\n",
              "      <th>5</th>\n",
              "      <th>6</th>\n",
              "      <th>7</th>\n",
              "      <th>8</th>\n",
              "    </tr>\n",
              "  </thead>\n",
              "  <tbody>\n",
              "    <tr>\n",
              "      <th>1</th>\n",
              "      <td>キク</td>\n",
              "      <td>78</td>\n",
              "      <td>NaN</td>\n",
              "      <td>NaN</td>\n",
              "      <td>NaN</td>\n",
              "      <td>NaN</td>\n",
              "      <td>NaN</td>\n",
              "      <td>78</td>\n",
              "      <td>NaN</td>\n",
              "    </tr>\n",
              "    <tr>\n",
              "      <th>2</th>\n",
              "      <td>NaN</td>\n",
              "      <td>12895</td>\n",
              "      <td>165</td>\n",
              "      <td>NaN</td>\n",
              "      <td>NaN</td>\n",
              "      <td>NaN</td>\n",
              "      <td>NaN</td>\n",
              "      <td>12895</td>\n",
              "      <td>165</td>\n",
              "    </tr>\n",
              "    <tr>\n",
              "      <th>3</th>\n",
              "      <td>ベゴニア類</td>\n",
              "      <td>34</td>\n",
              "      <td>NaN</td>\n",
              "      <td>4218</td>\n",
              "      <td>NaN</td>\n",
              "      <td>NaN</td>\n",
              "      <td>NaN</td>\n",
              "      <td>4252</td>\n",
              "      <td>NaN</td>\n",
              "    </tr>\n",
              "    <tr>\n",
              "      <th>4</th>\n",
              "      <td>NaN</td>\n",
              "      <td>6426</td>\n",
              "      <td>189</td>\n",
              "      <td>1306246</td>\n",
              "      <td>310</td>\n",
              "      <td>NaN</td>\n",
              "      <td>NaN</td>\n",
              "      <td>1312672</td>\n",
              "      <td>309</td>\n",
              "    </tr>\n",
              "    <tr>\n",
              "      <th>5</th>\n",
              "      <td>インパチェンス</td>\n",
              "      <td>804</td>\n",
              "      <td>NaN</td>\n",
              "      <td>70</td>\n",
              "      <td>NaN</td>\n",
              "      <td>NaN</td>\n",
              "      <td>NaN</td>\n",
              "      <td>874</td>\n",
              "      <td>NaN</td>\n",
              "    </tr>\n",
              "    <tr>\n",
              "      <th>...</th>\n",
              "      <td>...</td>\n",
              "      <td>...</td>\n",
              "      <td>...</td>\n",
              "      <td>...</td>\n",
              "      <td>...</td>\n",
              "      <td>...</td>\n",
              "      <td>...</td>\n",
              "      <td>...</td>\n",
              "      <td>...</td>\n",
              "    </tr>\n",
              "    <tr>\n",
              "      <th>130</th>\n",
              "      <td>NaN</td>\n",
              "      <td>12960</td>\n",
              "      <td>589</td>\n",
              "      <td>48600</td>\n",
              "      <td>386</td>\n",
              "      <td>NaN</td>\n",
              "      <td>NaN</td>\n",
              "      <td>61560</td>\n",
              "      <td>416</td>\n",
              "    </tr>\n",
              "    <tr>\n",
              "      <th>131</th>\n",
              "      <td>ハイドランジア</td>\n",
              "      <td>18</td>\n",
              "      <td>NaN</td>\n",
              "      <td>8756</td>\n",
              "      <td>NaN</td>\n",
              "      <td>NaN</td>\n",
              "      <td>NaN</td>\n",
              "      <td>8774</td>\n",
              "      <td>NaN</td>\n",
              "    </tr>\n",
              "    <tr>\n",
              "      <th>132</th>\n",
              "      <td>NaN</td>\n",
              "      <td>11286</td>\n",
              "      <td>627</td>\n",
              "      <td>8862941</td>\n",
              "      <td>1012</td>\n",
              "      <td>NaN</td>\n",
              "      <td>NaN</td>\n",
              "      <td>8874227</td>\n",
              "      <td>1011</td>\n",
              "    </tr>\n",
              "    <tr>\n",
              "      <th>133</th>\n",
              "      <td>プリムラ類</td>\n",
              "      <td>NaN</td>\n",
              "      <td>NaN</td>\n",
              "      <td>8</td>\n",
              "      <td>NaN</td>\n",
              "      <td>NaN</td>\n",
              "      <td>NaN</td>\n",
              "      <td>8</td>\n",
              "      <td>NaN</td>\n",
              "    </tr>\n",
              "    <tr>\n",
              "      <th>134</th>\n",
              "      <td>NaN</td>\n",
              "      <td>NaN</td>\n",
              "      <td>NaN</td>\n",
              "      <td>1728</td>\n",
              "      <td>216</td>\n",
              "      <td>NaN</td>\n",
              "      <td>NaN</td>\n",
              "      <td>1728</td>\n",
              "      <td>216</td>\n",
              "    </tr>\n",
              "  </tbody>\n",
              "</table>\n",
              "<p>134 rows × 9 columns</p>\n",
              "</div>"
            ],
            "text/plain": [
              "           0      1    2        3     4    5    6        7     8\n",
              "1         キク     78  NaN      NaN   NaN  NaN  NaN       78   NaN\n",
              "2        NaN  12895  165      NaN   NaN  NaN  NaN    12895   165\n",
              "3      ベゴニア類     34  NaN     4218   NaN  NaN  NaN     4252   NaN\n",
              "4        NaN   6426  189  1306246   310  NaN  NaN  1312672   309\n",
              "5    インパチェンス    804  NaN       70   NaN  NaN  NaN      874   NaN\n",
              "..       ...    ...  ...      ...   ...  ...  ...      ...   ...\n",
              "130      NaN  12960  589    48600   386  NaN  NaN    61560   416\n",
              "131  ハイドランジア     18  NaN     8756   NaN  NaN  NaN     8774   NaN\n",
              "132      NaN  11286  627  8862941  1012  NaN  NaN  8874227  1011\n",
              "133    プリムラ類    NaN  NaN        8   NaN  NaN  NaN        8   NaN\n",
              "134      NaN    NaN  NaN     1728   216  NaN  NaN     1728   216\n",
              "\n",
              "[134 rows x 9 columns]"
            ]
          },
          "metadata": {
            "tags": []
          },
          "execution_count": 23
        }
      ]
    },
    {
      "cell_type": "code",
      "metadata": {
        "id": "w-4StRmVP6OO"
      },
      "source": [
        "df2[0] = df2[0].fillna(method=\"ffill\")"
      ],
      "execution_count": 24,
      "outputs": []
    },
    {
      "cell_type": "code",
      "metadata": {
        "colab": {
          "base_uri": "https://localhost:8080/",
          "height": 424
        },
        "id": "cjpWFvmVQNju",
        "outputId": "f6c826a7-daaa-41bf-a172-601c344c2113"
      },
      "source": [
        "df_even = (\r\n",
        "    df2[::2]\r\n",
        "    .set_axis(\r\n",
        "        [\r\n",
        "            \"品名\",\r\n",
        "            \"県内_数量\",\r\n",
        "            \"県内_単価\",\r\n",
        "            \"県外_数量\",\r\n",
        "            \"県外_単価\",\r\n",
        "            \"外国_数量\",\r\n",
        "            \"外国_単価\",\r\n",
        "            \"総計_数量\",\r\n",
        "            \"総計_単価\",\r\n",
        "        ],\r\n",
        "        axis=1,\r\n",
        "    )\r\n",
        "    .dropna(how=\"all\", axis=1)\r\n",
        ")\r\n",
        "df_even"
      ],
      "execution_count": 25,
      "outputs": [
        {
          "output_type": "execute_result",
          "data": {
            "text/html": [
              "<div>\n",
              "<style scoped>\n",
              "    .dataframe tbody tr th:only-of-type {\n",
              "        vertical-align: middle;\n",
              "    }\n",
              "\n",
              "    .dataframe tbody tr th {\n",
              "        vertical-align: top;\n",
              "    }\n",
              "\n",
              "    .dataframe thead th {\n",
              "        text-align: right;\n",
              "    }\n",
              "</style>\n",
              "<table border=\"1\" class=\"dataframe\">\n",
              "  <thead>\n",
              "    <tr style=\"text-align: right;\">\n",
              "      <th></th>\n",
              "      <th>品名</th>\n",
              "      <th>県内_数量</th>\n",
              "      <th>県外_数量</th>\n",
              "      <th>総計_数量</th>\n",
              "    </tr>\n",
              "  </thead>\n",
              "  <tbody>\n",
              "    <tr>\n",
              "      <th>1</th>\n",
              "      <td>キク</td>\n",
              "      <td>78</td>\n",
              "      <td>NaN</td>\n",
              "      <td>78</td>\n",
              "    </tr>\n",
              "    <tr>\n",
              "      <th>3</th>\n",
              "      <td>ベゴニア類</td>\n",
              "      <td>34</td>\n",
              "      <td>4218</td>\n",
              "      <td>4252</td>\n",
              "    </tr>\n",
              "    <tr>\n",
              "      <th>5</th>\n",
              "      <td>インパチェンス</td>\n",
              "      <td>804</td>\n",
              "      <td>70</td>\n",
              "      <td>874</td>\n",
              "    </tr>\n",
              "    <tr>\n",
              "      <th>7</th>\n",
              "      <td>ガーベラ</td>\n",
              "      <td>96</td>\n",
              "      <td>2432</td>\n",
              "      <td>2528</td>\n",
              "    </tr>\n",
              "    <tr>\n",
              "      <th>9</th>\n",
              "      <td>ゼラニウム</td>\n",
              "      <td>416</td>\n",
              "      <td>126</td>\n",
              "      <td>542</td>\n",
              "    </tr>\n",
              "    <tr>\n",
              "      <th>...</th>\n",
              "      <td>...</td>\n",
              "      <td>...</td>\n",
              "      <td>...</td>\n",
              "      <td>...</td>\n",
              "    </tr>\n",
              "    <tr>\n",
              "      <th>125</th>\n",
              "      <td>クレマチス</td>\n",
              "      <td>NaN</td>\n",
              "      <td>252</td>\n",
              "      <td>252</td>\n",
              "    </tr>\n",
              "    <tr>\n",
              "      <th>127</th>\n",
              "      <td>デンドロビウム</td>\n",
              "      <td>NaN</td>\n",
              "      <td>603</td>\n",
              "      <td>603</td>\n",
              "    </tr>\n",
              "    <tr>\n",
              "      <th>129</th>\n",
              "      <td>ツツジ</td>\n",
              "      <td>22</td>\n",
              "      <td>126</td>\n",
              "      <td>148</td>\n",
              "    </tr>\n",
              "    <tr>\n",
              "      <th>131</th>\n",
              "      <td>ハイドランジア</td>\n",
              "      <td>18</td>\n",
              "      <td>8756</td>\n",
              "      <td>8774</td>\n",
              "    </tr>\n",
              "    <tr>\n",
              "      <th>133</th>\n",
              "      <td>プリムラ類</td>\n",
              "      <td>NaN</td>\n",
              "      <td>8</td>\n",
              "      <td>8</td>\n",
              "    </tr>\n",
              "  </tbody>\n",
              "</table>\n",
              "<p>67 rows × 4 columns</p>\n",
              "</div>"
            ],
            "text/plain": [
              "          品名 県内_数量 県外_数量 総計_数量\n",
              "1         キク    78   NaN    78\n",
              "3      ベゴニア類    34  4218  4252\n",
              "5    インパチェンス   804    70   874\n",
              "7       ガーベラ    96  2432  2528\n",
              "9      ゼラニウム   416   126   542\n",
              "..       ...   ...   ...   ...\n",
              "125    クレマチス   NaN   252   252\n",
              "127  デンドロビウム   NaN   603   603\n",
              "129      ツツジ    22   126   148\n",
              "131  ハイドランジア    18  8756  8774\n",
              "133    プリムラ類   NaN     8     8\n",
              "\n",
              "[67 rows x 4 columns]"
            ]
          },
          "metadata": {
            "tags": []
          },
          "execution_count": 25
        }
      ]
    },
    {
      "cell_type": "code",
      "metadata": {
        "colab": {
          "base_uri": "https://localhost:8080/",
          "height": 424
        },
        "id": "TiBgOmbyQOUe",
        "outputId": "d3beea9d-c07e-4dfa-b0ab-60b310c540a5"
      },
      "source": [
        "df_odd = (\r\n",
        "    df2[1::2]\r\n",
        "    .set_axis(\r\n",
        "        [\r\n",
        "            \"品名\",\r\n",
        "            \"県内_金額\",\r\n",
        "            \"県内_単価\",\r\n",
        "            \"県外_金額\",\r\n",
        "            \"県外_単価\",\r\n",
        "            \"外国_金額\",\r\n",
        "            \"外国_単価\",\r\n",
        "            \"総計_金額\",\r\n",
        "            \"総計_単価\",\r\n",
        "        ],\r\n",
        "        axis=1,\r\n",
        "    )\r\n",
        "    .dropna(how=\"all\", axis=1)\r\n",
        ")\r\n",
        "df_odd"
      ],
      "execution_count": 26,
      "outputs": [
        {
          "output_type": "execute_result",
          "data": {
            "text/html": [
              "<div>\n",
              "<style scoped>\n",
              "    .dataframe tbody tr th:only-of-type {\n",
              "        vertical-align: middle;\n",
              "    }\n",
              "\n",
              "    .dataframe tbody tr th {\n",
              "        vertical-align: top;\n",
              "    }\n",
              "\n",
              "    .dataframe thead th {\n",
              "        text-align: right;\n",
              "    }\n",
              "</style>\n",
              "<table border=\"1\" class=\"dataframe\">\n",
              "  <thead>\n",
              "    <tr style=\"text-align: right;\">\n",
              "      <th></th>\n",
              "      <th>品名</th>\n",
              "      <th>県内_金額</th>\n",
              "      <th>県内_単価</th>\n",
              "      <th>県外_金額</th>\n",
              "      <th>県外_単価</th>\n",
              "      <th>総計_金額</th>\n",
              "      <th>総計_単価</th>\n",
              "    </tr>\n",
              "  </thead>\n",
              "  <tbody>\n",
              "    <tr>\n",
              "      <th>2</th>\n",
              "      <td>キク</td>\n",
              "      <td>12895</td>\n",
              "      <td>165</td>\n",
              "      <td>NaN</td>\n",
              "      <td>NaN</td>\n",
              "      <td>12895</td>\n",
              "      <td>165</td>\n",
              "    </tr>\n",
              "    <tr>\n",
              "      <th>4</th>\n",
              "      <td>ベゴニア類</td>\n",
              "      <td>6426</td>\n",
              "      <td>189</td>\n",
              "      <td>1306246</td>\n",
              "      <td>310</td>\n",
              "      <td>1312672</td>\n",
              "      <td>309</td>\n",
              "    </tr>\n",
              "    <tr>\n",
              "      <th>6</th>\n",
              "      <td>インパチェンス</td>\n",
              "      <td>100607</td>\n",
              "      <td>125</td>\n",
              "      <td>19440</td>\n",
              "      <td>278</td>\n",
              "      <td>120047</td>\n",
              "      <td>137</td>\n",
              "    </tr>\n",
              "    <tr>\n",
              "      <th>8</th>\n",
              "      <td>ガーベラ</td>\n",
              "      <td>8294</td>\n",
              "      <td>86</td>\n",
              "      <td>543593</td>\n",
              "      <td>224</td>\n",
              "      <td>551887</td>\n",
              "      <td>218</td>\n",
              "    </tr>\n",
              "    <tr>\n",
              "      <th>10</th>\n",
              "      <td>ゼラニウム</td>\n",
              "      <td>55037</td>\n",
              "      <td>132</td>\n",
              "      <td>57240</td>\n",
              "      <td>454</td>\n",
              "      <td>112277</td>\n",
              "      <td>207</td>\n",
              "    </tr>\n",
              "    <tr>\n",
              "      <th>...</th>\n",
              "      <td>...</td>\n",
              "      <td>...</td>\n",
              "      <td>...</td>\n",
              "      <td>...</td>\n",
              "      <td>...</td>\n",
              "      <td>...</td>\n",
              "      <td>...</td>\n",
              "    </tr>\n",
              "    <tr>\n",
              "      <th>126</th>\n",
              "      <td>クレマチス</td>\n",
              "      <td>NaN</td>\n",
              "      <td>NaN</td>\n",
              "      <td>282552</td>\n",
              "      <td>1121</td>\n",
              "      <td>282552</td>\n",
              "      <td>1121</td>\n",
              "    </tr>\n",
              "    <tr>\n",
              "      <th>128</th>\n",
              "      <td>デンドロビウム</td>\n",
              "      <td>NaN</td>\n",
              "      <td>NaN</td>\n",
              "      <td>499111</td>\n",
              "      <td>828</td>\n",
              "      <td>499111</td>\n",
              "      <td>828</td>\n",
              "    </tr>\n",
              "    <tr>\n",
              "      <th>130</th>\n",
              "      <td>ツツジ</td>\n",
              "      <td>12960</td>\n",
              "      <td>589</td>\n",
              "      <td>48600</td>\n",
              "      <td>386</td>\n",
              "      <td>61560</td>\n",
              "      <td>416</td>\n",
              "    </tr>\n",
              "    <tr>\n",
              "      <th>132</th>\n",
              "      <td>ハイドランジア</td>\n",
              "      <td>11286</td>\n",
              "      <td>627</td>\n",
              "      <td>8862941</td>\n",
              "      <td>1012</td>\n",
              "      <td>8874227</td>\n",
              "      <td>1011</td>\n",
              "    </tr>\n",
              "    <tr>\n",
              "      <th>134</th>\n",
              "      <td>プリムラ類</td>\n",
              "      <td>NaN</td>\n",
              "      <td>NaN</td>\n",
              "      <td>1728</td>\n",
              "      <td>216</td>\n",
              "      <td>1728</td>\n",
              "      <td>216</td>\n",
              "    </tr>\n",
              "  </tbody>\n",
              "</table>\n",
              "<p>67 rows × 7 columns</p>\n",
              "</div>"
            ],
            "text/plain": [
              "          品名   県内_金額 県内_単価    県外_金額 県外_単価    総計_金額 総計_単価\n",
              "2         キク   12895   165      NaN   NaN    12895   165\n",
              "4      ベゴニア類    6426   189  1306246   310  1312672   309\n",
              "6    インパチェンス  100607   125    19440   278   120047   137\n",
              "8       ガーベラ    8294    86   543593   224   551887   218\n",
              "10     ゼラニウム   55037   132    57240   454   112277   207\n",
              "..       ...     ...   ...      ...   ...      ...   ...\n",
              "126    クレマチス     NaN   NaN   282552  1121   282552  1121\n",
              "128  デンドロビウム     NaN   NaN   499111   828   499111   828\n",
              "130      ツツジ   12960   589    48600   386    61560   416\n",
              "132  ハイドランジア   11286   627  8862941  1012  8874227  1011\n",
              "134    プリムラ類     NaN   NaN     1728   216     1728   216\n",
              "\n",
              "[67 rows x 7 columns]"
            ]
          },
          "metadata": {
            "tags": []
          },
          "execution_count": 26
        }
      ]
    },
    {
      "cell_type": "code",
      "metadata": {
        "id": "ddugehznQROW"
      },
      "source": [
        "df3 = (\r\n",
        "    pd.merge(df_even, df_odd, on=\"品名\")\r\n",
        "    .set_index(\"品名\")\r\n",
        "    .reindex(\r\n",
        "        columns=[\r\n",
        "            \"県内_数量\",\r\n",
        "            \"県内_単価\",\r\n",
        "            \"県内_金額\",\r\n",
        "            \"県外_数量\",\r\n",
        "            \"県外_単価\",\r\n",
        "            \"県外_金額\",\r\n",
        "            \"外国_数量\",\r\n",
        "            \"外国_単価\",\r\n",
        "            \"外国_金額\",\r\n",
        "            \"総計_数量\",\r\n",
        "            \"総計_単価\",\r\n",
        "            \"総計_金額\",\r\n",
        "        ]\r\n",
        "    )\r\n",
        ")"
      ],
      "execution_count": 27,
      "outputs": []
    },
    {
      "cell_type": "code",
      "metadata": {
        "colab": {
          "base_uri": "https://localhost:8080/",
          "height": 455
        },
        "id": "-JziEPwBQUb3",
        "outputId": "b09c8e6a-2799-4a42-b4b9-a46659a03a87"
      },
      "source": [
        "df3"
      ],
      "execution_count": 28,
      "outputs": [
        {
          "output_type": "execute_result",
          "data": {
            "text/html": [
              "<div>\n",
              "<style scoped>\n",
              "    .dataframe tbody tr th:only-of-type {\n",
              "        vertical-align: middle;\n",
              "    }\n",
              "\n",
              "    .dataframe tbody tr th {\n",
              "        vertical-align: top;\n",
              "    }\n",
              "\n",
              "    .dataframe thead th {\n",
              "        text-align: right;\n",
              "    }\n",
              "</style>\n",
              "<table border=\"1\" class=\"dataframe\">\n",
              "  <thead>\n",
              "    <tr style=\"text-align: right;\">\n",
              "      <th></th>\n",
              "      <th>県内_数量</th>\n",
              "      <th>県内_単価</th>\n",
              "      <th>県内_金額</th>\n",
              "      <th>県外_数量</th>\n",
              "      <th>県外_単価</th>\n",
              "      <th>県外_金額</th>\n",
              "      <th>外国_数量</th>\n",
              "      <th>外国_単価</th>\n",
              "      <th>外国_金額</th>\n",
              "      <th>総計_数量</th>\n",
              "      <th>総計_単価</th>\n",
              "      <th>総計_金額</th>\n",
              "    </tr>\n",
              "    <tr>\n",
              "      <th>品名</th>\n",
              "      <th></th>\n",
              "      <th></th>\n",
              "      <th></th>\n",
              "      <th></th>\n",
              "      <th></th>\n",
              "      <th></th>\n",
              "      <th></th>\n",
              "      <th></th>\n",
              "      <th></th>\n",
              "      <th></th>\n",
              "      <th></th>\n",
              "      <th></th>\n",
              "    </tr>\n",
              "  </thead>\n",
              "  <tbody>\n",
              "    <tr>\n",
              "      <th>キク</th>\n",
              "      <td>78</td>\n",
              "      <td>165</td>\n",
              "      <td>12895</td>\n",
              "      <td>NaN</td>\n",
              "      <td>NaN</td>\n",
              "      <td>NaN</td>\n",
              "      <td>NaN</td>\n",
              "      <td>NaN</td>\n",
              "      <td>NaN</td>\n",
              "      <td>78</td>\n",
              "      <td>165</td>\n",
              "      <td>12895</td>\n",
              "    </tr>\n",
              "    <tr>\n",
              "      <th>ベゴニア類</th>\n",
              "      <td>34</td>\n",
              "      <td>189</td>\n",
              "      <td>6426</td>\n",
              "      <td>4218</td>\n",
              "      <td>310</td>\n",
              "      <td>1306246</td>\n",
              "      <td>NaN</td>\n",
              "      <td>NaN</td>\n",
              "      <td>NaN</td>\n",
              "      <td>4252</td>\n",
              "      <td>309</td>\n",
              "      <td>1312672</td>\n",
              "    </tr>\n",
              "    <tr>\n",
              "      <th>インパチェンス</th>\n",
              "      <td>804</td>\n",
              "      <td>125</td>\n",
              "      <td>100607</td>\n",
              "      <td>70</td>\n",
              "      <td>278</td>\n",
              "      <td>19440</td>\n",
              "      <td>NaN</td>\n",
              "      <td>NaN</td>\n",
              "      <td>NaN</td>\n",
              "      <td>874</td>\n",
              "      <td>137</td>\n",
              "      <td>120047</td>\n",
              "    </tr>\n",
              "    <tr>\n",
              "      <th>ガーベラ</th>\n",
              "      <td>96</td>\n",
              "      <td>86</td>\n",
              "      <td>8294</td>\n",
              "      <td>2432</td>\n",
              "      <td>224</td>\n",
              "      <td>543593</td>\n",
              "      <td>NaN</td>\n",
              "      <td>NaN</td>\n",
              "      <td>NaN</td>\n",
              "      <td>2528</td>\n",
              "      <td>218</td>\n",
              "      <td>551887</td>\n",
              "    </tr>\n",
              "    <tr>\n",
              "      <th>ゼラニウム</th>\n",
              "      <td>416</td>\n",
              "      <td>132</td>\n",
              "      <td>55037</td>\n",
              "      <td>126</td>\n",
              "      <td>454</td>\n",
              "      <td>57240</td>\n",
              "      <td>NaN</td>\n",
              "      <td>NaN</td>\n",
              "      <td>NaN</td>\n",
              "      <td>542</td>\n",
              "      <td>207</td>\n",
              "      <td>112277</td>\n",
              "    </tr>\n",
              "    <tr>\n",
              "      <th>...</th>\n",
              "      <td>...</td>\n",
              "      <td>...</td>\n",
              "      <td>...</td>\n",
              "      <td>...</td>\n",
              "      <td>...</td>\n",
              "      <td>...</td>\n",
              "      <td>...</td>\n",
              "      <td>...</td>\n",
              "      <td>...</td>\n",
              "      <td>...</td>\n",
              "      <td>...</td>\n",
              "      <td>...</td>\n",
              "    </tr>\n",
              "    <tr>\n",
              "      <th>クレマチス</th>\n",
              "      <td>NaN</td>\n",
              "      <td>NaN</td>\n",
              "      <td>NaN</td>\n",
              "      <td>252</td>\n",
              "      <td>1121</td>\n",
              "      <td>282552</td>\n",
              "      <td>NaN</td>\n",
              "      <td>NaN</td>\n",
              "      <td>NaN</td>\n",
              "      <td>252</td>\n",
              "      <td>1121</td>\n",
              "      <td>282552</td>\n",
              "    </tr>\n",
              "    <tr>\n",
              "      <th>デンドロビウム</th>\n",
              "      <td>NaN</td>\n",
              "      <td>NaN</td>\n",
              "      <td>NaN</td>\n",
              "      <td>603</td>\n",
              "      <td>828</td>\n",
              "      <td>499111</td>\n",
              "      <td>NaN</td>\n",
              "      <td>NaN</td>\n",
              "      <td>NaN</td>\n",
              "      <td>603</td>\n",
              "      <td>828</td>\n",
              "      <td>499111</td>\n",
              "    </tr>\n",
              "    <tr>\n",
              "      <th>ツツジ</th>\n",
              "      <td>22</td>\n",
              "      <td>589</td>\n",
              "      <td>12960</td>\n",
              "      <td>126</td>\n",
              "      <td>386</td>\n",
              "      <td>48600</td>\n",
              "      <td>NaN</td>\n",
              "      <td>NaN</td>\n",
              "      <td>NaN</td>\n",
              "      <td>148</td>\n",
              "      <td>416</td>\n",
              "      <td>61560</td>\n",
              "    </tr>\n",
              "    <tr>\n",
              "      <th>ハイドランジア</th>\n",
              "      <td>18</td>\n",
              "      <td>627</td>\n",
              "      <td>11286</td>\n",
              "      <td>8756</td>\n",
              "      <td>1012</td>\n",
              "      <td>8862941</td>\n",
              "      <td>NaN</td>\n",
              "      <td>NaN</td>\n",
              "      <td>NaN</td>\n",
              "      <td>8774</td>\n",
              "      <td>1011</td>\n",
              "      <td>8874227</td>\n",
              "    </tr>\n",
              "    <tr>\n",
              "      <th>プリムラ類</th>\n",
              "      <td>NaN</td>\n",
              "      <td>NaN</td>\n",
              "      <td>NaN</td>\n",
              "      <td>8</td>\n",
              "      <td>216</td>\n",
              "      <td>1728</td>\n",
              "      <td>NaN</td>\n",
              "      <td>NaN</td>\n",
              "      <td>NaN</td>\n",
              "      <td>8</td>\n",
              "      <td>216</td>\n",
              "      <td>1728</td>\n",
              "    </tr>\n",
              "  </tbody>\n",
              "</table>\n",
              "<p>67 rows × 12 columns</p>\n",
              "</div>"
            ],
            "text/plain": [
              "        県内_数量 県内_単価   県内_金額 県外_数量 県外_単価  ... 外国_単価  外国_金額  総計_数量  総計_単価    総計_金額\n",
              "品名                                       ...                                    \n",
              "キク         78   165   12895   NaN   NaN  ...   NaN    NaN     78    165    12895\n",
              "ベゴニア類      34   189    6426  4218   310  ...   NaN    NaN   4252    309  1312672\n",
              "インパチェンス   804   125  100607    70   278  ...   NaN    NaN    874    137   120047\n",
              "ガーベラ       96    86    8294  2432   224  ...   NaN    NaN   2528    218   551887\n",
              "ゼラニウム     416   132   55037   126   454  ...   NaN    NaN    542    207   112277\n",
              "...       ...   ...     ...   ...   ...  ...   ...    ...    ...    ...      ...\n",
              "クレマチス     NaN   NaN     NaN   252  1121  ...   NaN    NaN    252   1121   282552\n",
              "デンドロビウム   NaN   NaN     NaN   603   828  ...   NaN    NaN    603    828   499111\n",
              "ツツジ        22   589   12960   126   386  ...   NaN    NaN    148    416    61560\n",
              "ハイドランジア    18   627   11286  8756  1012  ...   NaN    NaN   8774   1011  8874227\n",
              "プリムラ類     NaN   NaN     NaN     8   216  ...   NaN    NaN      8    216     1728\n",
              "\n",
              "[67 rows x 12 columns]"
            ]
          },
          "metadata": {
            "tags": []
          },
          "execution_count": 28
        }
      ]
    },
    {
      "cell_type": "code",
      "metadata": {
        "id": "YyJXS-jpQWYP"
      },
      "source": [
        "df3.to_csv(\"okinawa.csv\", encoding=\"utf_8_sig\")"
      ],
      "execution_count": 29,
      "outputs": []
    },
    {
      "cell_type": "code",
      "metadata": {
        "colab": {
          "base_uri": "https://localhost:8080/",
          "height": 17
        },
        "id": "Y8xh701WQYXu",
        "outputId": "1eb1073f-9285-4ed1-f68d-2e55566f552e"
      },
      "source": [
        "from google.colab import files\r\n",
        "\r\n",
        "files.download(\"okinawa.csv\")"
      ],
      "execution_count": 30,
      "outputs": [
        {
          "output_type": "display_data",
          "data": {
            "application/javascript": [
              "\n",
              "    async function download(id, filename, size) {\n",
              "      if (!google.colab.kernel.accessAllowed) {\n",
              "        return;\n",
              "      }\n",
              "      const div = document.createElement('div');\n",
              "      const label = document.createElement('label');\n",
              "      label.textContent = `Downloading \"${filename}\": `;\n",
              "      div.appendChild(label);\n",
              "      const progress = document.createElement('progress');\n",
              "      progress.max = size;\n",
              "      div.appendChild(progress);\n",
              "      document.body.appendChild(div);\n",
              "\n",
              "      const buffers = [];\n",
              "      let downloaded = 0;\n",
              "\n",
              "      const channel = await google.colab.kernel.comms.open(id);\n",
              "      // Send a message to notify the kernel that we're ready.\n",
              "      channel.send({})\n",
              "\n",
              "      for await (const message of channel.messages) {\n",
              "        // Send a message to notify the kernel that we're ready.\n",
              "        channel.send({})\n",
              "        if (message.buffers) {\n",
              "          for (const buffer of message.buffers) {\n",
              "            buffers.push(buffer);\n",
              "            downloaded += buffer.byteLength;\n",
              "            progress.value = downloaded;\n",
              "          }\n",
              "        }\n",
              "      }\n",
              "      const blob = new Blob(buffers, {type: 'application/binary'});\n",
              "      const a = document.createElement('a');\n",
              "      a.href = window.URL.createObjectURL(blob);\n",
              "      a.download = filename;\n",
              "      div.appendChild(a);\n",
              "      a.click();\n",
              "      div.remove();\n",
              "    }\n",
              "  "
            ],
            "text/plain": [
              "<IPython.core.display.Javascript object>"
            ]
          },
          "metadata": {
            "tags": []
          }
        },
        {
          "output_type": "display_data",
          "data": {
            "application/javascript": [
              "download(\"download_100bf879-d595-4a96-91e2-a18e18f66c5b\", \"okinawa.csv\", 4113)"
            ],
            "text/plain": [
              "<IPython.core.display.Javascript object>"
            ]
          },
          "metadata": {
            "tags": []
          }
        }
      ]
    }
  ]
}