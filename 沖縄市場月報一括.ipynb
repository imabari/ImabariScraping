{
  "nbformat": 4,
  "nbformat_minor": 0,
  "metadata": {
    "colab": {
      "name": "沖縄市場月報一括.ipynb",
      "provenance": [],
      "collapsed_sections": [],
      "toc_visible": true,
      "authorship_tag": "ABX9TyMnkywo6n08cVwyVfAhu6rl",
      "include_colab_link": true
    },
    "kernelspec": {
      "name": "python3",
      "display_name": "Python 3"
    }
  },
  "cells": [
    {
      "cell_type": "markdown",
      "metadata": {
        "id": "view-in-github",
        "colab_type": "text"
      },
      "source": [
        "<a href=\"https://colab.research.google.com/github/imabari/ImabariScraping/blob/master/%E6%B2%96%E7%B8%84%E5%B8%82%E5%A0%B4%E6%9C%88%E5%A0%B1%E4%B8%80%E6%8B%AC.ipynb\" target=\"_parent\"><img src=\"https://colab.research.google.com/assets/colab-badge.svg\" alt=\"Open In Colab\"/></a>"
      ]
    },
    {
      "cell_type": "code",
      "metadata": {
        "colab": {
          "base_uri": "https://localhost:8080/"
        },
        "id": "hN7Cb3_crIpD",
        "outputId": "18dad904-5614-474e-c0e0-079ac30b0cae"
      },
      "source": [
        "!pip install pdfplumber"
      ],
      "execution_count": null,
      "outputs": [
        {
          "output_type": "stream",
          "text": [
            "Requirement already satisfied: pdfplumber in /usr/local/lib/python3.6/dist-packages (0.5.26)\n",
            "Requirement already satisfied: Pillow>=7.0.0 in /usr/local/lib/python3.6/dist-packages (from pdfplumber) (7.0.0)\n",
            "Requirement already satisfied: Wand in /usr/local/lib/python3.6/dist-packages (from pdfplumber) (0.6.5)\n",
            "Requirement already satisfied: pdfminer.six==20200517 in /usr/local/lib/python3.6/dist-packages (from pdfplumber) (20200517)\n",
            "Requirement already satisfied: chardet; python_version > \"3.0\" in /usr/local/lib/python3.6/dist-packages (from pdfminer.six==20200517->pdfplumber) (3.0.4)\n",
            "Requirement already satisfied: sortedcontainers in /usr/local/lib/python3.6/dist-packages (from pdfminer.six==20200517->pdfplumber) (2.3.0)\n",
            "Requirement already satisfied: pycryptodome in /usr/local/lib/python3.6/dist-packages (from pdfminer.six==20200517->pdfplumber) (3.10.1)\n"
          ],
          "name": "stdout"
        }
      ]
    },
    {
      "cell_type": "code",
      "metadata": {
        "id": "dHGKMKU3rJgE"
      },
      "source": [
        "import pathlib\r\n",
        "\r\n",
        "import pandas as pd\r\n",
        "import pdfplumber\r\n",
        "import requests\r\n",
        "from bs4 import BeautifulSoup"
      ],
      "execution_count": null,
      "outputs": []
    },
    {
      "cell_type": "code",
      "metadata": {
        "id": "1H5JOTC0rJit"
      },
      "source": [
        "def fetch_file(url, dir=\".\"):\r\n",
        "\r\n",
        "    p = pathlib.Path(dir, pathlib.PurePath(url).name)\r\n",
        "    p.parent.mkdir(parents=True, exist_ok=True)\r\n",
        "\r\n",
        "    if not p.exists():\r\n",
        "\r\n",
        "        r = requests.get(url)\r\n",
        "        r.raise_for_status()\r\n",
        "\r\n",
        "        with p.open(mode=\"wb\") as fw:\r\n",
        "            fw.write(r.content)\r\n",
        "\r\n",
        "    return p"
      ],
      "execution_count": null,
      "outputs": []
    },
    {
      "cell_type": "code",
      "metadata": {
        "id": "nnJEoD-DrJlV"
      },
      "source": [
        "def snap_adjustment(s, limit=5):\r\n",
        "\r\n",
        "    count = s.value_counts().sort_index()\r\n",
        "\r\n",
        "    index = 0\r\n",
        "    value = 0\r\n",
        "\r\n",
        "    for i, v in count.items():\r\n",
        "\r\n",
        "        if (i - index) < limit:\r\n",
        "\r\n",
        "            if v > value:\r\n",
        "                s = s.replace(index, i)\r\n",
        "                index = i\r\n",
        "                value = v\r\n",
        "\r\n",
        "            else:\r\n",
        "                s = s.replace(i, index)\r\n",
        "\r\n",
        "        else:\r\n",
        "            index = i\r\n",
        "            value = v\r\n",
        "\r\n",
        "    return s"
      ],
      "execution_count": null,
      "outputs": []
    },
    {
      "cell_type": "code",
      "metadata": {
        "id": "s80_shAKqwrl"
      },
      "source": [
        "links = [\r\n",
        "#\"https://www.pref.okinawa.jp/site/norin/oroshiuri/documents/documents/201901.pdf\",\r\n",
        "#\"https://www.pref.okinawa.jp/site/norin/oroshiuri/documents/documents/201902.pdf\",\r\n",
        "    \"https://www.pref.okinawa.jp/site/norin/oroshiuri/documents/documents/geppou3103.pdf\",\r\n",
        "    \"https://www.pref.okinawa.jp/site/norin/oroshiuri/documents/documents/geppou3104.pdf\",\r\n",
        "    \"https://www.pref.okinawa.jp/site/norin/oroshiuri/documents/documents/geppou0105.pdf\",\r\n",
        "    \"https://www.pref.okinawa.jp/site/norin/oroshiuri/documents/documents/geppou0106.pdf\",\r\n",
        "    \"https://www.pref.okinawa.jp/site/norin/oroshiuri/documents/documents/geppou0107.pdf\",\r\n",
        "    \"https://www.pref.okinawa.jp/site/norin/oroshiuri/documents/documents/geppou0108.pdf\",\r\n",
        "    \"https://www.pref.okinawa.jp/site/norin/oroshiuri/documents/documents/geppou0109.pdf\",\r\n",
        "    \"https://www.pref.okinawa.jp/site/norin/oroshiuri/documents/documents/geppou0110.pdf\",\r\n",
        "    \"https://www.pref.okinawa.jp/site/norin/oroshiuri/documents/documents/geppou0111.pdf\",\r\n",
        "    \"https://www.pref.okinawa.jp/site/norin/oroshiuri/documents/documents/geppou0112.pdf\",\r\n",
        "]"
      ],
      "execution_count": null,
      "outputs": []
    },
    {
      "cell_type": "markdown",
      "metadata": {
        "id": "h5nXQTwLwl_W"
      },
      "source": [
        "# ディレクトリ名と範囲を指定\r\n",
        "\r\n",
        "+ yasai\r\n",
        "[6:10]\r\n",
        "\r\n",
        "+ kudamono\r\n",
        "[10:13]\r\n",
        "\r\n",
        "+ kiribana\r\n",
        "[29:32]\r\n",
        "\r\n",
        "+ hachimono\r\n",
        "[32:35]"
      ]
    },
    {
      "cell_type": "code",
      "metadata": {
        "id": "zexyLqnkuo_1"
      },
      "source": [
        "# ディレクトリ名\r\n",
        "DATA_DIR = \"kiribana\""
      ],
      "execution_count": null,
      "outputs": []
    },
    {
      "cell_type": "code",
      "metadata": {
        "colab": {
          "base_uri": "https://localhost:8080/"
        },
        "id": "oW3xCUqIrU28",
        "outputId": "3f8693d7-9b96-4857-f916-1dd1b99ea72f"
      },
      "source": [
        "for link in links:\r\n",
        "\r\n",
        "    print(link)\r\n",
        "\r\n",
        "    path_pdf = fetch_file(link, DATA_DIR)\r\n",
        "\r\n",
        "    with pdfplumber.open(path_pdf) as pdf:\r\n",
        "\r\n",
        "        dfs = []\r\n",
        "        flag = False\r\n",
        "\r\n",
        "        # ページ範囲指定（0スタート）\r\n",
        "        for page in pdf.pages[29:32]:\r\n",
        "\r\n",
        "            if page.lines:\r\n",
        "\r\n",
        "                # 最初と最後のラインの範囲を指定\r\n",
        "                crop = page.within_bbox((0, page.lines[0][\"top\"] - 2, page.width, page.lines[-1][\"top\"] + 2))\r\n",
        "\r\n",
        "            else:\r\n",
        "                \r\n",
        "                # 失敗する場合はこちらで直接範囲指定\r\n",
        "                # crop = page.within_bbox((0, 105, page.width, 680))\r\n",
        "                continue\r\n",
        "\r\n",
        "            df_tmp = (\r\n",
        "                pd.DataFrame(crop.extract_words(keep_blank_chars=True))\r\n",
        "                .astype({\"x0\": float, \"x1\": float, \"top\": float, \"bottom\": float})\r\n",
        "                .sort_values([\"top\", \"x0\"])\r\n",
        "            )\r\n",
        "\r\n",
        "            df_tmp[\"top\"] = snap_adjustment(df_tmp[\"top\"])\r\n",
        "            df_tmp[\"page\"] = page.page_number\r\n",
        "\r\n",
        "            dfs.append(df_tmp)\r\n",
        "\r\n",
        "\r\n",
        "        if dfs:\r\n",
        "\r\n",
        "            df = pd.concat(dfs)\r\n",
        "\r\n",
        "            # テキスト処理\r\n",
        "            df[\"text\"] = df[\"text\"].str.replace(\"　\", \"\").str.replace(\",\", \"\")\r\n",
        "\r\n",
        "            df[\"center\"] = df.loc[:, [\"x0\", \"x1\"]].median(axis=1)\r\n",
        "\r\n",
        "            # 中央基準\r\n",
        "\r\n",
        "            df[\"center\"] = snap_adjustment(df[\"center\"], 25)\r\n",
        "\r\n",
        "            table = (\r\n",
        "                df.pivot_table(\r\n",
        "                    index=[\"page\", \"top\"],\r\n",
        "                    columns=\"center\",   # 基準を指定：\"x0\", \"x1\", \"center\"\r\n",
        "                    values=\"text\",\r\n",
        "                    aggfunc=lambda x: \"\".join(str(v) for v in x),\r\n",
        "                )\r\n",
        "            ).values\r\n",
        "\r\n",
        "            df1 = pd.DataFrame(table).dropna(thresh=2).dropna(how=\"all\", axis=1)\r\n",
        "\r\n",
        "            # 前処理\r\n",
        "\r\n",
        "            df2 = df1[df1[0] != \"品目\"].copy()\r\n",
        "\r\n",
        "            df2[0] = df2[0].fillna(method=\"ffill\")\r\n",
        "\r\n",
        "            df_even = (\r\n",
        "                df2[::2]\r\n",
        "                .set_axis(\r\n",
        "                    [\r\n",
        "                        \"品目\",\r\n",
        "                        \"県内_数量\",\r\n",
        "                        \"県内_単価\",\r\n",
        "                        \"県外_数量\",\r\n",
        "                        \"県外_単価\",\r\n",
        "                        \"外国_数量\",\r\n",
        "                        \"外国_単価\",\r\n",
        "                        \"総計_数量\",\r\n",
        "                        \"総計_単価\",\r\n",
        "                    ],\r\n",
        "                    axis=1,\r\n",
        "                )\r\n",
        "                .dropna(how=\"all\", axis=1)\r\n",
        "            )\r\n",
        "\r\n",
        "            df_odd = (\r\n",
        "                df2[1::2]\r\n",
        "                .set_axis(\r\n",
        "                    [\r\n",
        "                        \"品目\",\r\n",
        "                        \"県内_金額\",\r\n",
        "                        \"県内_単価\",\r\n",
        "                        \"県外_金額\",\r\n",
        "                        \"県外_単価\",\r\n",
        "                        \"外国_金額\",\r\n",
        "                        \"外国_単価\",\r\n",
        "                        \"総計_金額\",\r\n",
        "                        \"総計_単価\",\r\n",
        "                    ],\r\n",
        "                    axis=1,\r\n",
        "                )\r\n",
        "                .dropna(how=\"all\", axis=1)\r\n",
        "            )\r\n",
        "\r\n",
        "            df3 = (\r\n",
        "                pd.merge(df_even, df_odd, on=\"品目\")\r\n",
        "                .set_index(\"品目\")\r\n",
        "                .reindex(\r\n",
        "                    columns=[\r\n",
        "                        \"県内_数量\",\r\n",
        "                        \"県内_単価\",\r\n",
        "                        \"県内_金額\",\r\n",
        "                        \"県外_数量\",\r\n",
        "                        \"県外_単価\",\r\n",
        "                        \"県外_金額\",\r\n",
        "                        \"外国_数量\",\r\n",
        "                        \"外国_単価\",\r\n",
        "                        \"外国_金額\",\r\n",
        "                        \"総計_数量\",\r\n",
        "                        \"総計_単価\",\r\n",
        "                        \"総計_金額\",\r\n",
        "                    ]\r\n",
        "                )\r\n",
        "            )\r\n",
        "\r\n",
        "            path_csv = path_pdf.with_suffix(\".csv\")\r\n",
        "\r\n",
        "            df3.to_csv(path_csv, encoding=\"utf_8_sig\")\r\n",
        "        else:\r\n",
        "            print(\"error!\")"
      ],
      "execution_count": null,
      "outputs": [
        {
          "output_type": "stream",
          "text": [
            "https://www.pref.okinawa.jp/site/norin/oroshiuri/documents/documents/geppou3103.pdf\n",
            "https://www.pref.okinawa.jp/site/norin/oroshiuri/documents/documents/geppou3104.pdf\n",
            "https://www.pref.okinawa.jp/site/norin/oroshiuri/documents/documents/geppou0105.pdf\n",
            "https://www.pref.okinawa.jp/site/norin/oroshiuri/documents/documents/geppou0106.pdf\n",
            "https://www.pref.okinawa.jp/site/norin/oroshiuri/documents/documents/geppou0107.pdf\n",
            "https://www.pref.okinawa.jp/site/norin/oroshiuri/documents/documents/geppou0108.pdf\n",
            "https://www.pref.okinawa.jp/site/norin/oroshiuri/documents/documents/geppou0109.pdf\n",
            "https://www.pref.okinawa.jp/site/norin/oroshiuri/documents/documents/geppou0110.pdf\n",
            "https://www.pref.okinawa.jp/site/norin/oroshiuri/documents/documents/geppou0111.pdf\n",
            "https://www.pref.okinawa.jp/site/norin/oroshiuri/documents/documents/geppou0112.pdf\n"
          ],
          "name": "stdout"
        }
      ]
    },
    {
      "cell_type": "code",
      "metadata": {
        "id": "mStFTQxJwAc-"
      },
      "source": [
        "!rm $DATA_DIR/*.pdf"
      ],
      "execution_count": null,
      "outputs": []
    },
    {
      "cell_type": "code",
      "metadata": {
        "id": "KZ7PQPD19ira"
      },
      "source": [
        "!rm data.zip"
      ],
      "execution_count": null,
      "outputs": []
    },
    {
      "cell_type": "code",
      "metadata": {
        "colab": {
          "base_uri": "https://localhost:8080/"
        },
        "id": "fwILQVzyvWAu",
        "outputId": "71e7f67d-4e9d-4336-e03f-c6a8bdaa2d92"
      },
      "source": [
        "!zip -r data.zip $DATA_DIR"
      ],
      "execution_count": null,
      "outputs": [
        {
          "output_type": "stream",
          "text": [
            "  adding: kiribana/ (stored 0%)\n",
            "  adding: kiribana/geppou0110.csv (deflated 52%)\n",
            "  adding: kiribana/geppou3104.csv (deflated 50%)\n",
            "  adding: kiribana/geppou0111.csv (deflated 52%)\n",
            "  adding: kiribana/geppou0106.csv (deflated 51%)\n",
            "  adding: kiribana/geppou0109.csv (deflated 52%)\n",
            "  adding: kiribana/geppou0105.csv (deflated 51%)\n",
            "  adding: kiribana/geppou0112.csv (deflated 51%)\n",
            "  adding: kiribana/geppou0108.csv (deflated 52%)\n",
            "  adding: kiribana/geppou3103.csv (deflated 50%)\n",
            "  adding: kiribana/geppou0107.csv (deflated 51%)\n"
          ],
          "name": "stdout"
        }
      ]
    },
    {
      "cell_type": "code",
      "metadata": {
        "colab": {
          "base_uri": "https://localhost:8080/",
          "height": 17
        },
        "id": "FB7PClek9HDI",
        "outputId": "8c9dc70b-bd58-48c1-d715-c03878cb4edb"
      },
      "source": [
        "from google.colab import files\n",
        "\n",
        "files.download(\"data.zip\")"
      ],
      "execution_count": null,
      "outputs": [
        {
          "output_type": "display_data",
          "data": {
            "application/javascript": [
              "\n",
              "    async function download(id, filename, size) {\n",
              "      if (!google.colab.kernel.accessAllowed) {\n",
              "        return;\n",
              "      }\n",
              "      const div = document.createElement('div');\n",
              "      const label = document.createElement('label');\n",
              "      label.textContent = `Downloading \"${filename}\": `;\n",
              "      div.appendChild(label);\n",
              "      const progress = document.createElement('progress');\n",
              "      progress.max = size;\n",
              "      div.appendChild(progress);\n",
              "      document.body.appendChild(div);\n",
              "\n",
              "      const buffers = [];\n",
              "      let downloaded = 0;\n",
              "\n",
              "      const channel = await google.colab.kernel.comms.open(id);\n",
              "      // Send a message to notify the kernel that we're ready.\n",
              "      channel.send({})\n",
              "\n",
              "      for await (const message of channel.messages) {\n",
              "        // Send a message to notify the kernel that we're ready.\n",
              "        channel.send({})\n",
              "        if (message.buffers) {\n",
              "          for (const buffer of message.buffers) {\n",
              "            buffers.push(buffer);\n",
              "            downloaded += buffer.byteLength;\n",
              "            progress.value = downloaded;\n",
              "          }\n",
              "        }\n",
              "      }\n",
              "      const blob = new Blob(buffers, {type: 'application/binary'});\n",
              "      const a = document.createElement('a');\n",
              "      a.href = window.URL.createObjectURL(blob);\n",
              "      a.download = filename;\n",
              "      div.appendChild(a);\n",
              "      a.click();\n",
              "      div.remove();\n",
              "    }\n",
              "  "
            ],
            "text/plain": [
              "<IPython.core.display.Javascript object>"
            ]
          },
          "metadata": {
            "tags": []
          }
        },
        {
          "output_type": "display_data",
          "data": {
            "application/javascript": [
              "download(\"download_78ff79e6-639b-496f-9e3a-5242fee0d0b3\", \"data.zip\", 71949)"
            ],
            "text/plain": [
              "<IPython.core.display.Javascript object>"
            ]
          },
          "metadata": {
            "tags": []
          }
        }
      ]
    }
  ]
}