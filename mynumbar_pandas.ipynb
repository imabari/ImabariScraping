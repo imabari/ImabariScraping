{
  "nbformat": 4,
  "nbformat_minor": 0,
  "metadata": {
    "colab": {
      "name": "mynumbar_pandas.ipynb",
      "provenance": [],
      "collapsed_sections": [],
      "authorship_tag": "ABX9TyONA7UNW+5+7B+3BJsQd55A",
      "include_colab_link": true
    },
    "kernelspec": {
      "name": "python3",
      "display_name": "Python 3"
    },
    "widgets": {
      "application/vnd.jupyter.widget-state+json": {
        "8f00b6c00b404e75ba626d7e0edc959b": {
          "model_module": "@jupyter-widgets/controls",
          "model_name": "HBoxModel",
          "state": {
            "_view_name": "HBoxView",
            "_dom_classes": [],
            "_model_name": "HBoxModel",
            "_view_module": "@jupyter-widgets/controls",
            "_model_module_version": "1.5.0",
            "_view_count": null,
            "_view_module_version": "1.5.0",
            "box_style": "",
            "layout": "IPY_MODEL_42f92db7bb4f4058a3183490b1bd66d2",
            "_model_module": "@jupyter-widgets/controls",
            "children": [
              "IPY_MODEL_5eee03a3b044447ca70507a577cc8b20",
              "IPY_MODEL_14eceaa6ba27416d81619d8a37c5093d"
            ]
          }
        },
        "42f92db7bb4f4058a3183490b1bd66d2": {
          "model_module": "@jupyter-widgets/base",
          "model_name": "LayoutModel",
          "state": {
            "_view_name": "LayoutView",
            "grid_template_rows": null,
            "right": null,
            "justify_content": null,
            "_view_module": "@jupyter-widgets/base",
            "overflow": null,
            "_model_module_version": "1.2.0",
            "_view_count": null,
            "flex_flow": null,
            "width": null,
            "min_width": null,
            "border": null,
            "align_items": null,
            "bottom": null,
            "_model_module": "@jupyter-widgets/base",
            "top": null,
            "grid_column": null,
            "overflow_y": null,
            "overflow_x": null,
            "grid_auto_flow": null,
            "grid_area": null,
            "grid_template_columns": null,
            "flex": null,
            "_model_name": "LayoutModel",
            "justify_items": null,
            "grid_row": null,
            "max_height": null,
            "align_content": null,
            "visibility": null,
            "align_self": null,
            "height": null,
            "min_height": null,
            "padding": null,
            "grid_auto_rows": null,
            "grid_gap": null,
            "max_width": null,
            "order": null,
            "_view_module_version": "1.2.0",
            "grid_template_areas": null,
            "object_position": null,
            "object_fit": null,
            "grid_auto_columns": null,
            "margin": null,
            "display": null,
            "left": null
          }
        },
        "5eee03a3b044447ca70507a577cc8b20": {
          "model_module": "@jupyter-widgets/controls",
          "model_name": "FloatProgressModel",
          "state": {
            "_view_name": "ProgressView",
            "style": "IPY_MODEL_384315a79b4b4d65aabca33bdc46de36",
            "_dom_classes": [],
            "description": "100%",
            "_model_name": "FloatProgressModel",
            "bar_style": "success",
            "max": 17,
            "_view_module": "@jupyter-widgets/controls",
            "_model_module_version": "1.5.0",
            "value": 17,
            "_view_count": null,
            "_view_module_version": "1.5.0",
            "orientation": "horizontal",
            "min": 0,
            "description_tooltip": null,
            "_model_module": "@jupyter-widgets/controls",
            "layout": "IPY_MODEL_fe70c20eabbd42f9ab3b35ab6e7fb640"
          }
        },
        "14eceaa6ba27416d81619d8a37c5093d": {
          "model_module": "@jupyter-widgets/controls",
          "model_name": "HTMLModel",
          "state": {
            "_view_name": "HTMLView",
            "style": "IPY_MODEL_a6b3848794f6463b89c533682ac8d24b",
            "_dom_classes": [],
            "description": "",
            "_model_name": "HTMLModel",
            "placeholder": "​",
            "_view_module": "@jupyter-widgets/controls",
            "_model_module_version": "1.5.0",
            "value": " 17/17 [18:00&lt;00:00, 63.57s/it]",
            "_view_count": null,
            "_view_module_version": "1.5.0",
            "description_tooltip": null,
            "_model_module": "@jupyter-widgets/controls",
            "layout": "IPY_MODEL_ae2d6d1840e444bbb9883324b59ce11c"
          }
        },
        "384315a79b4b4d65aabca33bdc46de36": {
          "model_module": "@jupyter-widgets/controls",
          "model_name": "ProgressStyleModel",
          "state": {
            "_view_name": "StyleView",
            "_model_name": "ProgressStyleModel",
            "description_width": "initial",
            "_view_module": "@jupyter-widgets/base",
            "_model_module_version": "1.5.0",
            "_view_count": null,
            "_view_module_version": "1.2.0",
            "bar_color": null,
            "_model_module": "@jupyter-widgets/controls"
          }
        },
        "fe70c20eabbd42f9ab3b35ab6e7fb640": {
          "model_module": "@jupyter-widgets/base",
          "model_name": "LayoutModel",
          "state": {
            "_view_name": "LayoutView",
            "grid_template_rows": null,
            "right": null,
            "justify_content": null,
            "_view_module": "@jupyter-widgets/base",
            "overflow": null,
            "_model_module_version": "1.2.0",
            "_view_count": null,
            "flex_flow": null,
            "width": null,
            "min_width": null,
            "border": null,
            "align_items": null,
            "bottom": null,
            "_model_module": "@jupyter-widgets/base",
            "top": null,
            "grid_column": null,
            "overflow_y": null,
            "overflow_x": null,
            "grid_auto_flow": null,
            "grid_area": null,
            "grid_template_columns": null,
            "flex": null,
            "_model_name": "LayoutModel",
            "justify_items": null,
            "grid_row": null,
            "max_height": null,
            "align_content": null,
            "visibility": null,
            "align_self": null,
            "height": null,
            "min_height": null,
            "padding": null,
            "grid_auto_rows": null,
            "grid_gap": null,
            "max_width": null,
            "order": null,
            "_view_module_version": "1.2.0",
            "grid_template_areas": null,
            "object_position": null,
            "object_fit": null,
            "grid_auto_columns": null,
            "margin": null,
            "display": null,
            "left": null
          }
        },
        "a6b3848794f6463b89c533682ac8d24b": {
          "model_module": "@jupyter-widgets/controls",
          "model_name": "DescriptionStyleModel",
          "state": {
            "_view_name": "StyleView",
            "_model_name": "DescriptionStyleModel",
            "description_width": "",
            "_view_module": "@jupyter-widgets/base",
            "_model_module_version": "1.5.0",
            "_view_count": null,
            "_view_module_version": "1.2.0",
            "_model_module": "@jupyter-widgets/controls"
          }
        },
        "ae2d6d1840e444bbb9883324b59ce11c": {
          "model_module": "@jupyter-widgets/base",
          "model_name": "LayoutModel",
          "state": {
            "_view_name": "LayoutView",
            "grid_template_rows": null,
            "right": null,
            "justify_content": null,
            "_view_module": "@jupyter-widgets/base",
            "overflow": null,
            "_model_module_version": "1.2.0",
            "_view_count": null,
            "flex_flow": null,
            "width": null,
            "min_width": null,
            "border": null,
            "align_items": null,
            "bottom": null,
            "_model_module": "@jupyter-widgets/base",
            "top": null,
            "grid_column": null,
            "overflow_y": null,
            "overflow_x": null,
            "grid_auto_flow": null,
            "grid_area": null,
            "grid_template_columns": null,
            "flex": null,
            "_model_name": "LayoutModel",
            "justify_items": null,
            "grid_row": null,
            "max_height": null,
            "align_content": null,
            "visibility": null,
            "align_self": null,
            "height": null,
            "min_height": null,
            "padding": null,
            "grid_auto_rows": null,
            "grid_gap": null,
            "max_width": null,
            "order": null,
            "_view_module_version": "1.2.0",
            "grid_template_areas": null,
            "object_position": null,
            "object_fit": null,
            "grid_auto_columns": null,
            "margin": null,
            "display": null,
            "left": null
          }
        }
      }
    }
  },
  "cells": [
    {
      "cell_type": "markdown",
      "metadata": {
        "id": "view-in-github",
        "colab_type": "text"
      },
      "source": [
        "<a href=\"https://colab.research.google.com/github/imabari/ImabariScraping/blob/master/mynumbar_pandas.ipynb\" target=\"_parent\"><img src=\"https://colab.research.google.com/assets/colab-badge.svg\" alt=\"Open In Colab\"/></a>"
      ]
    },
    {
      "cell_type": "code",
      "metadata": {
        "id": "xJ11Z_repHGJ",
        "colab_type": "code",
        "colab": {
          "base_uri": "https://localhost:8080/",
          "height": 590
        },
        "outputId": "de9a128d-28bf-47bd-b3bc-636df2f4f019"
      },
      "source": [
        "!apt install python3-tk ghostscript\n",
        "!pip install camelot-py[cv]\n",
        "\n",
        "!pip install japanera\n",
        "!pip install japanmap"
      ],
      "execution_count": null,
      "outputs": [
        {
          "output_type": "stream",
          "text": [
            "Reading package lists... Done\n",
            "Building dependency tree       \n",
            "Reading state information... Done\n",
            "ghostscript is already the newest version (9.26~dfsg+0-0ubuntu0.18.04.12).\n",
            "python3-tk is already the newest version (3.6.9-1~18.04).\n",
            "The following package was automatically installed and is no longer required:\n",
            "  libnvidia-common-440\n",
            "Use 'apt autoremove' to remove it.\n",
            "0 upgraded, 0 newly installed, 0 to remove and 35 not upgraded.\n",
            "Requirement already satisfied: camelot-py[cv] in /usr/local/lib/python3.6/dist-packages (0.8.2)\n",
            "Requirement already satisfied: pdfminer.six>=20200726 in /usr/local/lib/python3.6/dist-packages (from camelot-py[cv]) (20200726)\n",
            "Requirement already satisfied: PyPDF2>=1.26.0 in /usr/local/lib/python3.6/dist-packages (from camelot-py[cv]) (1.26.0)\n",
            "Requirement already satisfied: pandas>=0.23.4 in /usr/local/lib/python3.6/dist-packages (from camelot-py[cv]) (1.0.5)\n",
            "Requirement already satisfied: click>=6.7 in /usr/local/lib/python3.6/dist-packages (from camelot-py[cv]) (7.1.2)\n",
            "Requirement already satisfied: numpy>=1.13.3 in /usr/local/lib/python3.6/dist-packages (from camelot-py[cv]) (1.18.5)\n",
            "Requirement already satisfied: chardet>=3.0.4 in /usr/local/lib/python3.6/dist-packages (from camelot-py[cv]) (3.0.4)\n",
            "Requirement already satisfied: openpyxl>=2.5.8 in /usr/local/lib/python3.6/dist-packages (from camelot-py[cv]) (2.5.9)\n",
            "Requirement already satisfied: opencv-python>=3.4.2.17; extra == \"cv\" in /usr/local/lib/python3.6/dist-packages (from camelot-py[cv]) (4.1.2.30)\n",
            "Requirement already satisfied: cryptography in /usr/local/lib/python3.6/dist-packages (from pdfminer.six>=20200726->camelot-py[cv]) (3.0)\n",
            "Requirement already satisfied: sortedcontainers in /usr/local/lib/python3.6/dist-packages (from pdfminer.six>=20200726->camelot-py[cv]) (2.2.2)\n",
            "Requirement already satisfied: python-dateutil>=2.6.1 in /usr/local/lib/python3.6/dist-packages (from pandas>=0.23.4->camelot-py[cv]) (2.8.1)\n",
            "Requirement already satisfied: pytz>=2017.2 in /usr/local/lib/python3.6/dist-packages (from pandas>=0.23.4->camelot-py[cv]) (2018.9)\n",
            "Requirement already satisfied: et-xmlfile in /usr/local/lib/python3.6/dist-packages (from openpyxl>=2.5.8->camelot-py[cv]) (1.0.1)\n",
            "Requirement already satisfied: jdcal in /usr/local/lib/python3.6/dist-packages (from openpyxl>=2.5.8->camelot-py[cv]) (1.4.1)\n",
            "Requirement already satisfied: cffi!=1.11.3,>=1.8 in /usr/local/lib/python3.6/dist-packages (from cryptography->pdfminer.six>=20200726->camelot-py[cv]) (1.14.1)\n",
            "Requirement already satisfied: six>=1.4.1 in /usr/local/lib/python3.6/dist-packages (from cryptography->pdfminer.six>=20200726->camelot-py[cv]) (1.15.0)\n",
            "Requirement already satisfied: pycparser in /usr/local/lib/python3.6/dist-packages (from cffi!=1.11.3,>=1.8->cryptography->pdfminer.six>=20200726->camelot-py[cv]) (2.20)\n",
            "Requirement already satisfied: japanera in /usr/local/lib/python3.6/dist-packages (0.0.8)\n",
            "Requirement already satisfied: kanjize in /usr/local/lib/python3.6/dist-packages (from japanera) (0.1.0)\n",
            "Requirement already satisfied: japanmap in /usr/local/lib/python3.6/dist-packages (0.0.21)\n",
            "Requirement already satisfied: opencv-python in /usr/local/lib/python3.6/dist-packages (from japanmap) (4.1.2.30)\n",
            "Requirement already satisfied: Pillow in /usr/local/lib/python3.6/dist-packages (from japanmap) (7.0.0)\n",
            "Requirement already satisfied: numpy in /usr/local/lib/python3.6/dist-packages (from japanmap) (1.18.5)\n"
          ],
          "name": "stdout"
        }
      ]
    },
    {
      "cell_type": "code",
      "metadata": {
        "id": "s7tDNAmKWlcI",
        "colab_type": "code",
        "colab": {}
      },
      "source": [
        "import csv\n",
        "import datetime\n",
        "import pathlib\n",
        "import re\n",
        "import shutil\n",
        "import time\n",
        "from urllib.parse import urljoin"
      ],
      "execution_count": null,
      "outputs": []
    },
    {
      "cell_type": "code",
      "metadata": {
        "id": "iNl-J0flpHDu",
        "colab_type": "code",
        "colab": {}
      },
      "source": [
        "import camelot\n",
        "import pandas as pd\n",
        "import requests\n",
        "from bs4 import BeautifulSoup\n",
        "from japanera import EraDate, EraDateTime, Japanera\n",
        "from japanmap import pref_code\n",
        "from tqdm.notebook import tqdm"
      ],
      "execution_count": null,
      "outputs": []
    },
    {
      "cell_type": "code",
      "metadata": {
        "id": "px1CYpMjU9C9",
        "colab_type": "code",
        "colab": {}
      },
      "source": [
        "OUT_DIR = \"download\"\n",
        "CSV_DIR = \"csv\""
      ],
      "execution_count": null,
      "outputs": []
    },
    {
      "cell_type": "code",
      "metadata": {
        "id": "hx8A4lNY-hNw",
        "colab_type": "code",
        "colab": {}
      },
      "source": [
        "def mynumber_pdf(tag):\n",
        "\n",
        "    if tag.name == \"a\":\n",
        "        text = tag.get_text(strip=True)\n",
        "\n",
        "        if text.startswith(\"マイナンバーカード交付状況\"):\n",
        "            href = tag.get(\"href\")\n",
        "            if href.endswith(\".pdf\"):\n",
        "                return True\n",
        "\n",
        "    return False"
      ],
      "execution_count": null,
      "outputs": []
    },
    {
      "cell_type": "code",
      "metadata": {
        "id": "gy2xRiP68swi",
        "colab_type": "code",
        "colab": {}
      },
      "source": [
        "def wareki2date(s):\n",
        "\n",
        "    m = re.search(\"(H|R|平成|令和)([0-9元]{1,2})[.年]([0-9]{1,2})[.月]([0-9]{1,2})日?\", s)\n",
        "\n",
        "    year, month, day = [1 if i == \"元\" else int(i) for i in m.group(2, 3, 4)]\n",
        "\n",
        "    janera = Japanera()\n",
        "\n",
        "    wareki = m.group(1)\n",
        "\n",
        "    if m.group(1) in \"HR\":\n",
        "        temp = sorted(\n",
        "            janera.era_match(m.group(1), lambda x: x.english_head, lambda x, y: x == y)\n",
        "        )[-1]\n",
        "        wareki = temp.kanji\n",
        "\n",
        "    ws = f\"{wareki}{year:02}年{month:02}月{day:02}日\"\n",
        "    dt = janera.strptime(ws, r\"%-E%-o年%m月%d日\")[0]\n",
        "\n",
        "    return dt.date()"
      ],
      "execution_count": null,
      "outputs": []
    },
    {
      "cell_type": "code",
      "metadata": {
        "id": "qTQ-ZrTuUtwe",
        "colab_type": "code",
        "colab": {}
      },
      "source": [
        "def get_pdf(url, file_name):\n",
        "\n",
        "    r = requests.get(url)\n",
        "\n",
        "    p = pathlib.Path(OUT_DIR, file_name + \".pdf\")\n",
        "    p.parent.mkdir(parents=True, exist_ok=True)\n",
        "\n",
        "    with p.open(mode=\"wb\") as fw:\n",
        "        fw.write(r.content)\n",
        "\n",
        "    return p"
      ],
      "execution_count": null,
      "outputs": []
    },
    {
      "cell_type": "code",
      "metadata": {
        "id": "7PSUYDNA8sx6",
        "colab_type": "code",
        "colab": {
          "base_uri": "https://localhost:8080/",
          "height": 1000,
          "referenced_widgets": [
            "8f00b6c00b404e75ba626d7e0edc959b",
            "42f92db7bb4f4058a3183490b1bd66d2",
            "5eee03a3b044447ca70507a577cc8b20",
            "14eceaa6ba27416d81619d8a37c5093d",
            "384315a79b4b4d65aabca33bdc46de36",
            "fe70c20eabbd42f9ab3b35ab6e7fb640",
            "a6b3848794f6463b89c533682ac8d24b",
            "ae2d6d1840e444bbb9883324b59ce11c"
          ]
        },
        "outputId": "9a19fd51-f7ac-4830-ae38-a43c29c8c1a1"
      },
      "source": [
        "if __name__ == \"__main__\":\n",
        "\n",
        "    url = \"https://www.soumu.go.jp/kojinbango_card/\"\n",
        "\n",
        "    cjk = str.maketrans(\"⻲⻑黑戶⻯⻄⻘⻤\", \"亀長黒戸竜西青鬼\")\n",
        "    # cjk = str.maketrans(\"⺟⺠⻁⻄⻑⻘⻝⻤⻨⻩⻫⻭⻯⻲戶黑\", \"母民虎西長青食鬼麦黄斉歯竜亀戸黒\")\n",
        "\n",
        "    # PDFファイルをダウンロード\n",
        "    r = requests.get(url)\n",
        "    r.raise_for_status()\n",
        "    soup = BeautifulSoup(r.content, \"html.parser\")\n",
        "    tags = soup.find_all(mynumber_pdf)\n",
        "\n",
        "    for tag in tqdm(tags):\n",
        "\n",
        "        link = urljoin(url, tag.get(\"href\"))\n",
        "        dt_now = wareki2date(tag.get_text(strip=True))\n",
        "\n",
        "        print(dt_now)\n",
        "\n",
        "        pdf = get_pdf(link, dt_now.isoformat())\n",
        "\n",
        "        tables = camelot.read_pdf(\n",
        "            str(pdf), pages=\"all\", split_text=True, strip_text=\"\\n\", line_scale=40\n",
        "        )\n",
        "\n",
        "        # 団体区分別\n",
        "\n",
        "        dt_jinkou = wareki2date(tables[0].df.iat[0, 2])\n",
        "        dt_koufu = wareki2date(tables[0].df.iat[0, 3])\n",
        "\n",
        "        df_summary = tables[0].df.iloc[1:].copy()\n",
        "\n",
        "        df_summary.columns = [\"区分\", \"\", \"人口\", \"交付枚数\", \"人口に対する交付枚数率\"]\n",
        "\n",
        "        df_summary[\"区分\"] = df_summary[\"区分\"] + df_summary[\"\"]\n",
        "\n",
        "        df_summary[\"人口\"] = df_summary[\"人口\"].str.replace(\",\", \"\").astype(int)\n",
        "        df_summary[\"交付枚数\"] = df_summary[\"交付枚数\"].str.replace(\",\", \"\").astype(int)\n",
        "        df_summary[\"人口に対する交付枚数率\"] = (\n",
        "            df_summary[\"人口に対する交付枚数率\"].str.rstrip(\"%％\").astype(float)\n",
        "        )\n",
        "\n",
        "        df_summary[\"人口算出基準日\"] = dt_jinkou.strftime(\"%Y/%m/%d\")\n",
        "        df_summary[\"交付件数基準日\"] = dt_koufu.strftime(\"%Y/%m/%d\")\n",
        "        df_summary[\"公開日\"] = dt_now.strftime(\"%Y/%m/%d\")\n",
        "\n",
        "        df_summary = df_summary.reindex(\n",
        "            columns=[\"公開日\", \"区分\", \"人口\", \"交付枚数\", \"人口に対する交付枚数率\", \"人口算出基準日\", \"交付件数基準日\"]\n",
        "        )\n",
        "\n",
        "        print(\"団体区分別\", df_summary.isnull().values.sum())\n",
        "\n",
        "        p1 = pathlib.Path(CSV_DIR, dt_now.isoformat(), \"summary_by_types.csv\")\n",
        "        p1.parent.mkdir(parents=True, exist_ok=True)\n",
        "        df_summary.to_csv(\n",
        "            str(p1), index=False, quoting=csv.QUOTE_NONNUMERIC, encoding=\"utf_8_sig\"\n",
        "        )\n",
        "\n",
        "        # 都道府県一覧\n",
        "\n",
        "        dt_jinkou = wareki2date(tables[3].df.iat[0, 1])\n",
        "        dt_koufu = wareki2date(tables[3].df.iat[0, 2])\n",
        "\n",
        "        df_pref = pd.concat([table.df.loc[1:] for table in tables[3:5]])\n",
        "\n",
        "        df_pref.columns = [\"都道府県名\", \"総数（人口）\", \"交付枚数\", \"交付率\"]\n",
        "\n",
        "        df_pref[\"都道府県名\"] = df_pref[\"都道府県名\"].str.normalize(\"NFKC\")\n",
        "        df_pref[\"都道府県名\"] = df_pref[\"都道府県名\"].apply(lambda s: s.translate(cjk))\n",
        "\n",
        "        df_pref[\"総数（人口）\"] = df_pref[\"総数（人口）\"].str.replace(\",\", \"\").astype(int)\n",
        "        df_pref[\"交付枚数\"] = df_pref[\"交付枚数\"].str.replace(\",\", \"\").astype(int)\n",
        "        df_pref[\"交付率\"] = df_pref[\"交付率\"].str.rstrip(\"%％\").astype(float)\n",
        "\n",
        "        df_pref[\"人口算出基準日\"] = dt_jinkou.strftime(\"%Y/%m/%d\")\n",
        "        df_pref[\"交付件数基準日\"] = dt_koufu.strftime(\"%Y/%m/%d\")\n",
        "\n",
        "        df_pref[\"公開日\"] = dt_now.strftime(\"%Y/%m/%d\")\n",
        "\n",
        "        df_pref = df_pref.reindex(\n",
        "            columns=[\"公開日\", \"都道府県名\", \"総数（人口）\", \"交付枚数\", \"交付率\", \"人口算出基準日\", \"交付件数基準日\"]\n",
        "        )\n",
        "\n",
        "        df_pref[\"コード\"] = df_pref[\"都道府県名\"].apply(lambda s: pref_code(s))\n",
        "        df_pref = df_pref.set_index(\"コード\").sort_index()\n",
        "\n",
        "        print(\"都道府県一覧\", df_pref.isnull().values.sum())\n",
        "\n",
        "        p2 = pathlib.Path(CSV_DIR, dt_now.isoformat(), \"all_prefectures.csv\")\n",
        "        df_pref.to_csv(\n",
        "            str(p2), index=False, quoting=csv.QUOTE_NONNUMERIC, encoding=\"utf_8_sig\"\n",
        "        )\n",
        "\n",
        "        # 男女・年齢別\n",
        "\n",
        "        n = 5\n",
        "\n",
        "        if dt_now > datetime.date(2017, 3, 8):\n",
        "\n",
        "            n = 6\n",
        "\n",
        "            dt_jinkou = wareki2date(tables[5].df.iat[0, 1])\n",
        "            dt_koufu = wareki2date(tables[5].df.iat[0, 4])\n",
        "\n",
        "            df_ages = tables[5].df.iloc[2:].copy()\n",
        "            df_ages.columns = [\n",
        "                \"年齢\",\n",
        "                \"人口(男)\",\n",
        "                \"人口(女)\",\n",
        "                \"人口(計)\",\n",
        "                \"交付件数(男)\",\n",
        "                \"交付件数(女)\",\n",
        "                \"交付件数(計)\",\n",
        "                \"交付率(男)\",\n",
        "                \"交付率(女)\",\n",
        "                \"交付率(計)\",\n",
        "                \"全体に対する交付件数割合(男)\",\n",
        "                \"全体に対する交付件数割合(女)\",\n",
        "                \"全体に対する交付件数割合(計)\",\n",
        "            ]\n",
        "\n",
        "            df_ages = df_ages.applymap(lambda s: s.rstrip(\"%％\").replace(\",\", \"\"))\n",
        "\n",
        "            df_ages[\"人口算出基準日\"] = dt_jinkou.strftime(\"%Y/%m/%d\")\n",
        "            df_ages[\"交付件数基準日\"] = dt_koufu.strftime(\"%Y/%m/%d\")\n",
        "\n",
        "            df_ages[\"公開日\"] = dt_now.strftime(\"%Y/%m/%d\")\n",
        "\n",
        "            df_ages = df_ages.astype(\n",
        "                {\n",
        "                    \"人口(男)\": int,\n",
        "                    \"人口(女)\": int,\n",
        "                    \"人口(計)\": int,\n",
        "                    \"交付件数(男)\": int,\n",
        "                    \"交付件数(女)\": int,\n",
        "                    \"交付件数(計)\": int,\n",
        "                    \"交付率(男)\": float,\n",
        "                    \"交付率(女)\": float,\n",
        "                    \"交付率(計)\": float,\n",
        "                    \"全体に対する交付件数割合(男)\": float,\n",
        "                    \"全体に対する交付件数割合(女)\": float,\n",
        "                    \"全体に対する交付件数割合(計)\": float,\n",
        "                }\n",
        "            )\n",
        "\n",
        "            df_ages = df_ages.reindex(\n",
        "                columns=[\n",
        "                    \"公開日\",\n",
        "                    \"年齢\",\n",
        "                    \"人口(男)\",\n",
        "                    \"人口(女)\",\n",
        "                    \"人口(計)\",\n",
        "                    \"交付件数(男)\",\n",
        "                    \"交付件数(女)\",\n",
        "                    \"交付件数(計)\",\n",
        "                    \"交付率(男)\",\n",
        "                    \"交付率(女)\",\n",
        "                    \"交付率(計)\",\n",
        "                    \"全体に対する交付件数割合(男)\",\n",
        "                    \"全体に対する交付件数割合(女)\",\n",
        "                    \"全体に対する交付件数割合(計)\",\n",
        "                    \"人口算出基準日\",\n",
        "                    \"交付件数基準日\",\n",
        "                ]\n",
        "            )\n",
        "\n",
        "            print(\"男女・年齢別\", df_ages.isnull().values.sum())\n",
        "\n",
        "            p3 = pathlib.Path(CSV_DIR, dt_now.isoformat(), \"demographics.csv\")\n",
        "            df_ages.to_csv(\n",
        "                str(p3), index=False, quoting=csv.QUOTE_NONNUMERIC, encoding=\"utf_8_sig\"\n",
        "            )\n",
        "\n",
        "        # 市区町村別一覧\n",
        "\n",
        "        dt_jinkou = wareki2date(tables[n].df.iat[0, 2])\n",
        "        dt_koufu = wareki2date(tables[n].df.iat[0, 3])\n",
        "\n",
        "        df_local = pd.concat([table.df.iloc[1:] for table in tables[n:]])\n",
        "\n",
        "        df_local.columns = [\"都道府県名\", \"市区町村名\", \"総数（人口）\", \"交付枚数\", \"交付率\"]\n",
        "\n",
        "        # 全国を削除\n",
        "        # df_local.drop_duplicates(keep=False, inplace=True)\n",
        "        df_local = df_local[df_local[\"都道府県名\"] != \"全国\"]\n",
        "\n",
        "        df_local[\"都道府県名\"] = df_local[\"都道府県名\"].str.normalize(\"NFKC\")\n",
        "        df_local[\"市区町村名\"] = df_local[\"市区町村名\"].str.normalize(\"NFKC\")\n",
        "\n",
        "        df_local[\"都道府県名\"] = df_local[\"都道府県名\"].apply(lambda s: s.translate(cjk))\n",
        "        df_local[\"市区町村名\"] = df_local[\"市区町村名\"].apply(lambda s: s.translate(cjk))\n",
        "\n",
        "        df_local[\"市区町村名\"] = df_local[\"市区町村名\"].str.replace(\"\\s\", \"\")\n",
        "\n",
        "        df_local[\"地名\"] = df_local[\"都道府県名\"] + df_local[\"市区町村名\"]\n",
        "\n",
        "        #  \n",
        "        df_local[\"市区町村名\"] = df_local[\"市区町村名\"].mask(df_local[\"地名\"] == \"兵庫県篠山市\", \"丹波篠山市\")\n",
        "        df_local[\"市区町村名\"] = df_local[\"市区町村名\"].mask(df_local[\"地名\"] == \"高知県高岡郡梼原町\", \"高岡郡檮原町\")\n",
        "        df_local[\"市区町村名\"] = df_local[\"市区町村名\"].mask(df_local[\"地名\"] == \"福岡県糟屋郡須惠町\", \"糟屋郡須恵町\")\n",
        "\n",
        "        if dt_now < datetime.date(2018, 10, 1):\n",
        "            df_local[\"市区町村名\"] = df_local[\"市区町村名\"].mask(df_local[\"地名\"] == \"福岡県那珂川市\", \"筑紫郡那珂川町\")\n",
        "        else:\n",
        "            df_local[\"市区町村名\"] = df_local[\"市区町村名\"].mask(df_local[\"地名\"] == \"福岡県筑紫郡那珂川町\", \"那珂川市\")\n",
        "\n",
        "        df_local[\"総数（人口）\"] = df_local[\"総数（人口）\"].str.replace(\",\", \"\").astype(int)\n",
        "        df_local[\"交付枚数\"] = df_local[\"交付枚数\"].str.replace(\",\", \"\").astype(int)\n",
        "        df_local[\"交付率\"] = df_local[\"交付率\"].str.rstrip(\"%％\").astype(float)\n",
        "\n",
        "        df_local[\"人口算出基準日\"] = dt_jinkou.strftime(\"%Y/%m/%d\")\n",
        "        df_local[\"交付件数基準日\"] = dt_koufu.strftime(\"%Y/%m/%d\")\n",
        "\n",
        "        df_local[\"公開日\"] = dt_now.strftime(\"%Y/%m/%d\")\n",
        "\n",
        "        df_local = df_local.reindex(\n",
        "            columns=[\n",
        "                \"公開日\",\n",
        "                \"都道府県名\",\n",
        "                \"市区町村名\",\n",
        "                \"総数（人口）\",\n",
        "                \"交付枚数\",\n",
        "                \"交付率\",\n",
        "                \"人口算出基準日\",\n",
        "                \"交付件数基準日\",\n",
        "            ]\n",
        "        )\n",
        "\n",
        "        # 団体コード追加\n",
        "        df_code = pd.read_csv(\"https://docs.google.com/spreadsheets/d/e/2PACX-1vSseDxB5f3nS-YQ1NOkuFKZ7rTNfPLHqTKaSag-qaK25EWLcSL0klbFBZm1b6JDKGtHTk6iMUxsXpxt/pub?gid=0&single=true&output=csv\")\n",
        "\n",
        "        df_code[\"市区町村名\"] = df_code[\"郡名\"].fillna(\"\") + df_code[\"市区町村名\"]\n",
        "        df_code.drop(\"郡名\", axis=1, inplace=True)\n",
        "\n",
        "        df_local = pd.merge(df_local, df_code, on=['都道府県名', '市区町村名'], how=\"left\")\n",
        "        df_local[\"団体コード\"] = df_local[\"団体コード\"].astype(\"Int64\")\n",
        "\n",
        "        print(\"市区町村別一覧\", df_local.isnull().values.sum())\n",
        "\n",
        "        p4 = pathlib.Path(CSV_DIR, dt_now.isoformat(), \"all_localgovs.csv\")\n",
        "        df_local.to_csv(\n",
        "            str(p4), index=False, quoting=csv.QUOTE_NONNUMERIC, encoding=\"utf_8_sig\"\n",
        "        )\n",
        "\n",
        "        df_check = df_local.loc[:, [\"都道府県名\", \"市区町村名\"]].copy()\n",
        "\n",
        "        p5 = pathlib.Path(\"name\", f\"{dt_now.isoformat()}.tsv\")\n",
        "        p5.parent.mkdir(parents=True, exist_ok=True)\n",
        "\n",
        "        df_check.to_csv(str(p5), sep=\"\\t\", index=False)\n",
        "\n",
        "        # time.sleep(1)\n",
        "\n",
        "    shutil.make_archive(\"city\", \"zip\", root_dir=\"./name\")"
      ],
      "execution_count": null,
      "outputs": [
        {
          "output_type": "display_data",
          "data": {
            "application/vnd.jupyter.widget-view+json": {
              "model_id": "8f00b6c00b404e75ba626d7e0edc959b",
              "version_minor": 0,
              "version_major": 2
            },
            "text/plain": [
              "HBox(children=(FloatProgress(value=0.0, max=17.0), HTML(value='')))"
            ]
          },
          "metadata": {
            "tags": []
          }
        },
        {
          "output_type": "stream",
          "text": [
            "2017-03-08\n"
          ],
          "name": "stdout"
        },
        {
          "output_type": "stream",
          "text": [
            "/usr/local/lib/python3.6/dist-packages/japanera/japanera.py:873: UserWarning: There was error running cmp(key(Era), value) but skipped because ignore_error=True\n",
            "  warn(\"There was error running cmp(key(Era), value) but skipped because ignore_error=True\")\n"
          ],
          "name": "stderr"
        },
        {
          "output_type": "stream",
          "text": [
            "団体区分別 0\n",
            "都道府県一覧 0\n",
            "市区町村別一覧 1\n",
            "2017-05-15\n"
          ],
          "name": "stdout"
        },
        {
          "output_type": "stream",
          "text": [
            "/usr/local/lib/python3.6/dist-packages/japanera/japanera.py:873: UserWarning: There was error running cmp(key(Era), value) but skipped because ignore_error=True\n",
            "  warn(\"There was error running cmp(key(Era), value) but skipped because ignore_error=True\")\n"
          ],
          "name": "stderr"
        },
        {
          "output_type": "stream",
          "text": [
            "団体区分別 0\n",
            "都道府県一覧 0\n",
            "男女・年齢別 0\n",
            "市区町村別一覧 1\n",
            "2017-08-31\n"
          ],
          "name": "stdout"
        },
        {
          "output_type": "stream",
          "text": [
            "/usr/local/lib/python3.6/dist-packages/japanera/japanera.py:873: UserWarning: There was error running cmp(key(Era), value) but skipped because ignore_error=True\n",
            "  warn(\"There was error running cmp(key(Era), value) but skipped because ignore_error=True\")\n"
          ],
          "name": "stderr"
        },
        {
          "output_type": "stream",
          "text": [
            "団体区分別 0\n",
            "都道府県一覧 0\n",
            "男女・年齢別 0\n",
            "市区町村別一覧 1\n",
            "2017-12-01\n"
          ],
          "name": "stdout"
        },
        {
          "output_type": "stream",
          "text": [
            "/usr/local/lib/python3.6/dist-packages/japanera/japanera.py:873: UserWarning: There was error running cmp(key(Era), value) but skipped because ignore_error=True\n",
            "  warn(\"There was error running cmp(key(Era), value) but skipped because ignore_error=True\")\n"
          ],
          "name": "stderr"
        },
        {
          "output_type": "stream",
          "text": [
            "団体区分別 0\n",
            "都道府県一覧 0\n",
            "男女・年齢別 0\n",
            "市区町村別一覧 1\n",
            "2018-03-01\n"
          ],
          "name": "stdout"
        },
        {
          "output_type": "stream",
          "text": [
            "/usr/local/lib/python3.6/dist-packages/japanera/japanera.py:873: UserWarning: There was error running cmp(key(Era), value) but skipped because ignore_error=True\n",
            "  warn(\"There was error running cmp(key(Era), value) but skipped because ignore_error=True\")\n"
          ],
          "name": "stderr"
        },
        {
          "output_type": "stream",
          "text": [
            "団体区分別 0\n",
            "都道府県一覧 0\n",
            "男女・年齢別 0\n",
            "市区町村別一覧 1\n",
            "2018-07-01\n"
          ],
          "name": "stdout"
        },
        {
          "output_type": "stream",
          "text": [
            "/usr/local/lib/python3.6/dist-packages/japanera/japanera.py:873: UserWarning: There was error running cmp(key(Era), value) but skipped because ignore_error=True\n",
            "  warn(\"There was error running cmp(key(Era), value) but skipped because ignore_error=True\")\n"
          ],
          "name": "stderr"
        },
        {
          "output_type": "stream",
          "text": [
            "団体区分別 0\n",
            "都道府県一覧 0\n",
            "男女・年齢別 0\n",
            "市区町村別一覧 1\n",
            "2018-12-01\n"
          ],
          "name": "stdout"
        },
        {
          "output_type": "stream",
          "text": [
            "/usr/local/lib/python3.6/dist-packages/japanera/japanera.py:873: UserWarning: There was error running cmp(key(Era), value) but skipped because ignore_error=True\n",
            "  warn(\"There was error running cmp(key(Era), value) but skipped because ignore_error=True\")\n"
          ],
          "name": "stderr"
        },
        {
          "output_type": "stream",
          "text": [
            "団体区分別 0\n",
            "都道府県一覧 0\n",
            "男女・年齢別 0\n",
            "市区町村別一覧 0\n",
            "2019-04-01\n"
          ],
          "name": "stdout"
        },
        {
          "output_type": "stream",
          "text": [
            "/usr/local/lib/python3.6/dist-packages/japanera/japanera.py:873: UserWarning: There was error running cmp(key(Era), value) but skipped because ignore_error=True\n",
            "  warn(\"There was error running cmp(key(Era), value) but skipped because ignore_error=True\")\n"
          ],
          "name": "stderr"
        },
        {
          "output_type": "stream",
          "text": [
            "団体区分別 0\n",
            "都道府県一覧 0\n",
            "男女・年齢別 0\n",
            "市区町村別一覧 0\n",
            "2019-07-01\n"
          ],
          "name": "stdout"
        },
        {
          "output_type": "stream",
          "text": [
            "/usr/local/lib/python3.6/dist-packages/japanera/japanera.py:873: UserWarning: There was error running cmp(key(Era), value) but skipped because ignore_error=True\n",
            "  warn(\"There was error running cmp(key(Era), value) but skipped because ignore_error=True\")\n"
          ],
          "name": "stderr"
        },
        {
          "output_type": "stream",
          "text": [
            "団体区分別 0\n",
            "都道府県一覧 0\n",
            "男女・年齢別 0\n",
            "市区町村別一覧 0\n",
            "2019-09-16\n"
          ],
          "name": "stdout"
        },
        {
          "output_type": "stream",
          "text": [
            "/usr/local/lib/python3.6/dist-packages/japanera/japanera.py:873: UserWarning: There was error running cmp(key(Era), value) but skipped because ignore_error=True\n",
            "  warn(\"There was error running cmp(key(Era), value) but skipped because ignore_error=True\")\n"
          ],
          "name": "stderr"
        },
        {
          "output_type": "stream",
          "text": [
            "団体区分別 0\n",
            "都道府県一覧 0\n",
            "男女・年齢別 0\n",
            "市区町村別一覧 0\n",
            "2019-11-01\n"
          ],
          "name": "stdout"
        },
        {
          "output_type": "stream",
          "text": [
            "/usr/local/lib/python3.6/dist-packages/japanera/japanera.py:873: UserWarning: There was error running cmp(key(Era), value) but skipped because ignore_error=True\n",
            "  warn(\"There was error running cmp(key(Era), value) but skipped because ignore_error=True\")\n"
          ],
          "name": "stderr"
        },
        {
          "output_type": "stream",
          "text": [
            "団体区分別 0\n",
            "都道府県一覧 0\n",
            "男女・年齢別 0\n",
            "市区町村別一覧 0\n",
            "2020-01-20\n"
          ],
          "name": "stdout"
        },
        {
          "output_type": "stream",
          "text": [
            "/usr/local/lib/python3.6/dist-packages/japanera/japanera.py:873: UserWarning: There was error running cmp(key(Era), value) but skipped because ignore_error=True\n",
            "  warn(\"There was error running cmp(key(Era), value) but skipped because ignore_error=True\")\n"
          ],
          "name": "stderr"
        },
        {
          "output_type": "stream",
          "text": [
            "団体区分別 0\n",
            "都道府県一覧 0\n",
            "男女・年齢別 0\n",
            "市区町村別一覧 0\n",
            "2020-03-01\n"
          ],
          "name": "stdout"
        },
        {
          "output_type": "stream",
          "text": [
            "/usr/local/lib/python3.6/dist-packages/japanera/japanera.py:873: UserWarning: There was error running cmp(key(Era), value) but skipped because ignore_error=True\n",
            "  warn(\"There was error running cmp(key(Era), value) but skipped because ignore_error=True\")\n"
          ],
          "name": "stderr"
        },
        {
          "output_type": "stream",
          "text": [
            "団体区分別 0\n",
            "都道府県一覧 0\n",
            "男女・年齢別 0\n",
            "市区町村別一覧 0\n",
            "2020-04-01\n"
          ],
          "name": "stdout"
        },
        {
          "output_type": "stream",
          "text": [
            "/usr/local/lib/python3.6/dist-packages/japanera/japanera.py:873: UserWarning: There was error running cmp(key(Era), value) but skipped because ignore_error=True\n",
            "  warn(\"There was error running cmp(key(Era), value) but skipped because ignore_error=True\")\n"
          ],
          "name": "stderr"
        },
        {
          "output_type": "stream",
          "text": [
            "団体区分別 0\n",
            "都道府県一覧 0\n",
            "男女・年齢別 0\n",
            "市区町村別一覧 0\n",
            "2020-05-01\n"
          ],
          "name": "stdout"
        },
        {
          "output_type": "stream",
          "text": [
            "/usr/local/lib/python3.6/dist-packages/japanera/japanera.py:873: UserWarning: There was error running cmp(key(Era), value) but skipped because ignore_error=True\n",
            "  warn(\"There was error running cmp(key(Era), value) but skipped because ignore_error=True\")\n"
          ],
          "name": "stderr"
        },
        {
          "output_type": "stream",
          "text": [
            "団体区分別 0\n",
            "都道府県一覧 0\n",
            "男女・年齢別 0\n",
            "市区町村別一覧 0\n",
            "2020-06-01\n"
          ],
          "name": "stdout"
        },
        {
          "output_type": "stream",
          "text": [
            "/usr/local/lib/python3.6/dist-packages/japanera/japanera.py:873: UserWarning: There was error running cmp(key(Era), value) but skipped because ignore_error=True\n",
            "  warn(\"There was error running cmp(key(Era), value) but skipped because ignore_error=True\")\n"
          ],
          "name": "stderr"
        },
        {
          "output_type": "stream",
          "text": [
            "団体区分別 0\n",
            "都道府県一覧 0\n",
            "男女・年齢別 0\n",
            "市区町村別一覧 0\n",
            "2020-07-01\n"
          ],
          "name": "stdout"
        },
        {
          "output_type": "stream",
          "text": [
            "/usr/local/lib/python3.6/dist-packages/japanera/japanera.py:873: UserWarning: There was error running cmp(key(Era), value) but skipped because ignore_error=True\n",
            "  warn(\"There was error running cmp(key(Era), value) but skipped because ignore_error=True\")\n"
          ],
          "name": "stderr"
        },
        {
          "output_type": "stream",
          "text": [
            "団体区分別 0\n",
            "都道府県一覧 0\n",
            "男女・年齢別 0\n",
            "市区町村別一覧 0\n",
            "\n"
          ],
          "name": "stdout"
        }
      ]
    }
  ]
}