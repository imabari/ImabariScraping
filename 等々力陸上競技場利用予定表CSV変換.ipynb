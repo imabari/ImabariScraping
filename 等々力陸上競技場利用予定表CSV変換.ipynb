{
  "nbformat": 4,
  "nbformat_minor": 0,
  "metadata": {
    "colab": {
      "provenance": [],
      "toc_visible": true,
      "authorship_tag": "ABX9TyO1H7RcWvTv3juXo7s1BtWv",
      "include_colab_link": true
    },
    "kernelspec": {
      "name": "python3",
      "display_name": "Python 3"
    },
    "language_info": {
      "name": "python"
    }
  },
  "cells": [
    {
      "cell_type": "markdown",
      "metadata": {
        "id": "view-in-github",
        "colab_type": "text"
      },
      "source": [
        "<a href=\"https://colab.research.google.com/github/imabari/ImabariScraping/blob/master/%E7%AD%89%E3%80%85%E5%8A%9B%E9%99%B8%E4%B8%8A%E7%AB%B6%E6%8A%80%E5%A0%B4%E5%88%A9%E7%94%A8%E4%BA%88%E5%AE%9A%E8%A1%A8CSV%E5%A4%89%E6%8F%9B.ipynb\" target=\"_parent\"><img src=\"https://colab.research.google.com/assets/colab-badge.svg\" alt=\"Open In Colab\"/></a>"
      ]
    },
    {
      "cell_type": "markdown",
      "source": [
        "# インストール"
      ],
      "metadata": {
        "id": "5BzOE3hTNGmZ"
      }
    },
    {
      "cell_type": "code",
      "source": [
        "!pip install pdfplumber\n",
        "!pip install japanera"
      ],
      "metadata": {
        "colab": {
          "base_uri": "https://localhost:8080/",
          "height": 767
        },
        "id": "affCT_qBKDZA",
        "outputId": "f0728a37-60e0-4e12-b4e7-51eb12418ba5"
      },
      "execution_count": 1,
      "outputs": [
        {
          "output_type": "stream",
          "name": "stdout",
          "text": [
            "Looking in indexes: https://pypi.org/simple, https://us-python.pkg.dev/colab-wheels/public/simple/\n",
            "Collecting pdfplumber\n",
            "  Downloading pdfplumber-0.7.5-py3-none-any.whl (40 kB)\n",
            "\u001b[K     |████████████████████████████████| 40 kB 3.8 MB/s \n",
            "\u001b[?25hCollecting Wand>=0.6.10\n",
            "  Downloading Wand-0.6.10-py2.py3-none-any.whl (142 kB)\n",
            "\u001b[K     |████████████████████████████████| 142 kB 7.3 MB/s \n",
            "\u001b[?25hCollecting pdfminer.six==20220524\n",
            "  Downloading pdfminer.six-20220524-py3-none-any.whl (5.6 MB)\n",
            "\u001b[K     |████████████████████████████████| 5.6 MB 18.3 MB/s \n",
            "\u001b[?25hCollecting Pillow>=9.1\n",
            "  Downloading Pillow-9.3.0-cp37-cp37m-manylinux_2_17_x86_64.manylinux2014_x86_64.whl (3.2 MB)\n",
            "\u001b[K     |████████████████████████████████| 3.2 MB 34.2 MB/s \n",
            "\u001b[?25hRequirement already satisfied: charset-normalizer>=2.0.0 in /usr/local/lib/python3.7/dist-packages (from pdfminer.six==20220524->pdfplumber) (2.1.1)\n",
            "Collecting cryptography>=36.0.0\n",
            "  Downloading cryptography-38.0.3-cp36-abi3-manylinux_2_24_x86_64.whl (4.1 MB)\n",
            "\u001b[K     |████████████████████████████████| 4.1 MB 38.4 MB/s \n",
            "\u001b[?25hRequirement already satisfied: cffi>=1.12 in /usr/local/lib/python3.7/dist-packages (from cryptography>=36.0.0->pdfminer.six==20220524->pdfplumber) (1.15.1)\n",
            "Requirement already satisfied: pycparser in /usr/local/lib/python3.7/dist-packages (from cffi>=1.12->cryptography>=36.0.0->pdfminer.six==20220524->pdfplumber) (2.21)\n",
            "Installing collected packages: cryptography, Wand, Pillow, pdfminer.six, pdfplumber\n",
            "  Attempting uninstall: Pillow\n",
            "    Found existing installation: Pillow 7.1.2\n",
            "    Uninstalling Pillow-7.1.2:\n",
            "      Successfully uninstalled Pillow-7.1.2\n",
            "Successfully installed Pillow-9.3.0 Wand-0.6.10 cryptography-38.0.3 pdfminer.six-20220524 pdfplumber-0.7.5\n"
          ]
        },
        {
          "output_type": "display_data",
          "data": {
            "application/vnd.colab-display-data+json": {
              "pip_warning": {
                "packages": [
                  "PIL"
                ]
              }
            }
          },
          "metadata": {}
        },
        {
          "output_type": "stream",
          "name": "stdout",
          "text": [
            "Looking in indexes: https://pypi.org/simple, https://us-python.pkg.dev/colab-wheels/public/simple/\n",
            "Collecting japanera\n",
            "  Downloading Japanera-0.1.1.tar.gz (19 kB)\n",
            "Collecting kanjize\n",
            "  Downloading kanjize-1.1.0-py3-none-any.whl (5.2 kB)\n",
            "Building wheels for collected packages: japanera\n",
            "  Building wheel for japanera (setup.py) ... \u001b[?25l\u001b[?25hdone\n",
            "  Created wheel for japanera: filename=Japanera-0.1.1-py3-none-any.whl size=15897 sha256=0b46929652748d8f6658c3f2761f9079f55954fc763b4b5a2c77888d772ab99b\n",
            "  Stored in directory: /root/.cache/pip/wheels/12/84/d2/b99f78f4a3fd1e8a4538d3fbe0cb47ece44c07e65f7a7f761e\n",
            "Successfully built japanera\n",
            "Installing collected packages: kanjize, japanera\n",
            "Successfully installed japanera-0.1.1 kanjize-1.1.0\n"
          ]
        }
      ]
    },
    {
      "cell_type": "markdown",
      "source": [
        "# スクレイピング"
      ],
      "metadata": {
        "id": "rMeYQxPTNpSB"
      }
    },
    {
      "cell_type": "code",
      "source": [
        "import requests\n",
        "from bs4 import BeautifulSoup"
      ],
      "metadata": {
        "id": "CC6cItlAG7xF"
      },
      "execution_count": 2,
      "outputs": []
    },
    {
      "cell_type": "code",
      "source": [
        "from urllib.parse import urljoin"
      ],
      "metadata": {
        "id": "B3EWONNbG7xG"
      },
      "execution_count": 3,
      "outputs": []
    },
    {
      "cell_type": "code",
      "source": [
        "import pathlib"
      ],
      "metadata": {
        "id": "35F3fbeEG7xH"
      },
      "execution_count": 4,
      "outputs": []
    },
    {
      "cell_type": "code",
      "source": [
        "def fetch_soup(url, parser=\"html.parser\"):\n",
        "\n",
        "    r = requests.get(url, headers=headers)\n",
        "    r.raise_for_status()\n",
        "\n",
        "    soup = BeautifulSoup(r.content, parser)\n",
        "\n",
        "    return soup"
      ],
      "metadata": {
        "id": "Tj9XvAf7G7xL"
      },
      "execution_count": 5,
      "outputs": []
    },
    {
      "cell_type": "code",
      "source": [
        "def fetch_file(url, dir=\".\"):\n",
        "\n",
        "    p = pathlib.Path(dir, pathlib.PurePath(url).name)\n",
        "    p.parent.mkdir(parents=True, exist_ok=True)\n",
        "\n",
        "    if not p.exists():\n",
        "\n",
        "        r = requests.get(url)\n",
        "        r.raise_for_status()\n",
        "\n",
        "        with p.open(mode=\"wb\") as fw:\n",
        "            fw.write(r.content)\n",
        "\n",
        "    return p"
      ],
      "metadata": {
        "id": "OfXDqSTZG7xM"
      },
      "execution_count": 6,
      "outputs": []
    },
    {
      "cell_type": "code",
      "source": [
        "headers = {\n",
        "    \"User-Agent\": \"Mozilla/5.0 (Windows NT 10.0; WOW64; Trident/7.0; rv:11.0) like Gecko\"\n",
        "}"
      ],
      "metadata": {
        "id": "lzCJfLqkG7xJ"
      },
      "execution_count": 7,
      "outputs": []
    },
    {
      "cell_type": "code",
      "source": [
        "url = \"https://www.city.kawasaki.jp/nakahara/\""
      ],
      "metadata": {
        "id": "-RcLLhp9G7xN"
      },
      "execution_count": 8,
      "outputs": []
    },
    {
      "cell_type": "code",
      "source": [
        "link = urljoin(url, \"./page/0000088519.html\")"
      ],
      "metadata": {
        "id": "cniv8utdUG5m"
      },
      "execution_count": 9,
      "outputs": []
    },
    {
      "cell_type": "code",
      "source": [
        "soup = fetch_soup(link)"
      ],
      "metadata": {
        "id": "9j8OFsEYG7xO"
      },
      "execution_count": 10,
      "outputs": []
    },
    {
      "cell_type": "code",
      "source": [
        "pdf_links = []\n",
        "\n",
        "for i in soup.find(\"h2\", text=\"等々力陸上競技場利用予定表\").find_next_sibling(\"div\", class_=\"mol_attachfileblock\").select(\"ul > li > a\"):\n",
        "\n",
        "    d = {}\n",
        "\n",
        "    d[\"link\"] = urljoin(url, i.get(\"href\"))\n",
        "    d[\"text\"] = i.get_text(strip=True)\n",
        "\n",
        "    pdf_links.append(d)"
      ],
      "metadata": {
        "id": "w_aL1fUpHkpK"
      },
      "execution_count": 11,
      "outputs": []
    },
    {
      "cell_type": "code",
      "source": [
        "pdf_links"
      ],
      "metadata": {
        "colab": {
          "base_uri": "https://localhost:8080/"
        },
        "id": "lFV_wYOvJW_-",
        "outputId": "c1dfb7d3-55bd-4e3b-b90d-b53b0ffca1d8"
      },
      "execution_count": 12,
      "outputs": [
        {
          "output_type": "execute_result",
          "data": {
            "text/plain": [
              "[{'link': 'https://www.city.kawasaki.jp/nakahara/cmsfiles/contents/0000088/88519/202210.pdf',\n",
              "  'text': '令和4年10月分（9月20日更新）(PDF形式, 95.58KB)'},\n",
              " {'link': 'https://www.city.kawasaki.jp/nakahara/cmsfiles/contents/0000088/88519/202211.pdf',\n",
              "  'text': '令和4年11月分（10月21日更新）(PDF形式, 93.21KB)'}]"
            ]
          },
          "metadata": {},
          "execution_count": 12
        }
      ]
    },
    {
      "cell_type": "code",
      "source": [
        "# 最新\n",
        "p = fetch_file(pdf_links[-1][\"link\"])"
      ],
      "metadata": {
        "id": "hCbMG4OJHK7-"
      },
      "execution_count": 13,
      "outputs": []
    },
    {
      "cell_type": "markdown",
      "source": [
        "# 日付"
      ],
      "metadata": {
        "id": "vkst2pYnhAqm"
      }
    },
    {
      "cell_type": "code",
      "source": [
        "import re"
      ],
      "metadata": {
        "id": "nDUzkUS2YX_V"
      },
      "execution_count": 14,
      "outputs": []
    },
    {
      "cell_type": "code",
      "source": [
        "from datetime import date\n",
        "from japanera import (Japanera, EraDate, EraDateTime)"
      ],
      "metadata": {
        "id": "AQRJuFxxXdRt"
      },
      "execution_count": 15,
      "outputs": []
    },
    {
      "cell_type": "code",
      "source": [
        "s = pdf_links[-1][\"text\"]\n",
        "m = re.match(\"令和(\\d{1,2})年(\\d{1,2})月\", s)"
      ],
      "metadata": {
        "id": "9DyTfB2sV_KE"
      },
      "execution_count": 16,
      "outputs": []
    },
    {
      "cell_type": "code",
      "source": [
        "janera = Japanera()"
      ],
      "metadata": {
        "id": "LtFtIXgfXqJ7"
      },
      "execution_count": 17,
      "outputs": []
    },
    {
      "cell_type": "code",
      "source": [
        "dt_date = janera.strptime(m.group(0), \"%-E%-O年%m月\")[0]"
      ],
      "metadata": {
        "id": "scA7whXGXoFh"
      },
      "execution_count": 18,
      "outputs": []
    },
    {
      "cell_type": "code",
      "source": [
        "dt_date"
      ],
      "metadata": {
        "colab": {
          "base_uri": "https://localhost:8080/"
        },
        "id": "FJkr2qm4aglv",
        "outputId": "5ed1a206-045f-4708-8104-62d0d55df660"
      },
      "execution_count": 19,
      "outputs": [
        {
          "output_type": "execute_result",
          "data": {
            "text/plain": [
              "datetime.datetime(2022, 11, 1, 0, 0)"
            ]
          },
          "metadata": {},
          "execution_count": 19
        }
      ]
    },
    {
      "cell_type": "markdown",
      "source": [
        "# PDF"
      ],
      "metadata": {
        "id": "2rkK6dHPNKWS"
      }
    },
    {
      "cell_type": "code",
      "source": [
        "import pdfplumber\n",
        "import pandas as pd"
      ],
      "metadata": {
        "id": "vhsOXc6_KDZE"
      },
      "execution_count": 20,
      "outputs": []
    },
    {
      "cell_type": "code",
      "source": [
        "with pdfplumber.open(p) as pdf:\n",
        "\n",
        "    dfs = []\n",
        "\n",
        "    for page in pdf.pages:\n",
        "\n",
        "        for table in  page.extract_tables():\n",
        "\n",
        "            df = pd.DataFrame(table[2:], columns=[\"day\", \"曜日\", \"大会名\", \"午前\", \"午後\"])\n",
        "\n",
        "            df[\"year\"] = dt_date.year\n",
        "            df[\"month\"] = dt_date.month\n",
        "            df[\"day\"] = df[\"day\"].astype(int)\n",
        "\n",
        "            df[\"日付\"] = pd.to_datetime(df[[\"year\", \"month\", \"day\"]])\n",
        "\n",
        "            df[\"大会名\"].mask(df[\"大会名\"] == \"\", inplace=True)\n",
        "            df[[\"午前\", \"午後\"]] = df[[\"午前\", \"午後\"]].fillna(method=\"ffill\", axis=1)\n",
        "\n",
        "            dfs.append(df.reindex([\"日付\", \"曜日\", \"大会名\", \"午前\", \"午後\"], axis=1))"
      ],
      "metadata": {
        "id": "OviKY8bEKDZm"
      },
      "execution_count": 21,
      "outputs": []
    },
    {
      "cell_type": "code",
      "source": [
        "# 陸上競技場（メイン）\n",
        "dfs[0]"
      ],
      "metadata": {
        "colab": {
          "base_uri": "https://localhost:8080/",
          "height": 990
        },
        "id": "YpllKlSfRhkp",
        "outputId": "2fcda9d1-5b07-4cf4-e344-0eb98bc25aa3"
      },
      "execution_count": 22,
      "outputs": [
        {
          "output_type": "execute_result",
          "data": {
            "text/plain": [
              "           日付 曜日            大会名    午前    午後\n",
              "0  2022-11-01  火   中学校駅伝大会（予備日）     ×     ×\n",
              "1  2022-11-02  水            NaN     ○     ○\n",
              "2  2022-11-03  木            NaN     ○     ○\n",
              "3  2022-11-04  金            NaN     ○     ○\n",
              "4  2022-11-05  土  高校サッカー県予選　準決勝     ×     ×\n",
              "5  2022-11-06  日       ラグビースクール     ×     ×\n",
              "6  2022-11-07  月            休場日  None  None\n",
              "7  2022-11-08  火            NaN     ○     ○\n",
              "8  2022-11-09  水            NaN     ○     ○\n",
              "9  2022-11-10  木            NaN     ○     ○\n",
              "10 2022-11-11  金            NaN     ○     ○\n",
              "11 2022-11-12  土       高校陸上第２大会     ×     ×\n",
              "12 2022-11-13  日            NaN     ○     ○\n",
              "13 2022-11-14  月            休場日  None  None\n",
              "14 2022-11-15  火            NaN     ○     ○\n",
              "15 2022-11-16  水            NaN     ○     ○\n",
              "16 2022-11-17  木            NaN     ○     ○\n",
              "17 2022-11-18  金        多摩川マラソン     ×     ×\n",
              "18 2022-11-19  土        多摩川マラソン     ×     ×\n",
              "19 2022-11-20  日        多摩川マラソン     ×     ×\n",
              "20 2022-11-21  月            休場日  None  None\n",
              "21 2022-11-22  火            NaN     ○     ○\n",
              "22 2022-11-23  水            NaN     ○     ○\n",
              "23 2022-11-24  木      聾学校マラソン大会     ×     ×\n",
              "24 2022-11-25  金            NaN     ○     ○\n",
              "25 2022-11-26  土            整備日     ×     ×\n",
              "26 2022-11-27  日   フロンターレサッカー教室     ×     ×\n",
              "27 2022-11-28  月            休場日  None  None\n",
              "28 2022-11-29  火  聾学校マラソン大会（予備）     ×     ×\n",
              "29 2022-11-30  水            NaN     ○     ○"
            ],
            "text/html": [
              "\n",
              "  <div id=\"df-5bb458be-c9c8-4ae1-807b-508af2b56a53\">\n",
              "    <div class=\"colab-df-container\">\n",
              "      <div>\n",
              "<style scoped>\n",
              "    .dataframe tbody tr th:only-of-type {\n",
              "        vertical-align: middle;\n",
              "    }\n",
              "\n",
              "    .dataframe tbody tr th {\n",
              "        vertical-align: top;\n",
              "    }\n",
              "\n",
              "    .dataframe thead th {\n",
              "        text-align: right;\n",
              "    }\n",
              "</style>\n",
              "<table border=\"1\" class=\"dataframe\">\n",
              "  <thead>\n",
              "    <tr style=\"text-align: right;\">\n",
              "      <th></th>\n",
              "      <th>日付</th>\n",
              "      <th>曜日</th>\n",
              "      <th>大会名</th>\n",
              "      <th>午前</th>\n",
              "      <th>午後</th>\n",
              "    </tr>\n",
              "  </thead>\n",
              "  <tbody>\n",
              "    <tr>\n",
              "      <th>0</th>\n",
              "      <td>2022-11-01</td>\n",
              "      <td>火</td>\n",
              "      <td>中学校駅伝大会（予備日）</td>\n",
              "      <td>×</td>\n",
              "      <td>×</td>\n",
              "    </tr>\n",
              "    <tr>\n",
              "      <th>1</th>\n",
              "      <td>2022-11-02</td>\n",
              "      <td>水</td>\n",
              "      <td>NaN</td>\n",
              "      <td>○</td>\n",
              "      <td>○</td>\n",
              "    </tr>\n",
              "    <tr>\n",
              "      <th>2</th>\n",
              "      <td>2022-11-03</td>\n",
              "      <td>木</td>\n",
              "      <td>NaN</td>\n",
              "      <td>○</td>\n",
              "      <td>○</td>\n",
              "    </tr>\n",
              "    <tr>\n",
              "      <th>3</th>\n",
              "      <td>2022-11-04</td>\n",
              "      <td>金</td>\n",
              "      <td>NaN</td>\n",
              "      <td>○</td>\n",
              "      <td>○</td>\n",
              "    </tr>\n",
              "    <tr>\n",
              "      <th>4</th>\n",
              "      <td>2022-11-05</td>\n",
              "      <td>土</td>\n",
              "      <td>高校サッカー県予選　準決勝</td>\n",
              "      <td>×</td>\n",
              "      <td>×</td>\n",
              "    </tr>\n",
              "    <tr>\n",
              "      <th>5</th>\n",
              "      <td>2022-11-06</td>\n",
              "      <td>日</td>\n",
              "      <td>ラグビースクール</td>\n",
              "      <td>×</td>\n",
              "      <td>×</td>\n",
              "    </tr>\n",
              "    <tr>\n",
              "      <th>6</th>\n",
              "      <td>2022-11-07</td>\n",
              "      <td>月</td>\n",
              "      <td>休場日</td>\n",
              "      <td>None</td>\n",
              "      <td>None</td>\n",
              "    </tr>\n",
              "    <tr>\n",
              "      <th>7</th>\n",
              "      <td>2022-11-08</td>\n",
              "      <td>火</td>\n",
              "      <td>NaN</td>\n",
              "      <td>○</td>\n",
              "      <td>○</td>\n",
              "    </tr>\n",
              "    <tr>\n",
              "      <th>8</th>\n",
              "      <td>2022-11-09</td>\n",
              "      <td>水</td>\n",
              "      <td>NaN</td>\n",
              "      <td>○</td>\n",
              "      <td>○</td>\n",
              "    </tr>\n",
              "    <tr>\n",
              "      <th>9</th>\n",
              "      <td>2022-11-10</td>\n",
              "      <td>木</td>\n",
              "      <td>NaN</td>\n",
              "      <td>○</td>\n",
              "      <td>○</td>\n",
              "    </tr>\n",
              "    <tr>\n",
              "      <th>10</th>\n",
              "      <td>2022-11-11</td>\n",
              "      <td>金</td>\n",
              "      <td>NaN</td>\n",
              "      <td>○</td>\n",
              "      <td>○</td>\n",
              "    </tr>\n",
              "    <tr>\n",
              "      <th>11</th>\n",
              "      <td>2022-11-12</td>\n",
              "      <td>土</td>\n",
              "      <td>高校陸上第２大会</td>\n",
              "      <td>×</td>\n",
              "      <td>×</td>\n",
              "    </tr>\n",
              "    <tr>\n",
              "      <th>12</th>\n",
              "      <td>2022-11-13</td>\n",
              "      <td>日</td>\n",
              "      <td>NaN</td>\n",
              "      <td>○</td>\n",
              "      <td>○</td>\n",
              "    </tr>\n",
              "    <tr>\n",
              "      <th>13</th>\n",
              "      <td>2022-11-14</td>\n",
              "      <td>月</td>\n",
              "      <td>休場日</td>\n",
              "      <td>None</td>\n",
              "      <td>None</td>\n",
              "    </tr>\n",
              "    <tr>\n",
              "      <th>14</th>\n",
              "      <td>2022-11-15</td>\n",
              "      <td>火</td>\n",
              "      <td>NaN</td>\n",
              "      <td>○</td>\n",
              "      <td>○</td>\n",
              "    </tr>\n",
              "    <tr>\n",
              "      <th>15</th>\n",
              "      <td>2022-11-16</td>\n",
              "      <td>水</td>\n",
              "      <td>NaN</td>\n",
              "      <td>○</td>\n",
              "      <td>○</td>\n",
              "    </tr>\n",
              "    <tr>\n",
              "      <th>16</th>\n",
              "      <td>2022-11-17</td>\n",
              "      <td>木</td>\n",
              "      <td>NaN</td>\n",
              "      <td>○</td>\n",
              "      <td>○</td>\n",
              "    </tr>\n",
              "    <tr>\n",
              "      <th>17</th>\n",
              "      <td>2022-11-18</td>\n",
              "      <td>金</td>\n",
              "      <td>多摩川マラソン</td>\n",
              "      <td>×</td>\n",
              "      <td>×</td>\n",
              "    </tr>\n",
              "    <tr>\n",
              "      <th>18</th>\n",
              "      <td>2022-11-19</td>\n",
              "      <td>土</td>\n",
              "      <td>多摩川マラソン</td>\n",
              "      <td>×</td>\n",
              "      <td>×</td>\n",
              "    </tr>\n",
              "    <tr>\n",
              "      <th>19</th>\n",
              "      <td>2022-11-20</td>\n",
              "      <td>日</td>\n",
              "      <td>多摩川マラソン</td>\n",
              "      <td>×</td>\n",
              "      <td>×</td>\n",
              "    </tr>\n",
              "    <tr>\n",
              "      <th>20</th>\n",
              "      <td>2022-11-21</td>\n",
              "      <td>月</td>\n",
              "      <td>休場日</td>\n",
              "      <td>None</td>\n",
              "      <td>None</td>\n",
              "    </tr>\n",
              "    <tr>\n",
              "      <th>21</th>\n",
              "      <td>2022-11-22</td>\n",
              "      <td>火</td>\n",
              "      <td>NaN</td>\n",
              "      <td>○</td>\n",
              "      <td>○</td>\n",
              "    </tr>\n",
              "    <tr>\n",
              "      <th>22</th>\n",
              "      <td>2022-11-23</td>\n",
              "      <td>水</td>\n",
              "      <td>NaN</td>\n",
              "      <td>○</td>\n",
              "      <td>○</td>\n",
              "    </tr>\n",
              "    <tr>\n",
              "      <th>23</th>\n",
              "      <td>2022-11-24</td>\n",
              "      <td>木</td>\n",
              "      <td>聾学校マラソン大会</td>\n",
              "      <td>×</td>\n",
              "      <td>×</td>\n",
              "    </tr>\n",
              "    <tr>\n",
              "      <th>24</th>\n",
              "      <td>2022-11-25</td>\n",
              "      <td>金</td>\n",
              "      <td>NaN</td>\n",
              "      <td>○</td>\n",
              "      <td>○</td>\n",
              "    </tr>\n",
              "    <tr>\n",
              "      <th>25</th>\n",
              "      <td>2022-11-26</td>\n",
              "      <td>土</td>\n",
              "      <td>整備日</td>\n",
              "      <td>×</td>\n",
              "      <td>×</td>\n",
              "    </tr>\n",
              "    <tr>\n",
              "      <th>26</th>\n",
              "      <td>2022-11-27</td>\n",
              "      <td>日</td>\n",
              "      <td>フロンターレサッカー教室</td>\n",
              "      <td>×</td>\n",
              "      <td>×</td>\n",
              "    </tr>\n",
              "    <tr>\n",
              "      <th>27</th>\n",
              "      <td>2022-11-28</td>\n",
              "      <td>月</td>\n",
              "      <td>休場日</td>\n",
              "      <td>None</td>\n",
              "      <td>None</td>\n",
              "    </tr>\n",
              "    <tr>\n",
              "      <th>28</th>\n",
              "      <td>2022-11-29</td>\n",
              "      <td>火</td>\n",
              "      <td>聾学校マラソン大会（予備）</td>\n",
              "      <td>×</td>\n",
              "      <td>×</td>\n",
              "    </tr>\n",
              "    <tr>\n",
              "      <th>29</th>\n",
              "      <td>2022-11-30</td>\n",
              "      <td>水</td>\n",
              "      <td>NaN</td>\n",
              "      <td>○</td>\n",
              "      <td>○</td>\n",
              "    </tr>\n",
              "  </tbody>\n",
              "</table>\n",
              "</div>\n",
              "      <button class=\"colab-df-convert\" onclick=\"convertToInteractive('df-5bb458be-c9c8-4ae1-807b-508af2b56a53')\"\n",
              "              title=\"Convert this dataframe to an interactive table.\"\n",
              "              style=\"display:none;\">\n",
              "        \n",
              "  <svg xmlns=\"http://www.w3.org/2000/svg\" height=\"24px\"viewBox=\"0 0 24 24\"\n",
              "       width=\"24px\">\n",
              "    <path d=\"M0 0h24v24H0V0z\" fill=\"none\"/>\n",
              "    <path d=\"M18.56 5.44l.94 2.06.94-2.06 2.06-.94-2.06-.94-.94-2.06-.94 2.06-2.06.94zm-11 1L8.5 8.5l.94-2.06 2.06-.94-2.06-.94L8.5 2.5l-.94 2.06-2.06.94zm10 10l.94 2.06.94-2.06 2.06-.94-2.06-.94-.94-2.06-.94 2.06-2.06.94z\"/><path d=\"M17.41 7.96l-1.37-1.37c-.4-.4-.92-.59-1.43-.59-.52 0-1.04.2-1.43.59L10.3 9.45l-7.72 7.72c-.78.78-.78 2.05 0 2.83L4 21.41c.39.39.9.59 1.41.59.51 0 1.02-.2 1.41-.59l7.78-7.78 2.81-2.81c.8-.78.8-2.07 0-2.86zM5.41 20L4 18.59l7.72-7.72 1.47 1.35L5.41 20z\"/>\n",
              "  </svg>\n",
              "      </button>\n",
              "      \n",
              "  <style>\n",
              "    .colab-df-container {\n",
              "      display:flex;\n",
              "      flex-wrap:wrap;\n",
              "      gap: 12px;\n",
              "    }\n",
              "\n",
              "    .colab-df-convert {\n",
              "      background-color: #E8F0FE;\n",
              "      border: none;\n",
              "      border-radius: 50%;\n",
              "      cursor: pointer;\n",
              "      display: none;\n",
              "      fill: #1967D2;\n",
              "      height: 32px;\n",
              "      padding: 0 0 0 0;\n",
              "      width: 32px;\n",
              "    }\n",
              "\n",
              "    .colab-df-convert:hover {\n",
              "      background-color: #E2EBFA;\n",
              "      box-shadow: 0px 1px 2px rgba(60, 64, 67, 0.3), 0px 1px 3px 1px rgba(60, 64, 67, 0.15);\n",
              "      fill: #174EA6;\n",
              "    }\n",
              "\n",
              "    [theme=dark] .colab-df-convert {\n",
              "      background-color: #3B4455;\n",
              "      fill: #D2E3FC;\n",
              "    }\n",
              "\n",
              "    [theme=dark] .colab-df-convert:hover {\n",
              "      background-color: #434B5C;\n",
              "      box-shadow: 0px 1px 3px 1px rgba(0, 0, 0, 0.15);\n",
              "      filter: drop-shadow(0px 1px 2px rgba(0, 0, 0, 0.3));\n",
              "      fill: #FFFFFF;\n",
              "    }\n",
              "  </style>\n",
              "\n",
              "      <script>\n",
              "        const buttonEl =\n",
              "          document.querySelector('#df-5bb458be-c9c8-4ae1-807b-508af2b56a53 button.colab-df-convert');\n",
              "        buttonEl.style.display =\n",
              "          google.colab.kernel.accessAllowed ? 'block' : 'none';\n",
              "\n",
              "        async function convertToInteractive(key) {\n",
              "          const element = document.querySelector('#df-5bb458be-c9c8-4ae1-807b-508af2b56a53');\n",
              "          const dataTable =\n",
              "            await google.colab.kernel.invokeFunction('convertToInteractive',\n",
              "                                                     [key], {});\n",
              "          if (!dataTable) return;\n",
              "\n",
              "          const docLinkHtml = 'Like what you see? Visit the ' +\n",
              "            '<a target=\"_blank\" href=https://colab.research.google.com/notebooks/data_table.ipynb>data table notebook</a>'\n",
              "            + ' to learn more about interactive tables.';\n",
              "          element.innerHTML = '';\n",
              "          dataTable['output_type'] = 'display_data';\n",
              "          await google.colab.output.renderOutput(dataTable, element);\n",
              "          const docLink = document.createElement('div');\n",
              "          docLink.innerHTML = docLinkHtml;\n",
              "          element.appendChild(docLink);\n",
              "        }\n",
              "      </script>\n",
              "    </div>\n",
              "  </div>\n",
              "  "
            ]
          },
          "metadata": {},
          "execution_count": 22
        }
      ]
    },
    {
      "cell_type": "code",
      "source": [
        "dfs[0].to_csv(f\"{dt_date:%Y%m%d}_main.csv\", encoding=\"utf_8_sig\", index=False)"
      ],
      "metadata": {
        "id": "OJK6yEEHexTf"
      },
      "execution_count": 23,
      "outputs": []
    },
    {
      "cell_type": "code",
      "source": [
        "# 陸上競技場（補助）\n",
        "dfs[1]"
      ],
      "metadata": {
        "colab": {
          "base_uri": "https://localhost:8080/",
          "height": 990
        },
        "id": "-MsY0gRxQOnv",
        "outputId": "8d1c96b6-7b3a-4ce7-d154-0351526ba1ca"
      },
      "execution_count": 24,
      "outputs": [
        {
          "output_type": "execute_result",
          "data": {
            "text/plain": [
              "           日付 曜日                        大会名    午前    午後\n",
              "0  2022-11-01  火                        NaN     ○     ○\n",
              "1  2022-11-02  水                        NaN     ○     ○\n",
              "2  2022-11-03  木                 AMラグビースクール     ×     〇\n",
              "3  2022-11-04  金                        NaN     ○     ○\n",
              "4  2022-11-05  土                        NaN     ○     ○\n",
              "5  2022-11-06  日                        NaN     ○     ○\n",
              "6  2022-11-07  月                        休場日  None  None\n",
              "7  2022-11-08  火                        NaN     ○     ○\n",
              "8  2022-11-09  水                        NaN     ○     ○\n",
              "9  2022-11-10  木                        NaN     ○     ○\n",
              "10 2022-11-11  金                        NaN     ○     ○\n",
              "11 2022-11-12  土                   高校陸上第２大会     ×     ×\n",
              "12 2022-11-13  日                        NaN     ○     ○\n",
              "13 2022-11-14  月                        休場日  None  None\n",
              "14 2022-11-15  火                        NaN     ○     ○\n",
              "15 2022-11-16  水                        NaN     ○     ○\n",
              "16 2022-11-17  木                        NaN     ○     ○\n",
              "17 2022-11-18  金                    多摩川マラソン     ×     ×\n",
              "18 2022-11-19  土                    多摩川マラソン     ×     ×\n",
              "19 2022-11-20  日                    多摩川マラソン     ×     ×\n",
              "20 2022-11-21  月                        休場日  None  None\n",
              "21 2022-11-22  火                        NaN     ○     ○\n",
              "22 2022-11-23  水                   PM4種選抜研修     〇     ×\n",
              "23 2022-11-24  木                        NaN     ○     ○\n",
              "24 2022-11-25  金                        NaN     ○     ○\n",
              "25 2022-11-26  土  AMラグビースクール/PM U-9秋季サッカー大会     ×     ×\n",
              "26 2022-11-27  日                U-9秋季サッカー大会     ×     ×\n",
              "27 2022-11-28  月                        休場日  None  None\n",
              "28 2022-11-29  火                        NaN     ○     ○\n",
              "29 2022-11-30  水                        NaN     ○     ○"
            ],
            "text/html": [
              "\n",
              "  <div id=\"df-e00be14e-8b70-452e-8875-61cbd1d9d5bc\">\n",
              "    <div class=\"colab-df-container\">\n",
              "      <div>\n",
              "<style scoped>\n",
              "    .dataframe tbody tr th:only-of-type {\n",
              "        vertical-align: middle;\n",
              "    }\n",
              "\n",
              "    .dataframe tbody tr th {\n",
              "        vertical-align: top;\n",
              "    }\n",
              "\n",
              "    .dataframe thead th {\n",
              "        text-align: right;\n",
              "    }\n",
              "</style>\n",
              "<table border=\"1\" class=\"dataframe\">\n",
              "  <thead>\n",
              "    <tr style=\"text-align: right;\">\n",
              "      <th></th>\n",
              "      <th>日付</th>\n",
              "      <th>曜日</th>\n",
              "      <th>大会名</th>\n",
              "      <th>午前</th>\n",
              "      <th>午後</th>\n",
              "    </tr>\n",
              "  </thead>\n",
              "  <tbody>\n",
              "    <tr>\n",
              "      <th>0</th>\n",
              "      <td>2022-11-01</td>\n",
              "      <td>火</td>\n",
              "      <td>NaN</td>\n",
              "      <td>○</td>\n",
              "      <td>○</td>\n",
              "    </tr>\n",
              "    <tr>\n",
              "      <th>1</th>\n",
              "      <td>2022-11-02</td>\n",
              "      <td>水</td>\n",
              "      <td>NaN</td>\n",
              "      <td>○</td>\n",
              "      <td>○</td>\n",
              "    </tr>\n",
              "    <tr>\n",
              "      <th>2</th>\n",
              "      <td>2022-11-03</td>\n",
              "      <td>木</td>\n",
              "      <td>AMラグビースクール</td>\n",
              "      <td>×</td>\n",
              "      <td>〇</td>\n",
              "    </tr>\n",
              "    <tr>\n",
              "      <th>3</th>\n",
              "      <td>2022-11-04</td>\n",
              "      <td>金</td>\n",
              "      <td>NaN</td>\n",
              "      <td>○</td>\n",
              "      <td>○</td>\n",
              "    </tr>\n",
              "    <tr>\n",
              "      <th>4</th>\n",
              "      <td>2022-11-05</td>\n",
              "      <td>土</td>\n",
              "      <td>NaN</td>\n",
              "      <td>○</td>\n",
              "      <td>○</td>\n",
              "    </tr>\n",
              "    <tr>\n",
              "      <th>5</th>\n",
              "      <td>2022-11-06</td>\n",
              "      <td>日</td>\n",
              "      <td>NaN</td>\n",
              "      <td>○</td>\n",
              "      <td>○</td>\n",
              "    </tr>\n",
              "    <tr>\n",
              "      <th>6</th>\n",
              "      <td>2022-11-07</td>\n",
              "      <td>月</td>\n",
              "      <td>休場日</td>\n",
              "      <td>None</td>\n",
              "      <td>None</td>\n",
              "    </tr>\n",
              "    <tr>\n",
              "      <th>7</th>\n",
              "      <td>2022-11-08</td>\n",
              "      <td>火</td>\n",
              "      <td>NaN</td>\n",
              "      <td>○</td>\n",
              "      <td>○</td>\n",
              "    </tr>\n",
              "    <tr>\n",
              "      <th>8</th>\n",
              "      <td>2022-11-09</td>\n",
              "      <td>水</td>\n",
              "      <td>NaN</td>\n",
              "      <td>○</td>\n",
              "      <td>○</td>\n",
              "    </tr>\n",
              "    <tr>\n",
              "      <th>9</th>\n",
              "      <td>2022-11-10</td>\n",
              "      <td>木</td>\n",
              "      <td>NaN</td>\n",
              "      <td>○</td>\n",
              "      <td>○</td>\n",
              "    </tr>\n",
              "    <tr>\n",
              "      <th>10</th>\n",
              "      <td>2022-11-11</td>\n",
              "      <td>金</td>\n",
              "      <td>NaN</td>\n",
              "      <td>○</td>\n",
              "      <td>○</td>\n",
              "    </tr>\n",
              "    <tr>\n",
              "      <th>11</th>\n",
              "      <td>2022-11-12</td>\n",
              "      <td>土</td>\n",
              "      <td>高校陸上第２大会</td>\n",
              "      <td>×</td>\n",
              "      <td>×</td>\n",
              "    </tr>\n",
              "    <tr>\n",
              "      <th>12</th>\n",
              "      <td>2022-11-13</td>\n",
              "      <td>日</td>\n",
              "      <td>NaN</td>\n",
              "      <td>○</td>\n",
              "      <td>○</td>\n",
              "    </tr>\n",
              "    <tr>\n",
              "      <th>13</th>\n",
              "      <td>2022-11-14</td>\n",
              "      <td>月</td>\n",
              "      <td>休場日</td>\n",
              "      <td>None</td>\n",
              "      <td>None</td>\n",
              "    </tr>\n",
              "    <tr>\n",
              "      <th>14</th>\n",
              "      <td>2022-11-15</td>\n",
              "      <td>火</td>\n",
              "      <td>NaN</td>\n",
              "      <td>○</td>\n",
              "      <td>○</td>\n",
              "    </tr>\n",
              "    <tr>\n",
              "      <th>15</th>\n",
              "      <td>2022-11-16</td>\n",
              "      <td>水</td>\n",
              "      <td>NaN</td>\n",
              "      <td>○</td>\n",
              "      <td>○</td>\n",
              "    </tr>\n",
              "    <tr>\n",
              "      <th>16</th>\n",
              "      <td>2022-11-17</td>\n",
              "      <td>木</td>\n",
              "      <td>NaN</td>\n",
              "      <td>○</td>\n",
              "      <td>○</td>\n",
              "    </tr>\n",
              "    <tr>\n",
              "      <th>17</th>\n",
              "      <td>2022-11-18</td>\n",
              "      <td>金</td>\n",
              "      <td>多摩川マラソン</td>\n",
              "      <td>×</td>\n",
              "      <td>×</td>\n",
              "    </tr>\n",
              "    <tr>\n",
              "      <th>18</th>\n",
              "      <td>2022-11-19</td>\n",
              "      <td>土</td>\n",
              "      <td>多摩川マラソン</td>\n",
              "      <td>×</td>\n",
              "      <td>×</td>\n",
              "    </tr>\n",
              "    <tr>\n",
              "      <th>19</th>\n",
              "      <td>2022-11-20</td>\n",
              "      <td>日</td>\n",
              "      <td>多摩川マラソン</td>\n",
              "      <td>×</td>\n",
              "      <td>×</td>\n",
              "    </tr>\n",
              "    <tr>\n",
              "      <th>20</th>\n",
              "      <td>2022-11-21</td>\n",
              "      <td>月</td>\n",
              "      <td>休場日</td>\n",
              "      <td>None</td>\n",
              "      <td>None</td>\n",
              "    </tr>\n",
              "    <tr>\n",
              "      <th>21</th>\n",
              "      <td>2022-11-22</td>\n",
              "      <td>火</td>\n",
              "      <td>NaN</td>\n",
              "      <td>○</td>\n",
              "      <td>○</td>\n",
              "    </tr>\n",
              "    <tr>\n",
              "      <th>22</th>\n",
              "      <td>2022-11-23</td>\n",
              "      <td>水</td>\n",
              "      <td>PM4種選抜研修</td>\n",
              "      <td>〇</td>\n",
              "      <td>×</td>\n",
              "    </tr>\n",
              "    <tr>\n",
              "      <th>23</th>\n",
              "      <td>2022-11-24</td>\n",
              "      <td>木</td>\n",
              "      <td>NaN</td>\n",
              "      <td>○</td>\n",
              "      <td>○</td>\n",
              "    </tr>\n",
              "    <tr>\n",
              "      <th>24</th>\n",
              "      <td>2022-11-25</td>\n",
              "      <td>金</td>\n",
              "      <td>NaN</td>\n",
              "      <td>○</td>\n",
              "      <td>○</td>\n",
              "    </tr>\n",
              "    <tr>\n",
              "      <th>25</th>\n",
              "      <td>2022-11-26</td>\n",
              "      <td>土</td>\n",
              "      <td>AMラグビースクール/PM U-9秋季サッカー大会</td>\n",
              "      <td>×</td>\n",
              "      <td>×</td>\n",
              "    </tr>\n",
              "    <tr>\n",
              "      <th>26</th>\n",
              "      <td>2022-11-27</td>\n",
              "      <td>日</td>\n",
              "      <td>U-9秋季サッカー大会</td>\n",
              "      <td>×</td>\n",
              "      <td>×</td>\n",
              "    </tr>\n",
              "    <tr>\n",
              "      <th>27</th>\n",
              "      <td>2022-11-28</td>\n",
              "      <td>月</td>\n",
              "      <td>休場日</td>\n",
              "      <td>None</td>\n",
              "      <td>None</td>\n",
              "    </tr>\n",
              "    <tr>\n",
              "      <th>28</th>\n",
              "      <td>2022-11-29</td>\n",
              "      <td>火</td>\n",
              "      <td>NaN</td>\n",
              "      <td>○</td>\n",
              "      <td>○</td>\n",
              "    </tr>\n",
              "    <tr>\n",
              "      <th>29</th>\n",
              "      <td>2022-11-30</td>\n",
              "      <td>水</td>\n",
              "      <td>NaN</td>\n",
              "      <td>○</td>\n",
              "      <td>○</td>\n",
              "    </tr>\n",
              "  </tbody>\n",
              "</table>\n",
              "</div>\n",
              "      <button class=\"colab-df-convert\" onclick=\"convertToInteractive('df-e00be14e-8b70-452e-8875-61cbd1d9d5bc')\"\n",
              "              title=\"Convert this dataframe to an interactive table.\"\n",
              "              style=\"display:none;\">\n",
              "        \n",
              "  <svg xmlns=\"http://www.w3.org/2000/svg\" height=\"24px\"viewBox=\"0 0 24 24\"\n",
              "       width=\"24px\">\n",
              "    <path d=\"M0 0h24v24H0V0z\" fill=\"none\"/>\n",
              "    <path d=\"M18.56 5.44l.94 2.06.94-2.06 2.06-.94-2.06-.94-.94-2.06-.94 2.06-2.06.94zm-11 1L8.5 8.5l.94-2.06 2.06-.94-2.06-.94L8.5 2.5l-.94 2.06-2.06.94zm10 10l.94 2.06.94-2.06 2.06-.94-2.06-.94-.94-2.06-.94 2.06-2.06.94z\"/><path d=\"M17.41 7.96l-1.37-1.37c-.4-.4-.92-.59-1.43-.59-.52 0-1.04.2-1.43.59L10.3 9.45l-7.72 7.72c-.78.78-.78 2.05 0 2.83L4 21.41c.39.39.9.59 1.41.59.51 0 1.02-.2 1.41-.59l7.78-7.78 2.81-2.81c.8-.78.8-2.07 0-2.86zM5.41 20L4 18.59l7.72-7.72 1.47 1.35L5.41 20z\"/>\n",
              "  </svg>\n",
              "      </button>\n",
              "      \n",
              "  <style>\n",
              "    .colab-df-container {\n",
              "      display:flex;\n",
              "      flex-wrap:wrap;\n",
              "      gap: 12px;\n",
              "    }\n",
              "\n",
              "    .colab-df-convert {\n",
              "      background-color: #E8F0FE;\n",
              "      border: none;\n",
              "      border-radius: 50%;\n",
              "      cursor: pointer;\n",
              "      display: none;\n",
              "      fill: #1967D2;\n",
              "      height: 32px;\n",
              "      padding: 0 0 0 0;\n",
              "      width: 32px;\n",
              "    }\n",
              "\n",
              "    .colab-df-convert:hover {\n",
              "      background-color: #E2EBFA;\n",
              "      box-shadow: 0px 1px 2px rgba(60, 64, 67, 0.3), 0px 1px 3px 1px rgba(60, 64, 67, 0.15);\n",
              "      fill: #174EA6;\n",
              "    }\n",
              "\n",
              "    [theme=dark] .colab-df-convert {\n",
              "      background-color: #3B4455;\n",
              "      fill: #D2E3FC;\n",
              "    }\n",
              "\n",
              "    [theme=dark] .colab-df-convert:hover {\n",
              "      background-color: #434B5C;\n",
              "      box-shadow: 0px 1px 3px 1px rgba(0, 0, 0, 0.15);\n",
              "      filter: drop-shadow(0px 1px 2px rgba(0, 0, 0, 0.3));\n",
              "      fill: #FFFFFF;\n",
              "    }\n",
              "  </style>\n",
              "\n",
              "      <script>\n",
              "        const buttonEl =\n",
              "          document.querySelector('#df-e00be14e-8b70-452e-8875-61cbd1d9d5bc button.colab-df-convert');\n",
              "        buttonEl.style.display =\n",
              "          google.colab.kernel.accessAllowed ? 'block' : 'none';\n",
              "\n",
              "        async function convertToInteractive(key) {\n",
              "          const element = document.querySelector('#df-e00be14e-8b70-452e-8875-61cbd1d9d5bc');\n",
              "          const dataTable =\n",
              "            await google.colab.kernel.invokeFunction('convertToInteractive',\n",
              "                                                     [key], {});\n",
              "          if (!dataTable) return;\n",
              "\n",
              "          const docLinkHtml = 'Like what you see? Visit the ' +\n",
              "            '<a target=\"_blank\" href=https://colab.research.google.com/notebooks/data_table.ipynb>data table notebook</a>'\n",
              "            + ' to learn more about interactive tables.';\n",
              "          element.innerHTML = '';\n",
              "          dataTable['output_type'] = 'display_data';\n",
              "          await google.colab.output.renderOutput(dataTable, element);\n",
              "          const docLink = document.createElement('div');\n",
              "          docLink.innerHTML = docLinkHtml;\n",
              "          element.appendChild(docLink);\n",
              "        }\n",
              "      </script>\n",
              "    </div>\n",
              "  </div>\n",
              "  "
            ]
          },
          "metadata": {},
          "execution_count": 24
        }
      ]
    },
    {
      "cell_type": "code",
      "source": [
        "dfs[1].to_csv(f\"{dt_date:%Y%m%d}_sub.csv\", encoding=\"utf_8_sig\", index=False)"
      ],
      "metadata": {
        "id": "0-LkDcZwPFIk"
      },
      "execution_count": 25,
      "outputs": []
    }
  ]
}